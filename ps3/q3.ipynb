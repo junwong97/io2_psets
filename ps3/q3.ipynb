{
 "cells": [
  {
   "cell_type": "code",
   "execution_count": 13,
   "id": "twenty-equivalent",
   "metadata": {},
   "outputs": [],
   "source": [
    "using Distributions, Random, Plots, DataFrames, Optim, Statistics\n",
    "using LinearAlgebra, StatsFuns, ScikitLearn, CSV, SparseArrays, GLM, LaTeXTabulars"
   ]
  },
  {
   "cell_type": "code",
   "execution_count": 14,
   "id": "molecular-journalism",
   "metadata": {},
   "outputs": [],
   "source": [
    "bids = DataFrame(CSV.File(\"../Data/bids.csv\"));\n",
    "items = DataFrame(CSV.File(\"../Data/items.csv\"));\n",
    "attributes = DataFrame(CSV.File(\"../Data/sparse_attributes.csv\"));\n",
    "sparse_attributes = sparse(attributes[!,1], attributes[!,2], attributes[!,3]);"
   ]
  },
  {
   "cell_type": "markdown",
   "id": "impaired-cycle",
   "metadata": {},
   "source": [
    "# 1. Some summary stats"
   ]
  },
  {
   "cell_type": "code",
   "execution_count": 15,
   "id": "played-monthly",
   "metadata": {},
   "outputs": [],
   "source": [
    "bids[!,:log_bid_value] = log.(bids[!,:bid_value])\n",
    "gbids = groupby(bids, :item_num)\n",
    "gbids = combine(gbids, nrow => :num_bids);\n",
    "bids_sum = combine(bids, :log_bid_value => mean, :log_bid_value => std, :log_bid_value => median, :log_bid_value => maximum, :log_bid_value => minimum);\n",
    "gbids_sum = combine(gbids, :num_bids => mean, :num_bids => std, :num_bids => median, :num_bids => maximum, :num_bids => minimum);"
   ]
  },
  {
   "cell_type": "code",
   "execution_count": 16,
   "id": "passing-coordinator",
   "metadata": {},
   "outputs": [],
   "source": [
    "latex_tabular(\"output/ps3_q3_part1summary.tex\",\n",
    "              Tabular(\"cccccc\"),\n",
    "              [Rule(:top),\n",
    "               [\"\", \"Mean\", \"SD\", \"Median\", \"Maximum\", \"Minimum\"],\n",
    "               Rule(:mid),\n",
    "               hcat(\"Log Bid Value\", round.(Array(bids_sum), digits=3)),\n",
    "               hcat(\"Number of Bids\", round.(Array(gbids_sum), digits=3)),\n",
    "               Rule(:bottom)])"
   ]
  },
  {
   "cell_type": "markdown",
   "id": "regulated-hometown",
   "metadata": {},
   "source": [
    "# 2. Estimate $\\gamma$"
   ]
  },
  {
   "cell_type": "code",
   "execution_count": 17,
   "id": "informed-parish",
   "metadata": {
    "scrolled": true
   },
   "outputs": [],
   "source": [
    "# Create a dataframe with items that observe full participation\n",
    "items.row_num = 1:nrow(items)\n",
    "gbids = innerjoin(gbids, items, on=:item_num);\n",
    "no_selection_items = gbids[gbids.num_bids .== gbids.pred_n_participant, [:item_num, :row_num, :pred_n_participant]];\n",
    "num = no_selection_items.row_num\n",
    "no_selection_items = innerjoin(bids, no_selection_items, on=\"item_num\");\n",
    "no_selection_attributes = DataFrame(Matrix{Float64}(sparse_attributes)[num,:], :auto);\n",
    "no_selection_attributes.row_num = num;\n",
    "no_selection_items = innerjoin(no_selection_items, no_selection_attributes, on=\"row_num\");"
   ]
  },
  {
   "cell_type": "code",
   "execution_count": 18,
   "id": "varied-bailey",
   "metadata": {},
   "outputs": [],
   "source": [
    "X = sparse(Array(no_selection_items[:,names(no_selection_items, Not([:log_bid_value, :bid_value, :row_num, :item_num, :pred_n_participant]))]));\n",
    "Y = Array(no_selection_items[:,:log_bid_value]);"
   ]
  },
  {
   "cell_type": "code",
   "execution_count": 19,
   "id": "integral-ancient",
   "metadata": {},
   "outputs": [
    {
     "name": "stderr",
     "output_type": "stream",
     "text": [
      "┌ Info: Running `conda install -y -c conda-forge llvm-openmp` in root environment\n",
      "└ @ Conda /Users/junwong/.julia/packages/Conda/x2UxR/src/Conda.jl:127\n"
     ]
    },
    {
     "name": "stdout",
     "output_type": "stream",
     "text": [
      "Collecting package metadata (current_repodata.json): ...working... done\n",
      "Solving environment: ...working... done\n",
      "\n",
      "# All requested packages already installed.\n",
      "\n"
     ]
    },
    {
     "name": "stderr",
     "output_type": "stream",
     "text": [
      "WARNING: redefinition of constant LinearRegression. This may fail, cause incorrect answers, or produce other errors.\n",
      "┌ Info: Running `conda install -y -c conda-forge llvm-openmp` in root environment\n",
      "└ @ Conda /Users/junwong/.julia/packages/Conda/x2UxR/src/Conda.jl:127\n"
     ]
    },
    {
     "name": "stdout",
     "output_type": "stream",
     "text": [
      "Collecting package metadata (current_repodata.json): ...working... done\n",
      "Solving environment: ...working... done\n",
      "\n",
      "# All requested packages already installed.\n",
      "\n"
     ]
    },
    {
     "name": "stderr",
     "output_type": "stream",
     "text": [
      "┌ Info: Running `conda install -y -c conda-forge llvm-openmp` in root environment\n",
      "└ @ Conda /Users/junwong/.julia/packages/Conda/x2UxR/src/Conda.jl:127\n"
     ]
    },
    {
     "name": "stdout",
     "output_type": "stream",
     "text": [
      "Collecting package metadata (current_repodata.json): ...working... done\n",
      "Solving environment: ...working... done\n",
      "\n",
      "# All requested packages already installed.\n",
      "\n"
     ]
    },
    {
     "data": {
      "text/plain": [
       "0.2899437096764593"
      ]
     },
     "execution_count": 19,
     "metadata": {},
     "output_type": "execute_result"
    }
   ],
   "source": [
    "# Method 1: Linear regression\n",
    "@sk_import linear_model: LinearRegression\n",
    "ols = ScikitLearn.fit!(LinearRegression(), X, Y)\n",
    "Ŷ = ScikitLearn.predict(ols, X);\n",
    "ols_mse = mean((Ŷ .- Y).^2)\n",
    "\n",
    "# Method 2: Lasso\n",
    "@sk_import linear_model: Lasso\n",
    "lasso=ScikitLearn.fit!(Lasso(alpha=0.001), X, Y)\n",
    "Ŷ = ScikitLearn.predict(lasso, X)\n",
    "lasso_mse = mean((Ŷ .- Y).^2)\n",
    "\n",
    "# Method 3: Neural net \n",
    "@sk_import neural_network: MLPRegressor\n",
    "clf = MLPRegressor(alpha=1e-5, random_state=1)\n",
    "nn_reg = ScikitLearn.fit!(clf, X, Y)\n",
    "Ŷ = ScikitLearn.predict(nn_reg, X)\n",
    "nn_mse = mean((Ŷ .- Y).^2)"
   ]
  },
  {
   "cell_type": "code",
   "execution_count": 20,
   "id": "faced-baptist",
   "metadata": {},
   "outputs": [],
   "source": [
    "latex_tabular(\"output/ps3_q3_mse.tex\",\n",
    "              Tabular(\"cc\"),\n",
    "              [Rule(:top),\n",
    "               [\"\", \"MSE\"],\n",
    "               Rule(:mid),\n",
    "               [\"OLS\", round(ols_mse, digits=3)],\n",
    "               [\"Lasso\", round(lasso_mse, digits=3)],\n",
    "               [\"Neural Net\", round(nn_mse, digits=3)],\n",
    "               Rule(:bottom)])"
   ]
  },
  {
   "cell_type": "code",
   "execution_count": 21,
   "id": "following-cologne",
   "metadata": {},
   "outputs": [],
   "source": [
    "# Homogenized log bids\n",
    "no_selection_items.resid_bid = Y - Ŷ;\n",
    "\n",
    "highest_bids = combine(groupby(no_selection_items, :item_num)) do sdf\n",
    "       first(sort(sdf, :resid_bid, rev=true), 2)[:,[:item_num, :pred_n_participant, :resid_bid]]\n",
    "       end\n",
    "# reshape into two columns\n",
    "highest_bids.ranking = repeat([\"first\", \"second\"], Integer(size(highest_bids,1)/2));\n",
    "highest_bids = unstack(highest_bids, [:item_num, :pred_n_participant], :ranking, :resid_bid)\n",
    "\n",
    "X_3 = Array(highest_bids[2 .<= highest_bids[!,:pred_n_participant] .<= 3, [:first, :second]]);\n",
    "X_7 = Array(highest_bids[4 .<= highest_bids[!,:pred_n_participant] .<= 7, [:first, :second]]);\n",
    "X_8 = Array(highest_bids[8 .<= highest_bids[!,:pred_n_participant], [:first, :second]]);"
   ]
  },
  {
   "cell_type": "code",
   "execution_count": 22,
   "id": "indian-reduction",
   "metadata": {},
   "outputs": [],
   "source": [
    "bids_sum = combine(no_selection_items, :resid_bid => mean, :resid_bid => std, :resid_bid => median, :resid_bid => maximum, :resid_bid => minimum);\n",
    "latex_tabular(\"output/ps3_q3_part7summary.tex\",\n",
    "              Tabular(\"cccccc\"),\n",
    "              [Rule(:top),\n",
    "               [\"\", \"Mean\", \"SD\", \"Median\", \"Maximum\", \"Minimum\"],\n",
    "               Rule(:mid),\n",
    "               hcat(\"Homogenized Log Bid\", round.(Array(bids_sum), digits=3)),\n",
    "               Rule(:bottom)])"
   ]
  },
  {
   "cell_type": "markdown",
   "id": "reliable-basis",
   "metadata": {},
   "source": [
    "# 3. Song (2004)"
   ]
  },
  {
   "cell_type": "code",
   "execution_count": 23,
   "id": "rolled-colon",
   "metadata": {},
   "outputs": [
    {
     "name": "stderr",
     "output_type": "stream",
     "text": [
      "┌ Info: Running `conda install -y -c conda-forge llvm-openmp` in root environment\n",
      "└ @ Conda /Users/junwong/.julia/packages/Conda/x2UxR/src/Conda.jl:127\n"
     ]
    },
    {
     "name": "stdout",
     "output_type": "stream",
     "text": [
      "Collecting package metadata (current_repodata.json): ...working... done\n",
      "Solving environment: ...working... done\n",
      "\n",
      "# All requested packages already installed.\n",
      "\n"
     ]
    },
    {
     "name": "stderr",
     "output_type": "stream",
     "text": [
      "WARNING: redefinition of constant GaussianMixture. This may fail, cause incorrect answers, or produce other errors.\n"
     ]
    }
   ],
   "source": [
    "@sk_import mixture: GaussianMixture \n",
    "\n",
    "all_cdf = []\n",
    "all_pdf = []\n",
    "for x in [X_3, X_7, X_8]\n",
    "    mixing = ScikitLearn.fit!(GaussianMixture(n_components=3), x) \n",
    "    blah = hcat(-2:0.01:2, -2:0.01:2)\n",
    "    pdf = exp.(score_samples(mixing, blah))\n",
    "    cdf = cumsum(pdf) ./ maximum(cumsum(pdf))\n",
    "    push!(all_pdf, pdf)\n",
    "    push!(all_cdf, cdf)\n",
    "end\n"
   ]
  },
  {
   "cell_type": "code",
   "execution_count": 24,
   "id": "useful-begin",
   "metadata": {},
   "outputs": [
    {
     "data": {
      "text/plain": [
       "\"/Users/junwong/Documents/io2_psets/ps3/output/bids_cdf.pdf\""
      ]
     },
     "execution_count": 24,
     "metadata": {},
     "output_type": "execute_result"
    }
   ],
   "source": [
    "plot(-2:0.01:2, all_cdf[1], labels = \"2-3 participants\")\n",
    "plot!(-2:0.01:2, all_cdf[2], labels = \"4-7 participants\")\n",
    "plot!(-2:0.01:2, all_cdf[3], labels =\"8+ participants\", legend = :topleft)\n",
    "savefig(\"output/bids_cdf.pdf\")"
   ]
  },
  {
   "cell_type": "code",
   "execution_count": null,
   "id": "moving-reservation",
   "metadata": {},
   "outputs": [],
   "source": [
    "# plot optimal reserve price \n",
    "p = []\n",
    "iter = 1\n",
    "for x in -2:0.01:2 \n",
    "    r = (1 .- all_cdf[1][iter])./all_pdf[1][iter]\n",
    "    push!(p, abs(x - r))\n",
    "    iter += 1\n",
    "end\n",
    "\n",
    "eh = -2:0.01:2\n",
    "eh[209]"
   ]
  },
  {
   "cell_type": "code",
   "execution_count": null,
   "id": "olive-lawyer",
   "metadata": {},
   "outputs": [],
   "source": [
    "exp(0.08)"
   ]
  },
  {
   "cell_type": "code",
   "execution_count": null,
   "id": "optical-bruce",
   "metadata": {},
   "outputs": [],
   "source": []
  }
 ],
 "metadata": {
  "kernelspec": {
   "display_name": "Julia 1.8.2",
   "language": "julia",
   "name": "julia-1.8"
  },
  "language_info": {
   "file_extension": ".jl",
   "mimetype": "application/julia",
   "name": "julia",
   "version": "1.8.2"
  }
 },
 "nbformat": 4,
 "nbformat_minor": 5
}
