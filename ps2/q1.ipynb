{
 "cells": [
  {
   "cell_type": "code",
   "execution_count": 61,
   "id": "electoral-programmer",
   "metadata": {},
   "outputs": [],
   "source": [
    "using Plots, DataFrames, CSV, GLM\n",
    "using Optim, Distributions, Random, ForwardDiff\n",
    "using LinearAlgebra, StatsFuns, FixedEffectModels\n",
    "using LaTeXTabulars"
   ]
  },
  {
   "cell_type": "code",
   "execution_count": 62,
   "id": "unlimited-reservoir",
   "metadata": {},
   "outputs": [],
   "source": [
    "df = DataFrame(CSV.File(\"../data/ps2_ex1.csv\"));\n",
    "x = df[!,:x];\n",
    "n = df[!,:n];"
   ]
  },
  {
   "cell_type": "code",
   "execution_count": 75,
   "id": "national-enemy",
   "metadata": {},
   "outputs": [
    {
     "data": {
      "text/plain": [
       "#37 (generic function with 1 method)"
      ]
     },
     "execution_count": 75,
     "metadata": {},
     "output_type": "execute_result"
    }
   ],
   "source": [
    "# Maximum likelihood \n",
    "likelihood = function(θ)\n",
    "    β = θ[1]\n",
    "    ϕ = θ[2]\n",
    "    δ = θ[3]\n",
    "    \n",
    "    inside = exp.(-0.5 * (x .* β .- ϕ .- δ .* log.(n .+ 1)).^2) .- exp.(-0.5 * (x .* β .- ϕ .- δ .* log.(n)).^2)\n",
    "    \n",
    "    if minimum(inside) > 0\n",
    "        ll = log.(inside)\n",
    "    else\n",
    "        ll = 100\n",
    "    end\n",
    "    \n",
    "    return inside\n",
    "end"
   ]
  },
  {
   "cell_type": "code",
   "execution_count": 73,
   "id": "surrounded-prophet",
   "metadata": {},
   "outputs": [],
   "source": [
    "# Pass into optim \n",
    "optimum = optimize(likelihood , ones(3))\n",
    "MLE = optimum.minimizer;"
   ]
  },
  {
   "cell_type": "code",
   "execution_count": null,
   "id": "short-guard",
   "metadata": {},
   "outputs": [],
   "source": []
  },
  {
   "cell_type": "code",
   "execution_count": null,
   "id": "quarterly-banana",
   "metadata": {},
   "outputs": [],
   "source": []
  }
 ],
 "metadata": {
  "kernelspec": {
   "display_name": "Julia 1.8.2",
   "language": "julia",
   "name": "julia-1.8"
  },
  "language_info": {
   "file_extension": ".jl",
   "mimetype": "application/julia",
   "name": "julia",
   "version": "1.8.2"
  }
 },
 "nbformat": 4,
 "nbformat_minor": 5
}
