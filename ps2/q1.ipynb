{
 "cells": [
  {
   "cell_type": "code",
   "execution_count": 1,
   "id": "1577ef00",
   "metadata": {},
   "outputs": [],
   "source": [
    "using Plots, DataFrames, CSV, GLM\n",
    "using Optim, Distributions, Random, ForwardDiff\n",
    "using LinearAlgebra, StatsFuns, FixedEffectModels\n",
    "using LaTeXTabulars, LaTeXStrings"
   ]
  },
  {
   "cell_type": "code",
   "execution_count": 2,
   "id": "b90da5a1",
   "metadata": {},
   "outputs": [],
   "source": [
    "df = DataFrame(CSV.File(\"../data/ps2_ex1.csv\"));\n",
    "x = df[!,:x];\n",
    "n = df[!,:n];\n",
    "d = Normal(0,1);"
   ]
  },
  {
   "cell_type": "code",
   "execution_count": 3,
   "id": "620e3c5d",
   "metadata": {},
   "outputs": [
    {
     "data": {
      "text/plain": [
       "#1 (generic function with 1 method)"
      ]
     },
     "execution_count": 3,
     "metadata": {},
     "output_type": "execute_result"
    }
   ],
   "source": [
    "# Maximum likelihood \n",
    "likelihood = function(θ)\n",
    "    β = θ[1]\n",
    "    ϕ = θ[2]\n",
    "    δ = θ[3]\n",
    "    \n",
    "    ll = sum(log.(cdf.(d, -x .* β .+ ϕ .+ δ .* log.(n .+ 1)) - cdf.(d, -x .* β .+ ϕ .+ δ .* log.(n))))\n",
    "    \n",
    "    return -ll\n",
    "end"
   ]
  },
  {
   "cell_type": "code",
   "execution_count": 4,
   "id": "87571dde",
   "metadata": {},
   "outputs": [
    {
     "data": {
      "text/plain": [
       " * Status: success\n",
       "\n",
       " * Candidate solution\n",
       "    Final objective value:     1.111907e+02\n",
       "\n",
       " * Found with\n",
       "    Algorithm:     Nelder-Mead\n",
       "\n",
       " * Convergence measures\n",
       "    √(Σ(yᵢ-ȳ)²)/n ≤ 1.0e-08\n",
       "\n",
       " * Work counters\n",
       "    Seconds run:   0  (vs limit Inf)\n",
       "    Iterations:    98\n",
       "    f(x) calls:    182\n"
      ]
     },
     "execution_count": 4,
     "metadata": {},
     "output_type": "execute_result"
    }
   ],
   "source": [
    "# Pass into optim \n",
    "optimum = optimize(likelihood, ones(3), NelderMead())"
   ]
  },
  {
   "cell_type": "code",
   "execution_count": 6,
   "id": "676f6a74",
   "metadata": {},
   "outputs": [
    {
     "data": {
      "text/plain": [
       "3-element Vector{Float64}:\n",
       "  2.152702172549282\n",
       "  1.5712395638299699\n",
       " 10.602347199567518"
      ]
     },
     "metadata": {},
     "output_type": "display_data"
    }
   ],
   "source": [
    "# Output results\n",
    "MLE = optimum.minimizer;\n",
    "display(MLE)\n",
    "\n",
    "latex_tabular(\"output/ps2_q1_estimates.tex\",\n",
    "              Tabular(\"ccc\"),\n",
    "              [[L\"\\beta\", L\"\\phi\", L\"\\delta\"],\n",
    "               Rule(:mid),\n",
    "               round.(MLE, digits=3),\n",
    "               Rule(:bottom)]);"
   ]
  }
 ],
 "metadata": {
  "kernelspec": {
   "display_name": "Julia 1.7.2",
   "language": "julia",
   "name": "julia-1.7"
  },
  "language_info": {
   "file_extension": ".jl",
   "mimetype": "application/julia",
   "name": "julia",
   "version": "1.7.2"
  }
 },
 "nbformat": 4,
 "nbformat_minor": 5
}
