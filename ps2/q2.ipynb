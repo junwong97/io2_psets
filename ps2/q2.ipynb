{
 "cells": [
  {
   "cell_type": "code",
   "execution_count": 2,
   "id": "established-duration",
   "metadata": {},
   "outputs": [],
   "source": [
    "using Plots, DataFrames, CSV, GLM\n",
    "using Optim, Distributions, Random, ForwardDiff\n",
    "using LinearAlgebra, StatsFuns, FixedEffectModels\n",
    "using LaTeXTabulars"
   ]
  },
  {
   "cell_type": "code",
   "execution_count": 8,
   "id": "gothic-platform",
   "metadata": {},
   "outputs": [],
   "source": [
    "Random.seed!(02102023);"
   ]
  },
  {
   "cell_type": "markdown",
   "id": "original-lindsay",
   "metadata": {},
   "source": [
    "# Simulate data\n",
    "Let $\\eta_t \\sim N(0,1)$ i.i.d.; $\\epsilon_{it} \\sim N(0,1)$ i.i.d.; $x_t \\sim \\exp(N(0,1))$ i.i.d.; $z_{it} \\sim N(0,2)$ i.i.d.\n",
    "\n",
    "Let $K=30$ and $T=100$\n",
    "\n",
    "True parameters:\n",
    "\n",
    "- $\\alpha = 1$\n",
    "- $\\beta = 2$ \n",
    "- $\\delta = 6$ \n",
    "- $\\gamma = 3$ \n",
    "- $\\rho = 0.8$"
   ]
  },
  {
   "cell_type": "code",
   "execution_count": 11,
   "id": "roman-basics",
   "metadata": {},
   "outputs": [],
   "source": [
    "# parameters \n",
    "α = 1; \n",
    "β = 2;\n",
    "δ = 6;\n",
    "γ = 3; \n",
    "ρ = 0.8;\n",
    "\n",
    "# markets and firms\n",
    "K = 30; \n",
    "T = 100; \n",
    "\n",
    "# specify distributions \n",
    "normal_0_1 = Normal(0,1);\n",
    "lognormal_0_1 = LogNormal(0,1);\n",
    "normal_0_2 = Normal(0, 2);"
   ]
  },
  {
   "cell_type": "code",
   "execution_count": 36,
   "id": "grave-scheme",
   "metadata": {},
   "outputs": [
    {
     "data": {
      "text/html": [
       "<div class=\"data-frame\"><p>3,000 rows × 6 columns</p><table class=\"data-frame\"><thead><tr><th></th><th>firm</th><th>market</th><th>ϵᵢₜ</th><th>zᵢₜ</th><th>ηₜ</th><th>xₜ</th></tr><tr><th></th><th title=\"Int64\">Int64</th><th title=\"Int64\">Int64</th><th title=\"Float64\">Float64</th><th title=\"Float64\">Float64</th><th title=\"Float64\">Float64</th><th title=\"Float64\">Float64</th></tr></thead><tbody><tr><th>1</th><td>1</td><td>1</td><td>0.0160862</td><td>1.80244</td><td>1.08928</td><td>1.24193</td></tr><tr><th>2</th><td>1</td><td>2</td><td>-0.22144</td><td>-1.78475</td><td>-0.877599</td><td>0.533368</td></tr><tr><th>3</th><td>1</td><td>3</td><td>-1.8665</td><td>-4.0658</td><td>-1.05373</td><td>0.39351</td></tr><tr><th>4</th><td>1</td><td>4</td><td>0.127258</td><td>-1.21048</td><td>-1.53024</td><td>1.35369</td></tr><tr><th>5</th><td>1</td><td>5</td><td>-0.574106</td><td>-3.34153</td><td>-1.02966</td><td>7.43488</td></tr><tr><th>6</th><td>1</td><td>6</td><td>2.15781</td><td>-3.60995</td><td>-2.45399</td><td>1.32156</td></tr><tr><th>7</th><td>1</td><td>7</td><td>-0.509222</td><td>-2.64191</td><td>-0.288123</td><td>1.1871</td></tr><tr><th>8</th><td>1</td><td>8</td><td>1.10211</td><td>2.41379</td><td>1.10304</td><td>1.95764</td></tr><tr><th>9</th><td>1</td><td>9</td><td>1.22902</td><td>0.508983</td><td>1.00609</td><td>0.919765</td></tr><tr><th>10</th><td>1</td><td>10</td><td>0.776191</td><td>-0.160038</td><td>-0.640181</td><td>0.646281</td></tr><tr><th>11</th><td>1</td><td>11</td><td>-0.538128</td><td>2.07571</td><td>-0.943446</td><td>0.404259</td></tr><tr><th>12</th><td>1</td><td>12</td><td>-0.14508</td><td>-0.87394</td><td>-1.94548</td><td>0.181965</td></tr><tr><th>13</th><td>1</td><td>13</td><td>0.160614</td><td>-0.891067</td><td>-0.0701125</td><td>2.80024</td></tr><tr><th>14</th><td>1</td><td>14</td><td>-1.39285</td><td>-0.417773</td><td>-0.911399</td><td>5.29287</td></tr><tr><th>15</th><td>1</td><td>15</td><td>-0.162007</td><td>1.10951</td><td>0.987841</td><td>0.454972</td></tr><tr><th>16</th><td>1</td><td>16</td><td>-0.896098</td><td>-2.11274</td><td>-0.982092</td><td>1.63106</td></tr><tr><th>17</th><td>1</td><td>17</td><td>0.103807</td><td>-0.447816</td><td>1.15437</td><td>1.35806</td></tr><tr><th>18</th><td>1</td><td>18</td><td>0.645412</td><td>-1.69808</td><td>1.17074</td><td>0.246184</td></tr><tr><th>19</th><td>1</td><td>19</td><td>0.174834</td><td>-3.02923</td><td>-0.995295</td><td>4.75742</td></tr><tr><th>20</th><td>1</td><td>20</td><td>-0.424418</td><td>-2.45316</td><td>0.669873</td><td>0.287738</td></tr><tr><th>21</th><td>1</td><td>21</td><td>-2.22595</td><td>-1.83562</td><td>0.138163</td><td>2.8685</td></tr><tr><th>22</th><td>1</td><td>22</td><td>-0.73459</td><td>-0.554072</td><td>0.233137</td><td>0.265394</td></tr><tr><th>23</th><td>1</td><td>23</td><td>1.37069</td><td>2.08433</td><td>-0.593721</td><td>2.16659</td></tr><tr><th>24</th><td>1</td><td>24</td><td>-1.57308</td><td>-0.300957</td><td>1.40312</td><td>0.322902</td></tr><tr><th>25</th><td>1</td><td>25</td><td>-0.53301</td><td>1.00177</td><td>-1.89786</td><td>1.95248</td></tr><tr><th>26</th><td>1</td><td>26</td><td>0.435338</td><td>2.20323</td><td>0.619102</td><td>4.26803</td></tr><tr><th>27</th><td>1</td><td>27</td><td>1.24136</td><td>-1.29218</td><td>0.0999566</td><td>0.444876</td></tr><tr><th>28</th><td>1</td><td>28</td><td>1.34045</td><td>-0.286487</td><td>-1.94254</td><td>1.03939</td></tr><tr><th>29</th><td>1</td><td>29</td><td>1.76429</td><td>0.866177</td><td>-0.200982</td><td>0.273706</td></tr><tr><th>30</th><td>1</td><td>30</td><td>0.521582</td><td>3.18693</td><td>-2.03967</td><td>1.02842</td></tr><tr><th>&vellip;</th><td>&vellip;</td><td>&vellip;</td><td>&vellip;</td><td>&vellip;</td><td>&vellip;</td><td>&vellip;</td></tr></tbody></table></div>"
      ],
      "text/latex": [
       "\\begin{tabular}{r|cccccc}\n",
       "\t& firm & market & ϵᵢₜ & zᵢₜ & ηₜ & xₜ\\\\\n",
       "\t\\hline\n",
       "\t& Int64 & Int64 & Float64 & Float64 & Float64 & Float64\\\\\n",
       "\t\\hline\n",
       "\t1 & 1 & 1 & 0.0160862 & 1.80244 & 1.08928 & 1.24193 \\\\\n",
       "\t2 & 1 & 2 & -0.22144 & -1.78475 & -0.877599 & 0.533368 \\\\\n",
       "\t3 & 1 & 3 & -1.8665 & -4.0658 & -1.05373 & 0.39351 \\\\\n",
       "\t4 & 1 & 4 & 0.127258 & -1.21048 & -1.53024 & 1.35369 \\\\\n",
       "\t5 & 1 & 5 & -0.574106 & -3.34153 & -1.02966 & 7.43488 \\\\\n",
       "\t6 & 1 & 6 & 2.15781 & -3.60995 & -2.45399 & 1.32156 \\\\\n",
       "\t7 & 1 & 7 & -0.509222 & -2.64191 & -0.288123 & 1.1871 \\\\\n",
       "\t8 & 1 & 8 & 1.10211 & 2.41379 & 1.10304 & 1.95764 \\\\\n",
       "\t9 & 1 & 9 & 1.22902 & 0.508983 & 1.00609 & 0.919765 \\\\\n",
       "\t10 & 1 & 10 & 0.776191 & -0.160038 & -0.640181 & 0.646281 \\\\\n",
       "\t11 & 1 & 11 & -0.538128 & 2.07571 & -0.943446 & 0.404259 \\\\\n",
       "\t12 & 1 & 12 & -0.14508 & -0.87394 & -1.94548 & 0.181965 \\\\\n",
       "\t13 & 1 & 13 & 0.160614 & -0.891067 & -0.0701125 & 2.80024 \\\\\n",
       "\t14 & 1 & 14 & -1.39285 & -0.417773 & -0.911399 & 5.29287 \\\\\n",
       "\t15 & 1 & 15 & -0.162007 & 1.10951 & 0.987841 & 0.454972 \\\\\n",
       "\t16 & 1 & 16 & -0.896098 & -2.11274 & -0.982092 & 1.63106 \\\\\n",
       "\t17 & 1 & 17 & 0.103807 & -0.447816 & 1.15437 & 1.35806 \\\\\n",
       "\t18 & 1 & 18 & 0.645412 & -1.69808 & 1.17074 & 0.246184 \\\\\n",
       "\t19 & 1 & 19 & 0.174834 & -3.02923 & -0.995295 & 4.75742 \\\\\n",
       "\t20 & 1 & 20 & -0.424418 & -2.45316 & 0.669873 & 0.287738 \\\\\n",
       "\t21 & 1 & 21 & -2.22595 & -1.83562 & 0.138163 & 2.8685 \\\\\n",
       "\t22 & 1 & 22 & -0.73459 & -0.554072 & 0.233137 & 0.265394 \\\\\n",
       "\t23 & 1 & 23 & 1.37069 & 2.08433 & -0.593721 & 2.16659 \\\\\n",
       "\t24 & 1 & 24 & -1.57308 & -0.300957 & 1.40312 & 0.322902 \\\\\n",
       "\t25 & 1 & 25 & -0.53301 & 1.00177 & -1.89786 & 1.95248 \\\\\n",
       "\t26 & 1 & 26 & 0.435338 & 2.20323 & 0.619102 & 4.26803 \\\\\n",
       "\t27 & 1 & 27 & 1.24136 & -1.29218 & 0.0999566 & 0.444876 \\\\\n",
       "\t28 & 1 & 28 & 1.34045 & -0.286487 & -1.94254 & 1.03939 \\\\\n",
       "\t29 & 1 & 29 & 1.76429 & 0.866177 & -0.200982 & 0.273706 \\\\\n",
       "\t30 & 1 & 30 & 0.521582 & 3.18693 & -2.03967 & 1.02842 \\\\\n",
       "\t$\\dots$ & $\\dots$ & $\\dots$ & $\\dots$ & $\\dots$ & $\\dots$ & $\\dots$ \\\\\n",
       "\\end{tabular}\n"
      ],
      "text/plain": [
       "\u001b[1m3000×6 DataFrame\u001b[0m\n",
       "\u001b[1m  Row \u001b[0m│\u001b[1m firm  \u001b[0m\u001b[1m market \u001b[0m\u001b[1m ϵᵢₜ        \u001b[0m\u001b[1m zᵢₜ       \u001b[0m\u001b[1m ηₜ         \u001b[0m\u001b[1m xₜ        \u001b[0m\n",
       "\u001b[1m      \u001b[0m│\u001b[90m Int64 \u001b[0m\u001b[90m Int64  \u001b[0m\u001b[90m Float64    \u001b[0m\u001b[90m Float64   \u001b[0m\u001b[90m Float64    \u001b[0m\u001b[90m Float64   \u001b[0m\n",
       "──────┼─────────────────────────────────────────────────────────────\n",
       "    1 │     1       1   0.0160862   1.80244    1.08928     1.24193\n",
       "    2 │     1       2  -0.22144    -1.78475   -0.877599    0.533368\n",
       "    3 │     1       3  -1.8665     -4.0658    -1.05373     0.39351\n",
       "    4 │     1       4   0.127258   -1.21048   -1.53024     1.35369\n",
       "    5 │     1       5  -0.574106   -3.34153   -1.02966     7.43488\n",
       "    6 │     1       6   2.15781    -3.60995   -2.45399     1.32156\n",
       "    7 │     1       7  -0.509222   -2.64191   -0.288123    1.1871\n",
       "    8 │     1       8   1.10211     2.41379    1.10304     1.95764\n",
       "    9 │     1       9   1.22902     0.508983   1.00609     0.919765\n",
       "   10 │     1      10   0.776191   -0.160038  -0.640181    0.646281\n",
       "   11 │     1      11  -0.538128    2.07571   -0.943446    0.404259\n",
       "  ⋮   │   ⋮      ⋮         ⋮           ⋮          ⋮           ⋮\n",
       " 2991 │    30      91  -0.930462    2.36363   -0.767513    1.05274\n",
       " 2992 │    30      92   1.46015     0.571767   2.9293      1.74711\n",
       " 2993 │    30      93  -0.653967    3.01981    2.0143      3.06037\n",
       " 2994 │    30      94   0.945185   -1.6334    -1.4814      0.721591\n",
       " 2995 │    30      95  -1.54045     0.518432   0.561782    3.45495\n",
       " 2996 │    30      96   1.44528    -6.29443    1.54564    11.0505\n",
       " 2997 │    30      97   1.29471    -0.800211   0.76686     0.491921\n",
       " 2998 │    30      98   0.690318    0.88274   -2.1549      2.9213\n",
       " 2999 │    30      99  -0.542855    0.656959   0.0702632   1.66642\n",
       " 3000 │    30     100   0.0715698   2.9563     1.15309     0.274834\n",
       "\u001b[36m                                                   2979 rows omitted\u001b[0m"
      ]
     },
     "execution_count": 36,
     "metadata": {},
     "output_type": "execute_result"
    }
   ],
   "source": [
    "# market level \n",
    "market_df = DataFrame(market = 1:T,\n",
    "    ηₜ = rand(normal_0_1, T), \n",
    "    xₜ = rand(lognormal_0_1, T));\n",
    "\n",
    "# firm-market level\n",
    "firm_market_df = DataFrame(firm = repeat(1:K, inner=T),\n",
    "    market = repeat(1:T, outer=K),\n",
    "    ϵᵢₜ = rand(normal_0_1, K * T),\n",
    "    zᵢₜ = rand(normal_0_2, K * T));\n",
    "firm_market_df = innerjoin(firm_market_df, market_df, on=:market)\n",
    "\n",
    "# sort by heterogenous profitability in a market\n",
    "sort!(firm_market_df, [:market, :firm])"
   ]
  },
  {
   "cell_type": "code",
   "execution_count": 37,
   "id": "southeast-istanbul",
   "metadata": {},
   "outputs": [
    {
     "data": {
      "text/html": [
       "<div class=\"data-frame\"><p>100 rows × 3 columns</p><table class=\"data-frame\"><thead><tr><th></th><th>market</th><th>ηₜ</th><th>xₜ</th></tr><tr><th></th><th title=\"Int64\">Int64</th><th title=\"Float64\">Float64</th><th title=\"Float64\">Float64</th></tr></thead><tbody><tr><th>1</th><td>1</td><td>1.08928</td><td>1.24193</td></tr><tr><th>2</th><td>2</td><td>-0.877599</td><td>0.533368</td></tr><tr><th>3</th><td>3</td><td>-1.05373</td><td>0.39351</td></tr><tr><th>4</th><td>4</td><td>-1.53024</td><td>1.35369</td></tr><tr><th>5</th><td>5</td><td>-1.02966</td><td>7.43488</td></tr><tr><th>6</th><td>6</td><td>-2.45399</td><td>1.32156</td></tr><tr><th>7</th><td>7</td><td>-0.288123</td><td>1.1871</td></tr><tr><th>8</th><td>8</td><td>1.10304</td><td>1.95764</td></tr><tr><th>9</th><td>9</td><td>1.00609</td><td>0.919765</td></tr><tr><th>10</th><td>10</td><td>-0.640181</td><td>0.646281</td></tr><tr><th>11</th><td>11</td><td>-0.943446</td><td>0.404259</td></tr><tr><th>12</th><td>12</td><td>-1.94548</td><td>0.181965</td></tr><tr><th>13</th><td>13</td><td>-0.0701125</td><td>2.80024</td></tr><tr><th>14</th><td>14</td><td>-0.911399</td><td>5.29287</td></tr><tr><th>15</th><td>15</td><td>0.987841</td><td>0.454972</td></tr><tr><th>16</th><td>16</td><td>-0.982092</td><td>1.63106</td></tr><tr><th>17</th><td>17</td><td>1.15437</td><td>1.35806</td></tr><tr><th>18</th><td>18</td><td>1.17074</td><td>0.246184</td></tr><tr><th>19</th><td>19</td><td>-0.995295</td><td>4.75742</td></tr><tr><th>20</th><td>20</td><td>0.669873</td><td>0.287738</td></tr><tr><th>21</th><td>21</td><td>0.138163</td><td>2.8685</td></tr><tr><th>22</th><td>22</td><td>0.233137</td><td>0.265394</td></tr><tr><th>23</th><td>23</td><td>-0.593721</td><td>2.16659</td></tr><tr><th>24</th><td>24</td><td>1.40312</td><td>0.322902</td></tr><tr><th>25</th><td>25</td><td>-1.89786</td><td>1.95248</td></tr><tr><th>26</th><td>26</td><td>0.619102</td><td>4.26803</td></tr><tr><th>27</th><td>27</td><td>0.0999566</td><td>0.444876</td></tr><tr><th>28</th><td>28</td><td>-1.94254</td><td>1.03939</td></tr><tr><th>29</th><td>29</td><td>-0.200982</td><td>0.273706</td></tr><tr><th>30</th><td>30</td><td>-2.03967</td><td>1.02842</td></tr><tr><th>&vellip;</th><td>&vellip;</td><td>&vellip;</td><td>&vellip;</td></tr></tbody></table></div>"
      ],
      "text/latex": [
       "\\begin{tabular}{r|ccc}\n",
       "\t& market & ηₜ & xₜ\\\\\n",
       "\t\\hline\n",
       "\t& Int64 & Float64 & Float64\\\\\n",
       "\t\\hline\n",
       "\t1 & 1 & 1.08928 & 1.24193 \\\\\n",
       "\t2 & 2 & -0.877599 & 0.533368 \\\\\n",
       "\t3 & 3 & -1.05373 & 0.39351 \\\\\n",
       "\t4 & 4 & -1.53024 & 1.35369 \\\\\n",
       "\t5 & 5 & -1.02966 & 7.43488 \\\\\n",
       "\t6 & 6 & -2.45399 & 1.32156 \\\\\n",
       "\t7 & 7 & -0.288123 & 1.1871 \\\\\n",
       "\t8 & 8 & 1.10304 & 1.95764 \\\\\n",
       "\t9 & 9 & 1.00609 & 0.919765 \\\\\n",
       "\t10 & 10 & -0.640181 & 0.646281 \\\\\n",
       "\t11 & 11 & -0.943446 & 0.404259 \\\\\n",
       "\t12 & 12 & -1.94548 & 0.181965 \\\\\n",
       "\t13 & 13 & -0.0701125 & 2.80024 \\\\\n",
       "\t14 & 14 & -0.911399 & 5.29287 \\\\\n",
       "\t15 & 15 & 0.987841 & 0.454972 \\\\\n",
       "\t16 & 16 & -0.982092 & 1.63106 \\\\\n",
       "\t17 & 17 & 1.15437 & 1.35806 \\\\\n",
       "\t18 & 18 & 1.17074 & 0.246184 \\\\\n",
       "\t19 & 19 & -0.995295 & 4.75742 \\\\\n",
       "\t20 & 20 & 0.669873 & 0.287738 \\\\\n",
       "\t21 & 21 & 0.138163 & 2.8685 \\\\\n",
       "\t22 & 22 & 0.233137 & 0.265394 \\\\\n",
       "\t23 & 23 & -0.593721 & 2.16659 \\\\\n",
       "\t24 & 24 & 1.40312 & 0.322902 \\\\\n",
       "\t25 & 25 & -1.89786 & 1.95248 \\\\\n",
       "\t26 & 26 & 0.619102 & 4.26803 \\\\\n",
       "\t27 & 27 & 0.0999566 & 0.444876 \\\\\n",
       "\t28 & 28 & -1.94254 & 1.03939 \\\\\n",
       "\t29 & 29 & -0.200982 & 0.273706 \\\\\n",
       "\t30 & 30 & -2.03967 & 1.02842 \\\\\n",
       "\t$\\dots$ & $\\dots$ & $\\dots$ & $\\dots$ \\\\\n",
       "\\end{tabular}\n"
      ],
      "text/plain": [
       "\u001b[1m100×3 DataFrame\u001b[0m\n",
       "\u001b[1m Row \u001b[0m│\u001b[1m market \u001b[0m\u001b[1m ηₜ         \u001b[0m\u001b[1m xₜ        \u001b[0m\n",
       "\u001b[1m     \u001b[0m│\u001b[90m Int64  \u001b[0m\u001b[90m Float64    \u001b[0m\u001b[90m Float64   \u001b[0m\n",
       "─────┼───────────────────────────────\n",
       "   1 │      1   1.08928     1.24193\n",
       "   2 │      2  -0.877599    0.533368\n",
       "   3 │      3  -1.05373     0.39351\n",
       "   4 │      4  -1.53024     1.35369\n",
       "   5 │      5  -1.02966     7.43488\n",
       "   6 │      6  -2.45399     1.32156\n",
       "   7 │      7  -0.288123    1.1871\n",
       "   8 │      8   1.10304     1.95764\n",
       "   9 │      9   1.00609     0.919765\n",
       "  10 │     10  -0.640181    0.646281\n",
       "  11 │     11  -0.943446    0.404259\n",
       "  ⋮  │   ⋮         ⋮           ⋮\n",
       "  91 │     91  -0.767513    1.05274\n",
       "  92 │     92   2.9293      1.74711\n",
       "  93 │     93   2.0143      3.06037\n",
       "  94 │     94  -1.4814      0.721591\n",
       "  95 │     95   0.561782    3.45495\n",
       "  96 │     96   1.54564    11.0505\n",
       "  97 │     97   0.76686     0.491921\n",
       "  98 │     98  -2.1549      2.9213\n",
       "  99 │     99   0.0702632   1.66642\n",
       " 100 │    100   1.15309     0.274834\n",
       "\u001b[36m                      79 rows omitted\u001b[0m"
      ]
     },
     "execution_count": 37,
     "metadata": {},
     "output_type": "execute_result"
    }
   ],
   "source": [
    "market_df"
   ]
  },
  {
   "cell_type": "code",
   "execution_count": null,
   "id": "experimental-seattle",
   "metadata": {},
   "outputs": [],
   "source": []
  }
 ],
 "metadata": {
  "kernelspec": {
   "display_name": "Julia 1.8.2",
   "language": "julia",
   "name": "julia-1.8"
  },
  "language_info": {
   "file_extension": ".jl",
   "mimetype": "application/julia",
   "name": "julia",
   "version": "1.8.2"
  }
 },
 "nbformat": 4,
 "nbformat_minor": 5
}
