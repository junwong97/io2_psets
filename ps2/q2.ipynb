{
 "cells": [
  {
   "cell_type": "code",
   "execution_count": 193,
   "id": "established-duration",
   "metadata": {},
   "outputs": [],
   "source": [
    "using Plots, DataFrames, CSV, GLM\n",
    "using Optim, Distributions, Random, ForwardDiff\n",
    "using LinearAlgebra, StatsFuns, FixedEffectModels\n",
    "using LaTeXTabulars"
   ]
  },
  {
   "cell_type": "code",
   "execution_count": 194,
   "id": "gothic-platform",
   "metadata": {},
   "outputs": [],
   "source": [
    "Random.seed!(02102023);"
   ]
  },
  {
   "cell_type": "markdown",
   "id": "original-lindsay",
   "metadata": {},
   "source": [
    "# Simulate data\n",
    "Let $\\eta_t \\sim N(0,1)$ i.i.d.; $\\epsilon_{it} \\sim N(0,1)$ i.i.d.; $x_t \\sim \\exp(N(0,1))$ i.i.d.; $z_{it} \\sim N(0,2)$ i.i.d.\n",
    "\n",
    "Let $K=30$ and $T=100$\n",
    "\n",
    "True parameters:\n",
    "\n",
    "- $\\alpha = 1$\n",
    "- $\\beta = 2$ \n",
    "- $\\delta = 6$ \n",
    "- $\\gamma = 3$ \n",
    "- $\\rho = 0.8$"
   ]
  },
  {
   "cell_type": "code",
   "execution_count": 195,
   "id": "roman-basics",
   "metadata": {},
   "outputs": [],
   "source": [
    "# parameters \n",
    "α = 1; \n",
    "β = 2;\n",
    "δ = 6;\n",
    "γ = 3; \n",
    "ρ = 0.8;\n",
    "\n",
    "# markets and firms\n",
    "K = 30; \n",
    "T = 100; \n",
    "\n",
    "# specify distributions \n",
    "normal_0_1 = Normal(0,1);\n",
    "lognormal_0_1 = LogNormal(0,1);\n",
    "normal_0_2 = Normal(0, 2);"
   ]
  },
  {
   "cell_type": "code",
   "execution_count": 196,
   "id": "grave-scheme",
   "metadata": {},
   "outputs": [],
   "source": [
    "# market level \n",
    "market_df = DataFrame(market = 1:T,\n",
    "    ηₜ = rand(normal_0_1, T), \n",
    "    xₜ = rand(lognormal_0_1, T));\n",
    "\n",
    "# firm-market level\n",
    "firm_market_df = DataFrame(firm = repeat(1:K, inner=T),\n",
    "    market = repeat(1:T, outer=K),\n",
    "    ϵᵢₜ = rand(normal_0_1, K * T),\n",
    "    zᵢₜ = rand(normal_0_2, K * T));\n",
    "firm_market_df = innerjoin(firm_market_df, market_df, on=:market);\n",
    "firm_market_df[!,:ϕᵢₜ] = firm_market_df[!,:zᵢₜ] .* α .+ ρ .* firm_market_df[!,:ηₜ] .+ sqrt(1-ρ^2) .* firm_market_df[!,:ϵᵢₜ]\n",
    "\n",
    "# sort by heterogenous profitability in a market\n",
    "sort!(firm_market_df, [:market, order(:ϕᵢₜ, rev=true)]);\n",
    "firm_market_df[!,:nₜ] = repeat(1:K, T); #this gives number of firms by sequential entry \n",
    "firm_market_df[!,:πᵢₜ] = γ .+ β .* firm_market_df[!,:xₜ] .- δ .* log.(firm_market_df[!,:nₜ]) .+ firm_market_df[!,:ϕᵢₜ];\n",
    "firm_market_df[!,:Iᵢₜ] = ifelse.(firm_market_df[!,:πᵢₜ] .>=0, 1, 0)\n",
    "firm_market_df = transform(groupby(firm_market_df, :market), :Iᵢₜ => sum => :nₜ);\n"
   ]
  },
  {
   "cell_type": "code",
   "execution_count": 197,
   "id": "patent-final",
   "metadata": {},
   "outputs": [],
   "source": [
    "sort!(firm_market_df, [:market, :firm]);"
   ]
  },
  {
   "cell_type": "markdown",
   "id": "administrative-grass",
   "metadata": {},
   "source": [
    "# Estimating via Simulation"
   ]
  },
  {
   "cell_type": "code",
   "execution_count": 198,
   "id": "suitable-picture",
   "metadata": {},
   "outputs": [
    {
     "data": {
      "text/plain": [
       "#110 (generic function with 1 method)"
      ]
     },
     "execution_count": 198,
     "metadata": {},
     "output_type": "execute_result"
    }
   ],
   "source": [
    "# function that draws shocks\n",
    "get_shock = function(S, input_df)\n",
    "    shocks = DataFrame(s_draw = Any[], firm = Any[], market = Any[], epsilon = Any[], eta = Any[], zᵢₜ = Any[], xₜ = Any[])\n",
    "    for s in 1:S\n",
    "        eta = DataFrame(market = repeat(1:T),\n",
    "            eta = rand(normal_0_1, T))\n",
    "        epsilon = DataFrame(firm = repeat(1:K, inner=T),\n",
    "            market = repeat(1:T, outer=K),\n",
    "            epsilon = rand(normal_0_1, K * T))\n",
    "        df = innerjoin(epsilon, eta, on=:market)\n",
    "        df[!,:s_draw] = repeat([s], K*T)\n",
    "\n",
    "        df = innerjoin(df, firm_market_df, on=[:firm, :market])\n",
    "        select!(df, [:s_draw, :firm, :market, :epsilon, :eta, :zᵢₜ, :xₜ])\n",
    "        \n",
    "        append!(shocks, df)\n",
    "    end\n",
    "    return shocks\n",
    "end\n",
    "\n",
    "# function that calculates SPNEs given simulated df \n",
    "sim_spne = function(α, β, δ, γ, ρ, S, K, T, sim_df, actual_df)\n",
    "    \n",
    "    sim_df[!,:ϕᵢₜ] = sim_df[!,:zᵢₜ] .* α .+ ρ .* sim_df[!,:eta] .+ sqrt(1-ρ^2) .* sim_df[!,:epsilon]\n",
    "    sort!(sim_df, [:s_draw, :market, order(:ϕᵢₜ, rev=true)]);\n",
    "    sim_df[!,:nₜ] = repeat(1:K, S * T);\n",
    "    sim_df[!,:πᵢₜ] = γ .+ β .* sim_df[!,:xₜ] .- δ .* log.(sim_df[!,:nₜ]) .+ sim_df[!,:ϕᵢₜ];\n",
    "    sim_df[!,:Iᵢₜ] = ifelse.(sim_df[!,:πᵢₜ] .>=0, 1, 0)\n",
    "    sim_df = transform(groupby(sim_df, [:s_draw, :market]), :Iᵢₜ => sum => :nₜ)\n",
    "    sim_df = select(sim_df, [:firm, :market, :Iᵢₜ, :nₜ])\n",
    "    sim_df = groupby(sim_df, [:firm, :market])\n",
    "    sim_df = combine(sim_df, :Iᵢₜ => mean => :predIᵢₜ)\n",
    "    \n",
    "    df = innerjoin(sim_df, actual_df, on=[:firm, :market])\n",
    "    \n",
    "    return df\n",
    "end\n",
    "\n",
    "# gmm objective \n",
    "odell_beckham_jr = function(K, T, input_df)\n",
    "    \n",
    "    # moment condition for each firm i = 1...K\n",
    "    moments = zeros(K)\n",
    "    for i in 1:K\n",
    "        firm = filter(:firm => n -> n .== i, input_df)    \n",
    "        moments[i] = transpose(firm[!,:Iᵢₜ] .- firm[!,:predIᵢₜ]) * firm[!,:zᵢₜ]\n",
    "    end\n",
    "    \n",
    "    # weighting matrix is just identity for now\n",
    "    obj = moments' * I * moments\n",
    "    return obj \n",
    "end\n",
    "\n",
    "# optim wrapper\n",
    "get_argmax = function(θ, sim_df, actual_df)\n",
    "    α = θ[1]\n",
    "    β = θ[2]\n",
    "    δ = θ[3]\n",
    "    γ = θ[4] \n",
    "    ρ = θ[5]\n",
    "    S = 100\n",
    "    K = 30\n",
    "    T = 100\n",
    "    \n",
    "    df = sim_spne(α, β, δ, γ, ρ, S, K, T, sim_df, actual_df)\n",
    "    obj = odell_beckham_jr(K, T, df)\n",
    "end\n"
   ]
  },
  {
   "cell_type": "code",
   "execution_count": 199,
   "id": "funny-wyoming",
   "metadata": {},
   "outputs": [],
   "source": [
    "# plot objective over all possible values of alpha \n",
    "alpha = zeros(length(range(-5, 5, step=1)))\n",
    "iter = 1\n",
    "shocks = get_shock(100, firm_market_df)\n",
    "\n",
    "for a in range(-5, 5, step=1)\n",
    "    sim_data = sim_spne(a, β, δ, γ, ρ, 100, K, T, shocks, firm_market_df)\n",
    "    alpha[iter] = odell_beckham_jr(K, T, sim_data)\n",
    "    iter += 1\n",
    "end"
   ]
  },
  {
   "cell_type": "code",
   "execution_count": 200,
   "id": "alert-signature",
   "metadata": {},
   "outputs": [
    {
     "data": {
      "text/plain": [
       "\"/Users/junwong/Documents/io2_psets/ps2/output/ps2_q2_gmm_obj.pdf\""
      ]
     },
     "execution_count": 200,
     "metadata": {},
     "output_type": "execute_result"
    }
   ],
   "source": [
    "plot(-5:5, alpha, legend = false)\n",
    "savefig(\"output/ps2_q2_gmm_obj.pdf\")"
   ]
  },
  {
   "cell_type": "code",
   "execution_count": 201,
   "id": "miniature-kazakhstan",
   "metadata": {},
   "outputs": [
    {
     "data": {
      "text/plain": [
       "#112 (generic function with 1 method)"
      ]
     },
     "execution_count": 201,
     "metadata": {},
     "output_type": "execute_result"
    }
   ],
   "source": [
    "repeat_estimation = function(num, params0)\n",
    "    alpha = zeros(num)\n",
    "    beta = zeros(num)\n",
    "    delta = zeros(num)\n",
    "    gamma = zeros(num)\n",
    "    rho = zeros(num)\n",
    "    for i in 1:num\n",
    "        shocks = get_shock(100, firm_market_df)\n",
    "        f(θ) = get_argmax(θ, shocks, firm_market_df)\n",
    "        #params0 = [1.0 ; 2.0 ; 6.5; 1.0; 0.5]\n",
    "        o = Optim.optimize(f, params0, NelderMead(), Optim.Options(show_trace = true, show_every = 100))\n",
    "\n",
    "        alpha[i] = o.minimizer[1]\n",
    "        beta[i] = o.minimizer[2]\n",
    "        delta[i] = o.minimizer[3]\n",
    "        gamma[i] = o.minimizer[4]\n",
    "        rho[i] = o.minimizer[5]\n",
    "    end\n",
    "    \n",
    "    return alpha, beta, delta, gamma, rho\n",
    "end"
   ]
  },
  {
   "cell_type": "code",
   "execution_count": 202,
   "id": "smaller-force",
   "metadata": {
    "scrolled": true
   },
   "outputs": [
    {
     "name": "stdout",
     "output_type": "stream",
     "text": [
      "Iter     Function value    √(Σ(yᵢ-ȳ)²)/n \n",
      "------   --------------    --------------\n",
      "     0     9.817819e+02     2.819168e+03\n",
      " * time: 0.0001361370086669922\n",
      "   100     5.698554e+02     7.514156e-02\n",
      " * time: 60.75241804122925\n",
      "Iter     Function value    √(Σ(yᵢ-ȳ)²)/n \n",
      "------   --------------    --------------\n",
      "     0     9.587287e+02     2.810495e+03\n",
      " * time: 7.200241088867188e-5\n",
      "   100     5.222421e+02     0.000000e+00\n",
      " * time: 60.66123104095459\n",
      "Iter     Function value    √(Σ(yᵢ-ȳ)²)/n \n",
      "------   --------------    --------------\n",
      "     0     9.905943e+02     2.781066e+03\n",
      " * time: 6.318092346191406e-5\n",
      "   100     6.047379e+02     1.817361e-01\n",
      " * time: 55.7504141330719\n",
      "Iter     Function value    √(Σ(yᵢ-ȳ)²)/n \n",
      "------   --------------    --------------\n",
      "     0     1.027256e+03     2.807047e+03\n",
      " * time: 6.198883056640625e-5\n",
      "   100     6.067566e+02     2.252121e-01\n",
      " * time: 58.66519594192505\n",
      "Iter     Function value    √(Σ(yᵢ-ȳ)²)/n \n",
      "------   --------------    --------------\n",
      "     0     9.849024e+02     2.823704e+03\n",
      " * time: 0.00012612342834472656\n",
      "   100     5.515712e+02     3.821364e-01\n",
      " * time: 54.76732420921326\n",
      "Iter     Function value    √(Σ(yᵢ-ȳ)²)/n \n",
      "------   --------------    --------------\n",
      "     0     9.712087e+02     2.823506e+03\n",
      " * time: 0.00010609626770019531\n",
      "Iter     Function value    √(Σ(yᵢ-ȳ)²)/n \n",
      "------   --------------    --------------\n",
      "     0     1.017058e+03     2.811327e+03\n",
      " * time: 9.608268737792969e-5\n",
      "   100     6.052399e+02     1.226664e-01\n",
      " * time: 56.82163095474243\n",
      "Iter     Function value    √(Σ(yᵢ-ȳ)²)/n \n",
      "------   --------------    --------------\n",
      "     0     9.326809e+02     2.836420e+03\n",
      " * time: 6.318092346191406e-5\n",
      "   100     5.240373e+02     1.201088e-01\n",
      " * time: 57.0721230506897\n",
      "Iter     Function value    √(Σ(yᵢ-ȳ)²)/n \n",
      "------   --------------    --------------\n",
      "     0     9.990107e+02     2.813546e+03\n",
      " * time: 6.4849853515625e-5\n",
      "   100     5.795936e+02     1.270725e-02\n",
      " * time: 64.41276788711548\n",
      "Iter     Function value    √(Σ(yᵢ-ȳ)²)/n \n",
      "------   --------------    --------------\n",
      "     0     9.730163e+02     2.792301e+03\n",
      " * time: 6.29425048828125e-5\n",
      "   100     5.577006e+02     1.766649e-01\n",
      " * time: 54.66212296485901\n",
      "Iter     Function value    √(Σ(yᵢ-ȳ)²)/n \n",
      "------   --------------    --------------\n",
      "     0     1.859362e+04     7.578798e+03\n",
      " * time: 6.198883056640625e-5\n",
      "   100     6.201447e+02     2.786555e-01\n",
      " * time: 49.872108936309814\n",
      "Iter     Function value    √(Σ(yᵢ-ȳ)²)/n \n",
      "------   --------------    --------------\n",
      "     0     1.851727e+04     7.610299e+03\n",
      " * time: 0.0001621246337890625\n",
      "   100     5.803148e+02     4.135583e-01\n",
      " * time: 53.700725078582764\n",
      "Iter     Function value    √(Σ(yᵢ-ȳ)²)/n \n",
      "------   --------------    --------------\n",
      "     0     1.870757e+04     7.548765e+03\n",
      " * time: 6.29425048828125e-5\n",
      "   100     6.957927e+02     7.172851e-02\n",
      " * time: 61.12005686759949\n",
      "Iter     Function value    √(Σ(yᵢ-ȳ)²)/n \n",
      "------   --------------    --------------\n",
      "     0     1.869448e+04     7.573105e+03\n",
      " * time: 0.00012803077697753906\n",
      "   100     5.458991e+02     6.531746e-01\n",
      " * time: 51.359291076660156\n",
      "Iter     Function value    √(Σ(yᵢ-ȳ)²)/n \n",
      "------   --------------    --------------\n",
      "     0     1.850785e+04     7.557054e+03\n",
      " * time: 8.392333984375e-5\n",
      "   100     6.131493e+02     6.323340e-01\n",
      " * time: 50.6515679359436\n",
      "Iter     Function value    √(Σ(yᵢ-ȳ)²)/n \n",
      "------   --------------    --------------\n",
      "     0     1.876020e+04     7.550945e+03\n",
      " * time: 6.413459777832031e-5\n",
      "   100     6.795566e+02     5.135262e-01\n",
      " * time: 52.73967504501343\n",
      "Iter     Function value    √(Σ(yᵢ-ȳ)²)/n \n",
      "------   --------------    --------------\n",
      "     0     1.835820e+04     7.638385e+03\n",
      " * time: 6.389617919921875e-5\n",
      "   100     6.708857e+02     2.406850e-01\n",
      " * time: 53.30337691307068\n",
      "Iter     Function value    √(Σ(yᵢ-ȳ)²)/n \n",
      "------   --------------    --------------\n",
      "     0     1.856053e+04     7.585759e+03\n",
      " * time: 6.604194641113281e-5\n",
      "   100     5.866154e+02     7.003250e-01\n",
      " * time: 49.239404916763306\n",
      "Iter     Function value    √(Σ(yᵢ-ȳ)²)/n \n",
      "------   --------------    --------------\n",
      "     0     1.864119e+04     7.565379e+03\n",
      " * time: 0.00012803077697753906\n",
      "   100     6.837337e+02     1.982287e-01\n",
      " * time: 66.06171703338623\n",
      "Iter     Function value    √(Σ(yᵢ-ȳ)²)/n \n",
      "------   --------------    --------------\n",
      "     0     1.868639e+04     7.552471e+03\n",
      " * time: 0.0001049041748046875\n",
      "   100     6.160669e+02     4.900976e-01\n",
      " * time: 55.629350900650024\n"
     ]
    },
    {
     "data": {
      "text/plain": [
       "\"/Users/junwong/Documents/io2_psets/ps2/output/ps2_q2_rho_alt.pdf\""
      ]
     },
     "execution_count": 202,
     "metadata": {},
     "output_type": "execute_result"
    }
   ],
   "source": [
    "alpha, beta, delta, gamma, rho = repeat_estimation(10, [1.0 ; 2.0 ; 6.5; 1.0; 0.5])\n",
    "histogram(alpha, bins=5,legend=false)\n",
    "savefig(\"output/ps2_q2_alpha.pdf\")\n",
    "histogram(beta, bins=5, legend=false)\n",
    "savefig(\"output/ps2_q2_beta.pdf\")\n",
    "histogram(gamma, bins=5, legend=false)\n",
    "savefig(\"output/ps2_q2_gamma.pdf\")\n",
    "histogram(delta, bins=5, legend=false)\n",
    "savefig(\"output/ps2_q2_delta.pdf\")\n",
    "histogram(rho, bins=5, legend=false)\n",
    "savefig(\"output/ps2_q2_rho.pdf\")\n",
    "\n",
    "alpha, beta, delta, gamma, rho = repeat_estimation(10, [2.0 ; 0.0 ; 1.0; 0.0; 0.3])\n",
    "histogram(alpha, bins=5,legend=false)\n",
    "savefig(\"output/ps2_q2_alpha_alt.pdf\")\n",
    "histogram(beta, bins=5, legend=false)\n",
    "savefig(\"output/ps2_q2_beta_alt.pdf\")\n",
    "histogram(gamma, bins=5, legend=false)\n",
    "savefig(\"output/ps2_q2_gamma_alt.pdf\")\n",
    "histogram(delta, bins=5, legend=false)\n",
    "savefig(\"output/ps2_q2_delta_alt.pdf\")\n",
    "histogram(rho, bins=5, legend=false)\n",
    "savefig(\"output/ps2_q2_rho_alt.pdf\")\n"
   ]
  },
  {
   "cell_type": "code",
   "execution_count": null,
   "id": "emerging-corrections",
   "metadata": {},
   "outputs": [],
   "source": []
  }
 ],
 "metadata": {
  "kernelspec": {
   "display_name": "Julia 1.8.2",
   "language": "julia",
   "name": "julia-1.8"
  },
  "language_info": {
   "file_extension": ".jl",
   "mimetype": "application/julia",
   "name": "julia",
   "version": "1.8.2"
  }
 },
 "nbformat": 4,
 "nbformat_minor": 5
}
