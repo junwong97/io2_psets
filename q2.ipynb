{
 "cells": [
  {
   "cell_type": "markdown",
   "id": "fitting-heaven",
   "metadata": {},
   "source": [
    "# Question 2: Homogeneous Coefficients with Demographics"
   ]
  },
  {
   "cell_type": "code",
   "execution_count": 1,
   "id": "developmental-south",
   "metadata": {},
   "outputs": [],
   "source": [
    "using Plots, DataFrames, CSV, GLM\n",
    "using Optim, Distributions, Random, ForwardDiff\n",
    "using LinearAlgebra,StatsFuns"
   ]
  },
  {
   "cell_type": "code",
   "execution_count": 2,
   "id": "facial-indiana",
   "metadata": {
    "scrolled": true
   },
   "outputs": [],
   "source": [
    "df = DataFrame(CSV.File(\"data/ps1_ex2.csv\"));\n",
    "products = sort(unique(df, [\"choice\"]));\n",
    "\n",
    "# construct vectors\n",
    "D = Array(df[:,[\"d.1\", \"d.2\"]]);\n",
    "X = Array(products[:, [\"x.1\", \"x.2\", \"x.3\"]]);\n",
    "C = Array(df[:,[\"choice\"]]);\n",
    "Y = zeros(size(D)[1], size(X)[1]);\n",
    "# for now brute force but probably better way to do this\n",
    "for i in 1:size(Y)[1]\n",
    "    Y[i, C[i]] = 1;\n",
    "end "
   ]
  },
  {
   "cell_type": "markdown",
   "id": "finite-aurora",
   "metadata": {},
   "source": [
    "# Part 5: Estimating $(\\delta, \\Gamma)$\n",
    "Building a log-likelihood function:\n",
    "$$ \\sum_i \\sum_j y_{ij} \\left[ \\delta_j + d_i' \\Gamma x_j - \\log \\left( {\\sum_{k=1}^{31} \\exp(\\delta_k + d_i' \\Gamma x_k)} \\right) \\right]  $$\n",
    "\n",
    "Inputs are:\n",
    "- $X$ is a $31 \\times 3$ matrix of 31 products with 3 characteristics\n",
    "- $D$ is a $4000 \\times 2$ matrix of 4000 individuals with 2 demographic observables\n",
    "\n",
    "The parameters to be estimated should have the following dimensions:\n",
    "- $\\delta$ should be a vector with 31 rows \n",
    "- $\\Gamma$ should be a $2 \\times 3$ matrix of coefficients\n",
    "   "
   ]
  },
  {
   "cell_type": "code",
   "execution_count": 3,
   "id": "driven-signal",
   "metadata": {},
   "outputs": [
    {
     "data": {
      "text/plain": [
       "#3 (generic function with 1 method)"
      ]
     },
     "execution_count": 3,
     "metadata": {},
     "output_type": "execute_result"
    }
   ],
   "source": [
    "# Likelihood \n",
    "ll = function(δ, Γ)\n",
    "    likelihood = 0\n",
    "    for i in 1:size(D)[1]\n",
    "        likelihood += (Y[i,:]' * (δ + (D[i, :]' * Γ * X')')) - log(sum(exp.(δ + (D[i, :]' * Γ * X')')))\n",
    "    end\n",
    "    return -likelihood # notice that we are returning the negative likelihood\n",
    "end\n",
    "\n",
    "# Optim wrapper (since it takes one vector as argument)\n",
    "ll_wrap = function(x)\n",
    "    δ = x[1:31]\n",
    "    Γ = reshape(x[33:38],2,3)\n",
    "    return ll(δ, Γ)\n",
    "end"
   ]
  },
  {
   "cell_type": "code",
   "execution_count": 4,
   "id": "genetic-fabric",
   "metadata": {
    "scrolled": true
   },
   "outputs": [
    {
     "data": {
      "text/plain": [
       " * Status: success\n",
       "\n",
       " * Candidate solution\n",
       "    Final objective value:     8.721408e+03\n",
       "\n",
       " * Found with\n",
       "    Algorithm:     L-BFGS\n",
       "\n",
       " * Convergence measures\n",
       "    |x - x'|               = 1.02e-10 ≰ 0.0e+00\n",
       "    |x - x'|/|x'|          = 4.03e-11 ≰ 0.0e+00\n",
       "    |f(x) - f(x')|         = 3.64e-12 ≰ 0.0e+00\n",
       "    |f(x) - f(x')|/|f(x')| = 4.17e-16 ≰ 0.0e+00\n",
       "    |g(x)|                 = 7.93e-09 ≤ 1.0e-08\n",
       "\n",
       " * Work counters\n",
       "    Seconds run:   76  (vs limit Inf)\n",
       "    Iterations:    165\n",
       "    f(x) calls:    496\n",
       "    ∇f(x) calls:   496\n"
      ]
     },
     "execution_count": 4,
     "metadata": {},
     "output_type": "execute_result"
    }
   ],
   "source": [
    "# Minimize the negative likelihood\n",
    "params0 = zeros(38);\n",
    "optimum = optimize(ll_wrap ,params0, LBFGS(), autodiff=:forward)\n",
    "#MLE = optimum.minimizer;"
   ]
  },
  {
   "cell_type": "code",
   "execution_count": 5,
   "id": "behind-stanford",
   "metadata": {},
   "outputs": [],
   "source": [
    "MLE = optimum.minimizer;\n",
    "δ = MLE[1:31];\n",
    "Γ = reshape(MLE[33:38],2,3);"
   ]
  },
  {
   "cell_type": "markdown",
   "id": "secure-bookmark",
   "metadata": {},
   "source": [
    "## Double check coefficients\n",
    "Here I am using the FOC for $\\delta_j$ to verify that the estimated coefficients yield predicted shares that match the data:\n",
    "$$ \\frac{1}{N} \\sum_i y_{ij} = \\frac{1}{N} \\sum_i \\frac{\\exp(\\delta_j + d_i ' \\Gamma x_j)}{\\sum_k \\exp(\\delta_k + d_i ' \\Gamma x_k)} $$"
   ]
  },
  {
   "cell_type": "code",
   "execution_count": 10,
   "id": "european-climate",
   "metadata": {},
   "outputs": [
    {
     "data": {
      "text/plain": [
       "1.8013229796665087e-12"
      ]
     },
     "execution_count": 10,
     "metadata": {},
     "output_type": "execute_result"
    }
   ],
   "source": [
    "# predicted shares\n",
    "aa = [] \n",
    "for j in 1:31\n",
    "    ss = 0\n",
    "    for i in 1:size(D)[1]\n",
    "        ss += exp.(δ[j] + (D[i,:]' * Γ * X[j,:])') / sum(exp.(δ + (D[i,:]' * Γ * X')'))\n",
    "    end\n",
    "    push!(aa, ss / 4000)\n",
    "end\n",
    "\n",
    "# actual shares\n",
    "yy = []\n",
    "for j in 1:31\n",
    "    yij = 0\n",
    "    for i in 1:size(D)[1]\n",
    "        yij += Y[i,j]\n",
    "    end\n",
    "    push!(yy, yij / 4000)\n",
    "end\n",
    "\n",
    "# Now put them next to each other: yay!\n",
    "maximum(aa .- yy)"
   ]
  },
  {
   "cell_type": "markdown",
   "id": "political-consensus",
   "metadata": {},
   "source": [
    "# Part 7: Obtaining estimate of $\\beta$\n",
    "The proposed moment condition is simply exogeneity of the product specific term and other observed characteristics:\n",
    "\n",
    "$$E[x_j \\xi_j] = 0$$\n",
    "\n",
    "In this case, $\\beta$ can be identified from regressing the following equation; and $\\xi_j$ would be the error term\n",
    "\n",
    "$$ \\delta_j = x_j' \\beta + \\xi_j $$"
   ]
  },
  {
   "cell_type": "code",
   "execution_count": 7,
   "id": "viral-collective",
   "metadata": {},
   "outputs": [
    {
     "data": {
      "text/plain": [
       "StatsModels.TableRegressionModel{LinearModel{GLM.LmResp{Vector{Float64}}, GLM.DensePredChol{Float64, CholeskyPivoted{Float64, Matrix{Float64}, Vector{Int64}}}}, Matrix{Float64}}\n",
       "\n",
       "delta ~ 1 + x1 + x2 + x3\n",
       "\n",
       "Coefficients:\n",
       "────────────────────────────────────────────────────────────────────────────\n",
       "                 Coef.  Std. Error       t  Pr(>|t|)    Lower 95%  Upper 95%\n",
       "────────────────────────────────────────────────────────────────────────────\n",
       "(Intercept)  -1.57627    0.119483   -13.19    <1e-12  -1.82143     -1.33111\n",
       "x1            0.140275   0.0676787    2.07    0.0479   0.00140971   0.27914\n",
       "x2            1.01255    0.0687109   14.74    <1e-13   0.87157      1.15354\n",
       "x3            0.430487   0.0652463    6.60    <1e-06   0.296613     0.564362\n",
       "────────────────────────────────────────────────────────────────────────────"
      ]
     },
     "execution_count": 7,
     "metadata": {},
     "output_type": "execute_result"
    }
   ],
   "source": [
    "# build dataframe\n",
    "products[!, :delta] = δ\n",
    "rename!(products,[:choice,:x1, :x2, :x3, :d1, :d2, :delta])\n",
    "\n",
    "# regression\n",
    "lm(@formula(delta ~ x1 + x2 + x3), products)"
   ]
  },
  {
   "cell_type": "code",
   "execution_count": null,
   "id": "running-marsh",
   "metadata": {},
   "outputs": [],
   "source": []
  }
 ],
 "metadata": {
  "kernelspec": {
   "display_name": "Julia 1.8.2",
   "language": "julia",
   "name": "julia-1.8"
  },
  "language_info": {
   "file_extension": ".jl",
   "mimetype": "application/julia",
   "name": "julia",
   "version": "1.8.2"
  }
 },
 "nbformat": 4,
 "nbformat_minor": 5
}
