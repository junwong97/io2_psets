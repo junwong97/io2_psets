{
 "cells": [
  {
   "cell_type": "markdown",
   "id": "d66fce3a",
   "metadata": {},
   "source": [
    "# Question 3"
   ]
  },
  {
   "cell_type": "code",
   "execution_count": 1,
   "id": "12d02423",
   "metadata": {},
   "outputs": [],
   "source": [
    "using Plots, DataFrames, CSV, GLM\n",
    "using Optim, Distributions, Random, ForwardDiff\n",
    "using LinearAlgebra, StatsFuns, FixedEffectModels"
   ]
  },
  {
   "cell_type": "code",
   "execution_count": 2,
   "id": "b0cfeb2b",
   "metadata": {
    "scrolled": true
   },
   "outputs": [],
   "source": [
    "df = DataFrame(CSV.File(\"data/ps1_ex3.csv\"));\n",
    "\n",
    "# I need to get the 0 share in each market \n",
    "gdf = groupby(df, :market)\n",
    "gdf = combine(gdf, :Shares => sum)\n",
    "gdf[!,:shares_0] = 1 .- gdf[!,:Shares_sum];\n",
    "df = leftjoin(df, gdf, on=:market);\n",
    "\n",
    "# Will need ln(s_jt / s_0t) and ln(s_jt)\n",
    "df[!,:log_sj_s0] = log.(df[!,:Shares]./df[!,:shares_0]);\n",
    "df[!,:log_sj] = log.(df[!,:Shares]);"
   ]
  },
  {
   "cell_type": "markdown",
   "id": "492fab5c",
   "metadata": {},
   "source": [
    "# Part 1: Estimating $(\\alpha, \\beta)$\n",
    "\n",
    "We have the moment condition $E[\\xi_{jt} | z_{jt}] = 0$, hence we can estimate the following with TSLS: \n",
    "\n",
    "$$ ln\\left(\\frac{s_{jt}}{s_{0t}}\\right) = - \\alpha p_{jt} + x_{jt}' \\beta + \\xi_{jt}$$"
   ]
  },
  {
   "cell_type": "code",
   "execution_count": 3,
   "id": "1fbffd8a",
   "metadata": {},
   "outputs": [],
   "source": [
    "estimates = reg(df, @formula(log_sj_s0 ~ x + (Prices ~ z)))\n",
    "α = -coef(estimates)[3];\n",
    "β = coef(estimates)[2];\n",
    "df[!,:ξ] = (df[!,:log_sj_s0] - predict(estimates,df)) .+ coef(estimates)[1];"
   ]
  },
  {
   "cell_type": "markdown",
   "id": "45cc0d85",
   "metadata": {},
   "source": [
    "# Part 2: Finding price elasticities"
   ]
  },
  {
   "cell_type": "markdown",
   "id": "30bbfc67",
   "metadata": {},
   "source": [
    "$$\\eta_{jkt} = \\frac{\\partial s_{jt}}{\\partial p_{kt}} \\frac{p_{kt}}{s_{jt}} = \\begin{cases}\n",
    "        \\alpha p_{jt} (1-s_{jt}) & j=k \\\\\n",
    "        - \\alpha p_{kt} s_{jt} & j\\neq k\n",
    "    \\end{cases}$$"
   ]
  },
  {
   "cell_type": "code",
   "execution_count": 4,
   "id": "a1460da7",
   "metadata": {
    "scrolled": true
   },
   "outputs": [],
   "source": [
    "# reshape dataframe of prices and shares\n",
    "share_array = Array(unstack(df, :market, :Product, :Shares)[!,2:7]);\n",
    "price_array = Array(unstack(df, :market, :Product, :Prices)[!,2:7]);"
   ]
  },
  {
   "cell_type": "code",
   "execution_count": 5,
   "id": "c55f8da5",
   "metadata": {},
   "outputs": [
    {
     "data": {
      "text/plain": [
       "6×6 Matrix{Float64}:\n",
       "  1.24962   -0.317914  -0.141565  -0.139219  -0.13808   -0.142108\n",
       " -0.317425   1.25124   -0.141836  -0.13975   -0.138349  -0.142341\n",
       " -0.286686  -0.287691   1.28915   -0.126127  -0.124954  -0.128527\n",
       " -0.287309  -0.288337  -0.128271   1.29387   -0.125171  -0.128882\n",
       " -0.28665   -0.287474  -0.127996  -0.125908   1.29143   -0.128494\n",
       " -0.287242  -0.288019  -0.128341  -0.126219  -0.125208   1.2908"
      ]
     },
     "execution_count": 5,
     "metadata": {},
     "output_type": "execute_result"
    }
   ],
   "source": [
    "# for each market, we should get a JxJ matrix \n",
    "T = size(share_array)[1]\n",
    "J = size(share_array)[2]\n",
    "\n",
    "η = zeros(T, J^2)\n",
    "\n",
    "for t in 1:T\n",
    "    iter = 1\n",
    "    for j in 1:J\n",
    "        for k in 1:J\n",
    "            if j == k \n",
    "                η[t, iter] = α * price_array[t,j] * (1-share_array[t,k])\n",
    "            else \n",
    "                η[t, iter] = -1 * α * price_array[t,k] * share_array[t,j]\n",
    "            end\n",
    "        iter += 1\n",
    "        end\n",
    "    end\n",
    "end\n",
    "\n",
    "# average across each market\n",
    "η̄ = reshape(mean(η, dims=1), 6, 6)"
   ]
  },
  {
   "cell_type": "markdown",
   "id": "ae298ac2",
   "metadata": {},
   "source": [
    "# Part 3: Recover marginal costs\n",
    "Assuming that each product-market is a different firm, we can obtain the following from the FOC from the firm optimization:\n",
    "$$ s_{jt}(p) + (p_{jt} - mc_{jt}) \\frac{\\partial s_{jt}}{\\partial p_{kt}} = 0 $$\n",
    "which implies:\n",
    "$$ s_{jt}(p) \\frac{1}{\\frac{\\partial s_{jt}}{\\partial p_{kt}}} + p_{jt} = mc_{jt} $$\n",
    "\n",
    "We can equivalently write this as:\n",
    "$$ mc_{jt} = p_{jt} + \\frac{1}{\\alpha}\\frac{1}{(1-s_{jt})}$$\n",
    "which makes it clear that average marginal costs can be related to prices and shares directly from the data given an estimate of $\\alpha$."
   ]
  },
  {
   "cell_type": "code",
   "execution_count": 6,
   "id": "ab704ba8",
   "metadata": {},
   "outputs": [
    {
     "data": {
      "text/html": [
       "<div><div style = \"float: left;\"><span>6×4 DataFrame</span></div><div style = \"clear: both;\"></div></div><div class = \"data-frame\" style = \"overflow-x: scroll;\"><table class = \"data-frame\" style = \"margin-bottom: 6px;\"><thead><tr class = \"header\"><th class = \"rowNumber\" style = \"font-weight: bold; text-align: right;\">Row</th><th style = \"text-align: left;\">Product</th><th style = \"text-align: left;\">mc_mean</th><th style = \"text-align: left;\">Prices_mean</th><th style = \"text-align: left;\">invshares_mean</th></tr><tr class = \"subheader headerLastRow\"><th class = \"rowNumber\" style = \"font-weight: bold; text-align: right;\"></th><th title = \"Int64\" style = \"text-align: left;\">Int64</th><th title = \"Float64\" style = \"text-align: left;\">Float64</th><th title = \"Float64\" style = \"text-align: left;\">Float64</th><th title = \"Float64\" style = \"text-align: left;\">Float64</th></tr></thead><tbody><tr><td class = \"rowNumber\" style = \"font-weight: bold; text-align: right;\">1</td><td style = \"text-align: right;\">1</td><td style = \"text-align: right;\">6.05278</td><td style = \"text-align: right;\">3.35995</td><td style = \"text-align: right;\">1.25883</td></tr><tr><td class = \"rowNumber\" style = \"font-weight: bold; text-align: right;\">2</td><td style = \"text-align: right;\">2</td><td style = \"text-align: right;\">6.06317</td><td style = \"text-align: right;\">3.36753</td><td style = \"text-align: right;\">1.26015</td></tr><tr><td class = \"rowNumber\" style = \"font-weight: bold; text-align: right;\">3</td><td style = \"text-align: right;\">3</td><td style = \"text-align: right;\">5.38743</td><td style = \"text-align: right;\">3.03306</td><td style = \"text-align: right;\">1.10061</td></tr><tr><td class = \"rowNumber\" style = \"font-weight: bold; text-align: right;\">4</td><td style = \"text-align: right;\">4</td><td style = \"text-align: right;\">5.39064</td><td style = \"text-align: right;\">3.03977</td><td style = \"text-align: right;\">1.09898</td></tr><tr><td class = \"rowNumber\" style = \"font-weight: bold; text-align: right;\">5</td><td style = \"text-align: right;\">5</td><td style = \"text-align: right;\">5.37942</td><td style = \"text-align: right;\">3.03103</td><td style = \"text-align: right;\">1.09782</td></tr><tr><td class = \"rowNumber\" style = \"font-weight: bold; text-align: right;\">6</td><td style = \"text-align: right;\">6</td><td style = \"text-align: right;\">5.39361</td><td style = \"text-align: right;\">3.03815</td><td style = \"text-align: right;\">1.10112</td></tr></tbody></table></div>"
      ],
      "text/latex": [
       "\\begin{tabular}{r|cccc}\n",
       "\t& Product & mc\\_mean & Prices\\_mean & invshares\\_mean\\\\\n",
       "\t\\hline\n",
       "\t& Int64 & Float64 & Float64 & Float64\\\\\n",
       "\t\\hline\n",
       "\t1 & 1 & 6.05278 & 3.35995 & 1.25883 \\\\\n",
       "\t2 & 2 & 6.06317 & 3.36753 & 1.26015 \\\\\n",
       "\t3 & 3 & 5.38743 & 3.03306 & 1.10061 \\\\\n",
       "\t4 & 4 & 5.39064 & 3.03977 & 1.09898 \\\\\n",
       "\t5 & 5 & 5.37942 & 3.03103 & 1.09782 \\\\\n",
       "\t6 & 6 & 5.39361 & 3.03815 & 1.10112 \\\\\n",
       "\\end{tabular}\n"
      ],
      "text/plain": [
       "\u001b[1m6×4 DataFrame\u001b[0m\n",
       "\u001b[1m Row \u001b[0m│\u001b[1m Product \u001b[0m\u001b[1m mc_mean \u001b[0m\u001b[1m Prices_mean \u001b[0m\u001b[1m invshares_mean \u001b[0m\n",
       "     │\u001b[90m Int64   \u001b[0m\u001b[90m Float64 \u001b[0m\u001b[90m Float64     \u001b[0m\u001b[90m Float64        \u001b[0m\n",
       "─────┼───────────────────────────────────────────────\n",
       "   1 │       1  6.05278      3.35995         1.25883\n",
       "   2 │       2  6.06317      3.36753         1.26015\n",
       "   3 │       3  5.38743      3.03306         1.10061\n",
       "   4 │       4  5.39064      3.03977         1.09898\n",
       "   5 │       5  5.37942      3.03103         1.09782\n",
       "   6 │       6  5.39361      3.03815         1.10112"
      ]
     },
     "execution_count": 6,
     "metadata": {},
     "output_type": "execute_result"
    }
   ],
   "source": [
    "# own partial\n",
    "#df[!,:own_partial] = α .* df[!,:Shares] .* (1 .- df[!,:Shares]);\n",
    "#df[!,:mc] = df[!,:Shares] ./ df[!,:own_partial] .+ df[!,:Prices];\n",
    "\n",
    "df[!,:invshares] = 1 ./ (1 .- df[!,:Shares]);\n",
    "df[!,:mc] = df[!,:Prices] + (1/α) .* df[!,:invshares];\n",
    "\n",
    "means = groupby(df, :Product)\n",
    "means = combine(means, [:mc,:Prices,:invshares] .=> mean)"
   ]
  },
  {
   "cell_type": "markdown",
   "id": "7acf71ea",
   "metadata": {},
   "source": [
    "# Part 4: Product 1 exits the market\n",
    "I think the following works:\n",
    "\n",
    "- The regression predicts $ln(S_j/S_0)$, where $S_0 = 1 - \\sum_k S_k$. Note $\\sum_j S_j / S_0 = \\frac{1-S_0}{S_0}$:\n",
    "$$ \\exp\\left(\\ln\\left(\\frac{S_j}{S_0}\\right)\\right) = \\frac{S_j}{S_0} \\\\  \\frac{\\frac{S_j}{S_0}}{ \\sum_j \\frac{S_j}{S_0}} =  \\frac{S_j}{1-S_0} = \\frac{S_j}{\\sum_k S_k} $$\n",
    "\n",
    "MM: To simulate $j = 1$ leaving the market, we solve for the market prices that minimize the firms' first-order conditions as the objective, subject to demand (expressed as shares) as estimated above. We can then plug the prices into the share equation to get simulated market shares. That is:\n",
    "$$ \\min_{p_{jt}} \\sum_{jt} s_{jt} - (p_{jt} - c_{jt}) \\frac{\\partial s_{jt}}{\\partial p_{jt}}$$\n",
    "$$ \\text{s.t. } s_{jt} = \\frac{\\exp(-\\alpha p_{jt} + x_{jt}'\\beta + \\xi_{jt})}{1 + \\sum_{k = 2}^5 \\exp(-\\alpha p_{kt} + x_{kt}'\\beta + \\xi_{kt})}$$ \n",
    "When we solved for the own-price elasticities, we found that $\\frac{\\partial s_{jt}}{\\partial  p_{jt}} = -\\alpha s_{jt} (1 - s_{jt})$, so we can express the objective as:\n",
    "$$ \\min_{\\{p_{jt}\\}} \\sum_{j = 2}^5 s_{jt} - (p_{jt} - c_{jt})s_{jt}(1-s_{jt})$$\n",
    "$$ \\text{s.t. } s_{jt} = \\frac{\\exp(-\\alpha p_{jt} + x_{jt}'\\beta + \\xi_{jt})}{1 + \\sum_{k = 2}^5 \\exp(-\\alpha p_{kt} + x_{kt}'\\beta + \\xi_{kt})}$$\n",
    "The gradient of the objective can be expressed as:\n",
    "$$ \\nabla_t(p) = \\left\\{ \\alpha \\left( \\sum_{k=2}^5 s_{kt} - s_{jt}^2 \\right) + \\alpha^2 s_{jt} \\left( \\sum_{k=2}^5 (p_{kt} - c_{kt})(1 - 2 s_{kt}) - (p_{jt} - c_{jt})(1 - 2 s_{jt})(2 - s_{jt}) \\right) \\right\\}_{k = 2}^{5}$$ "
   ]
  },
  {
   "cell_type": "code",
   "execution_count": 125,
   "id": "35c84443",
   "metadata": {},
   "outputs": [
    {
     "data": {
      "text/plain": [
       "g! (generic function with 3 methods)"
      ]
     },
     "execution_count": 125,
     "metadata": {},
     "output_type": "execute_result"
    }
   ],
   "source": [
    "# data is market data -- a J x 5 dataframe with :Market, :Product, :x, :ξ, and :mc\n",
    "\n",
    "function implied_shares(x,ξ,α,β,p) # calculate market demand given parameters, prices, and products\n",
    "    # numerator\n",
    "    u = exp.(-α .* p + x .* β + ξ)\n",
    "    \n",
    "    # denominator\n",
    "    u_sum = sum(u) + 1\n",
    "    \n",
    "    # calculate shares\n",
    "    s = u ./ u_sum\n",
    "    \n",
    "    return s\n",
    "end\n",
    "\n",
    "function objective(x,ξ,α,β,c,p) # minimize total error in firm pricing FOCs in a market\n",
    "    # calculate demand\n",
    "    s = implied_shares(x,ξ,α,β,p)\n",
    "    \n",
    "    # objective\n",
    "    firmfoc = abs.(s + (α .* (p - c) .* s .* (1 .- s)))\n",
    "    obj = sum(firmfoc)\n",
    "        \n",
    "    return obj\n",
    "end\n",
    "\n",
    "function g!(G,x,ξ,α,β,c,p) # calculate gradient of objective, only need price-cost margin and shares\n",
    "    # useful objects\n",
    "    s = implied_shares(x,ξ,α,β,p)\n",
    "    s_sum = sum(s)\n",
    "    \n",
    "    adj_margin = (p .- c) .* (1 .- 2 .* s)\n",
    "    adj_margin_sum = sum(adj_margin)\n",
    "    \n",
    "    @. G = α * (s_sum - s^2) + α^2 * s * (adj_margin_sum - adj_margin * (2 - s))\n",
    "end"
   ]
  },
  {
   "cell_type": "code",
   "execution_count": 143,
   "id": "decdd428",
   "metadata": {},
   "outputs": [
    {
     "name": "stdout",
     "output_type": "stream",
     "text": [
      "truetruefalsetruetruefalsefalsefalsetruetrue"
     ]
    }
   ],
   "source": [
    "# Define counterfactual\n",
    "simulation = df[!,[:market, :Product, :x, :ξ, :mc]];\n",
    "# simulation = simulation[(df.Product .!= 1), :];\n",
    "\n",
    "# Solve for prices, looping through each market\n",
    "prices = [];\n",
    "for mkt in 1:10\n",
    "    sim_mkt = simulation[(simulation.market .== mkt), :];\n",
    "    \n",
    "    x = Array(sim_mkt[!,:x])\n",
    "    ξ = Array(sim_mkt[!,:ξ])\n",
    "    c = Array(sim_mkt[!,:mc])\n",
    "    \n",
    "    # start somewhere close to true prices\n",
    "    params0 = ones(size(sim_mkt)[1]) .* 3;\n",
    "    \n",
    "    optimum = optimize(p -> objective(x,ξ,α,β,c,p), params0, Optim.LBFGS(), autodiff=:forward, Optim.Options(f_tol = 1e-32, iterations = 3000))\n",
    "    p_sim = optimum.minimizer;\n",
    "    append!(prices,p_sim)\n",
    "    \n",
    "    print(Optim.converged(optimum))\n",
    "end"
   ]
  },
  {
   "cell_type": "code",
   "execution_count": 147,
   "id": "72db719e",
   "metadata": {},
   "outputs": [
    {
     "data": {
      "text/plain": [
       "1.021405182655144e-14"
      ]
     },
     "execution_count": 147,
     "metadata": {},
     "output_type": "execute_result"
    }
   ],
   "source": [
    "# simulation = df[!,[:market, :Product, :x, :ξ, :mc, :Prices, :Shares]];\n",
    "# focs = [];\n",
    "# shares = [];\n",
    "# gradient = [];\n",
    "# gradient2 = [];\n",
    "# prices = [];\n",
    "# G(x,ξ,α,β,c,p) = ForwardDiff.gradient(p -> objective(x,ξ,α,β,c,p), p)\n",
    "\n",
    "# for mkt in 1:5\n",
    "#     sim_mkt = simulation[(simulation.market .== mkt), :]\n",
    "#     x = Array(sim_mkt[!,:x])\n",
    "#     ξ = Array(sim_mkt[!,:ξ])\n",
    "#     c = Array(sim_mkt[!,:mc])\n",
    "\n",
    "#     p = Array(sim_mkt[!,:Prices])\n",
    "\n",
    "#     o = objective(x,ξ,α,β,c,p)\n",
    "#     s = implied_shares(x,ξ,α,β,p)\n",
    "\n",
    "#     grad = G(x,ξ,α,β,c,p)\n",
    "#     grad2 = zeros(size(p))\n",
    "#     g!(grad2,x,ξ,α,β,c,p)\n",
    "\n",
    "#     push!(focs,o)\n",
    "#     push!(shares,s .- sim_mkt[!,:Shares])\n",
    "#     push!(gradient,grad)\n",
    "#     push!(gradient2,grad2)\n",
    "# end\n",
    "\n",
    "# gradient .- gradient2\n",
    "\n",
    "p = df[(df.market .<= 10), :Prices]\n",
    "maximum(prices .- p)"
   ]
  },
  {
   "cell_type": "code",
   "execution_count": null,
   "id": "c7b74fec",
   "metadata": {
    "scrolled": true
   },
   "outputs": [],
   "source": [
    "df_noprod1 = filter(row -> (row.Product != 1),  df)\n",
    "df_noprod1[!,:blah] = exp.(predict(estimates, df_noprod1) ./ df_noprod1[!,:shares_0]) ;\n",
    "df_noprod1[!,[:market, :Product, :blah]]"
   ]
  },
  {
   "cell_type": "code",
   "execution_count": null,
   "id": "6260aff6",
   "metadata": {},
   "outputs": [],
   "source": [
    "df_noprod1 = filter(row -> (row.Product != 1),  df)\n",
    "\n",
    "iterate = function(tol, model, data, α)\n",
    "    \n",
    "    err = 1e10\n",
    "    iter = 0\n",
    "    while err > tol \n",
    "        \n",
    "        old_price = data[!,:Prices]\n",
    "        \n",
    "        # predict s_jt Q: how do I recover s_j?\n",
    "        data[!,:new_sjs0] = exp.(predict(model, data))\n",
    "        gdf = groupby(data, :market)\n",
    "        gdf = combine(data, :new_sjs0 => sum)\n",
    "        gdf[!,:shares_0] = 1 .- gdf[!,:new_sjs0];\n",
    "\n",
    "        # use profit maximization to get new prices\n",
    "        data[!,:own_partial] = α .* data[!,:Shares] .* (1 .- data[!,:Shares])\n",
    "        data[!,:Prices] = data[!,:Shares] ./ data[!,:own_partial] .- data[!,:mc] \n",
    "        \n",
    "        err = maximum(abs.(old_price .- data[!,:Prices]))\n",
    "        iter += 1\n",
    "    end\n",
    "    return data, iter, err\n",
    "end\n",
    "\n",
    "iterate(1e-10, estimates, df_noprod1, α)"
   ]
  },
  {
   "cell_type": "code",
   "execution_count": null,
   "id": "8623c67b",
   "metadata": {},
   "outputs": [],
   "source": [
    "err = 1e10\n",
    "df_noprod1 = filter(row -> (row.Product != 1),  df)\n",
    "data = df_noprod1\n",
    "tol = 1e-10\n",
    "iter = 0\n",
    "    while err > tol \n",
    "        \n",
    "        old_price = data[!,:Prices]\n",
    "        # predict s_jt Q: how do I recover s_j?\n",
    "        data[!,:new_sj] = exp.(predict(estimates, data))\n",
    "        #gdf = groupby(data, :market)\n",
    "        #gdf = combine(data, :new_sjs0 => sum)\n",
    "        #gdf[!,:shares_0] = 1 .- gdf[!,:new_sjs0];\n",
    "\n",
    "        # use profit maximization to get new prices\n",
    "        data[!,:own_partial] = α .* data[!,:new_sj] .* (1 .- data[!,:new_sj])\n",
    "        data[!,:Prices] = data[!,:new_sj] ./ data[!,:own_partial] .- data[!,:mc] \n",
    "        #println(data[!,:Prices] )\n",
    "\n",
    "        err = maximum(abs.(old_price .- data[!,:Prices]))\n",
    "        iter+=1\n",
    "        println(abs.(old_price .- data[!,:Prices]))\n",
    "        println(iter)\n",
    "    end"
   ]
  },
  {
   "cell_type": "code",
   "execution_count": null,
   "id": "05de645e",
   "metadata": {},
   "outputs": [],
   "source": []
  }
 ],
 "metadata": {
  "kernelspec": {
   "display_name": "Julia 1.7.2",
   "language": "julia",
   "name": "julia-1.7"
  },
  "language_info": {
   "file_extension": ".jl",
   "mimetype": "application/julia",
   "name": "julia",
   "version": "1.7.2"
  }
 },
 "nbformat": 4,
 "nbformat_minor": 5
}
