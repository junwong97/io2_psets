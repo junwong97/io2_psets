{
 "cells": [
  {
   "cell_type": "markdown",
   "id": "953c1208",
   "metadata": {},
   "source": [
    "# Question 3"
   ]
  },
  {
   "cell_type": "code",
   "execution_count": 1,
   "id": "1bd28aa3",
   "metadata": {},
   "outputs": [],
   "source": [
    "using Plots, DataFrames, CSV, GLM\n",
    "using Optim, Distributions, Random, ForwardDiff\n",
    "using LinearAlgebra, StatsFuns, FixedEffectModels"
   ]
  },
  {
   "cell_type": "code",
   "execution_count": 2,
   "id": "b4ff0fe6",
   "metadata": {
    "scrolled": true
   },
   "outputs": [],
   "source": [
    "df = DataFrame(CSV.File(\"data/ps1_ex3.csv\"));\n",
    "\n",
    "# I need to get the 0 share in each market \n",
    "gdf = groupby(df, :market)\n",
    "gdf = combine(gdf, :Shares => sum)\n",
    "gdf[!,:shares_0] = 1 .- gdf[!,:Shares_sum];\n",
    "df = leftjoin(df, gdf, on=:market);\n",
    "\n",
    "# Will need ln(s_jt / s_0t) and ln(s_jt)\n",
    "df[!,:log_sj_s0] = log.(df[!,:Shares]./df[!,:shares_0]);\n",
    "df[!,:log_sj] = log.(df[!,:Shares]);"
   ]
  },
  {
   "cell_type": "markdown",
   "id": "e20a18c8",
   "metadata": {},
   "source": [
    "# Part 1: Estimating $(\\alpha, \\beta)$\n",
    "\n",
    "We have the moment condition $E[\\xi_{jt} | z_{jt}] = 0$, hence we can estimate the following with TSLS: \n",
    "\n",
    "$$ ln\\left(\\frac{s_{jt}}{s_{0t}}\\right) = - \\alpha p_{jt} + x_{jt}' \\beta + \\xi_{jt}$$"
   ]
  },
  {
   "cell_type": "code",
   "execution_count": 3,
   "id": "3dd42f46",
   "metadata": {},
   "outputs": [
    {
     "name": "stdout",
     "output_type": "stream",
     "text": [
      "                                IV Model                                \n",
      "========================================================================\n",
      "Number of obs:                 6000  Degrees of freedom:               2\n",
      "R2:                           0.002  R2 Adjusted:                  0.001\n",
      "F-Stat:                     787.122  p-value:                      0.000\n",
      "F-Stat (First Stage):       2011.28  p-value (First Stage):        0.000\n",
      "========================================================================\n",
      "log_sj_s0   |  Estimate  Std.Error  t value Pr(>|t|) Lower 95% Upper 95%\n",
      "------------------------------------------------------------------------\n",
      "x           |  0.304672 0.00833715   36.544    0.000  0.288329  0.321016\n",
      "Prices      | -0.467477  0.0618097 -7.56317    0.000 -0.588646 -0.346308\n",
      "(Intercept) |  0.728887   0.194486  3.74775    0.000  0.347624   1.11015\n",
      "========================================================================\n",
      "α: 0.4674770969358192\n",
      "β: 0.3046723858039903"
     ]
    }
   ],
   "source": [
    "estimates = reg(df, @formula(log_sj_s0 ~ x + (Prices ~ z)))\n",
    "show(estimates)\n",
    "α = -coef(estimates)[3];\n",
    "β = coef(estimates)[2];\n",
    "df[!,:ξ] = (df[!,:log_sj_s0] - predict(estimates,df)) .+ coef(estimates)[1];\n",
    "\n",
    "print(\"α: $α\", \"\\nβ: $β\")"
   ]
  },
  {
   "cell_type": "markdown",
   "id": "82f0394f",
   "metadata": {},
   "source": [
    "# Part 2: Finding price elasticities"
   ]
  },
  {
   "cell_type": "markdown",
   "id": "3c42dd48",
   "metadata": {},
   "source": [
    "$$\\eta_{jkt} = \\frac{\\partial s_{jt}}{\\partial p_{kt}} \\frac{p_{kt}}{s_{jt}} = \\begin{cases}\n",
    "        - \\alpha p_{jt} (1-s_{jt}) & j=k \\\\\n",
    "        \\alpha p_{kt} s_{jt} & j\\neq k\n",
    "    \\end{cases}$$"
   ]
  },
  {
   "cell_type": "code",
   "execution_count": 4,
   "id": "f5f4e578",
   "metadata": {
    "scrolled": true
   },
   "outputs": [],
   "source": [
    "# reshape dataframe of prices and shares\n",
    "share_array = Array(unstack(df, :market, :Product, :Shares)[!,2:7]);\n",
    "price_array = Array(unstack(df, :market, :Product, :Prices)[!,2:7]);"
   ]
  },
  {
   "cell_type": "code",
   "execution_count": 114,
   "id": "52dd86cf",
   "metadata": {},
   "outputs": [
    {
     "data": {
      "text/plain": [
       "6×6 Matrix{Float64}:\n",
       " -1.24962    0.317914   0.141565   0.139219   0.13808    0.142108\n",
       "  0.317425  -1.25124    0.141836   0.13975    0.138349   0.142341\n",
       "  0.286686   0.287691  -1.28915    0.126127   0.124954   0.128527\n",
       "  0.287309   0.288337   0.128271  -1.29387    0.125171   0.128882\n",
       "  0.28665    0.287474   0.127996   0.125908  -1.29143    0.128494\n",
       "  0.287242   0.288019   0.128341   0.126219   0.125208  -1.2908"
      ]
     },
     "execution_count": 114,
     "metadata": {},
     "output_type": "execute_result"
    }
   ],
   "source": [
    "# for each market, we should get a JxJ matrix \n",
    "T = size(share_array)[1]\n",
    "J = size(share_array)[2]\n",
    "\n",
    "η = zeros(T, J^2)\n",
    "\n",
    "for t in 1:T\n",
    "    iter = 1\n",
    "    for j in 1:J\n",
    "        for k in 1:J\n",
    "            if j == k \n",
    "                η[t, iter] = -1 * α * price_array[t,j] * (1-share_array[t,k])\n",
    "            else \n",
    "                η[t, iter] = α * price_array[t,k] * share_array[t,j]\n",
    "            end\n",
    "        iter += 1\n",
    "        end\n",
    "    end\n",
    "end\n",
    "\n",
    "# average across each market\n",
    "η̄ = reshape(mean(η, dims=1), 6, 6)"
   ]
  },
  {
   "cell_type": "markdown",
   "id": "d7f3a24e",
   "metadata": {},
   "source": [
    "# Part 3: Recover marginal costs\n",
    "Assuming that each product-market is a different firm, we can obtain the following from the FOC from the firm optimization:\n",
    "$$ s_{jt}(p) + (p_{jt} - mc_{jt}) \\frac{\\partial s_{jt}}{\\partial p_{kt}} = 0 $$\n",
    "which implies:\n",
    "$$ s_{jt}(p) \\frac{1}{\\frac{\\partial s_{jt}}{\\partial p_{kt}}} + p_{jt} = mc_{jt} $$\n",
    "\n",
    "We can equivalently write this as:\n",
    "$$ mc_{jt} = p_{jt} - \\frac{1}{\\alpha}\\frac{1}{(1-s_{jt})}$$\n",
    "which makes it clear that average marginal costs can be related to prices and shares directly from the data given an estimate of $\\alpha$."
   ]
  },
  {
   "cell_type": "code",
   "execution_count": 4,
   "id": "7d717b7d",
   "metadata": {},
   "outputs": [
    {
     "data": {
      "text/html": [
       "<div><div style = \"float: left;\"><span>6×5 DataFrame</span></div><div style = \"clear: both;\"></div></div><div class = \"data-frame\" style = \"overflow-x: scroll;\"><table class = \"data-frame\" style = \"margin-bottom: 6px;\"><thead><tr class = \"header\"><th class = \"rowNumber\" style = \"font-weight: bold; text-align: right;\">Row</th><th style = \"text-align: left;\">Product</th><th style = \"text-align: left;\">mc_mean</th><th style = \"text-align: left;\">Prices_mean</th><th style = \"text-align: left;\">invshares_mean</th><th style = \"text-align: left;\">Shares_mean</th></tr><tr class = \"subheader headerLastRow\"><th class = \"rowNumber\" style = \"font-weight: bold; text-align: right;\"></th><th title = \"Int64\" style = \"text-align: left;\">Int64</th><th title = \"Float64\" style = \"text-align: left;\">Float64</th><th title = \"Float64\" style = \"text-align: left;\">Float64</th><th title = \"Float64\" style = \"text-align: left;\">Float64</th><th title = \"Float64\" style = \"text-align: left;\">Float64</th></tr></thead><tbody><tr><td class = \"rowNumber\" style = \"font-weight: bold; text-align: right;\">1</td><td style = \"text-align: right;\">1</td><td style = \"text-align: right;\">0.667126</td><td style = \"text-align: right;\">3.35995</td><td style = \"text-align: right;\">1.25883</td><td style = \"text-align: right;\">0.202451</td></tr><tr><td class = \"rowNumber\" style = \"font-weight: bold; text-align: right;\">2</td><td style = \"text-align: right;\">2</td><td style = \"text-align: right;\">0.671897</td><td style = \"text-align: right;\">3.36753</td><td style = \"text-align: right;\">1.26015</td><td style = \"text-align: right;\">0.203076</td></tr><tr><td class = \"rowNumber\" style = \"font-weight: bold; text-align: right;\">3</td><td style = \"text-align: right;\">3</td><td style = \"text-align: right;\">0.678684</td><td style = \"text-align: right;\">3.03306</td><td style = \"text-align: right;\">1.10061</td><td style = \"text-align: right;\">0.0903493</td></tr><tr><td class = \"rowNumber\" style = \"font-weight: bold; text-align: right;\">4</td><td style = \"text-align: right;\">4</td><td style = \"text-align: right;\">0.688906</td><td style = \"text-align: right;\">3.03977</td><td style = \"text-align: right;\">1.09898</td><td style = \"text-align: right;\">0.0889407</td></tr><tr><td class = \"rowNumber\" style = \"font-weight: bold; text-align: right;\">5</td><td style = \"text-align: right;\">5</td><td style = \"text-align: right;\">0.682632</td><td style = \"text-align: right;\">3.03103</td><td style = \"text-align: right;\">1.09782</td><td style = \"text-align: right;\">0.0881716</td></tr><tr><td class = \"rowNumber\" style = \"font-weight: bold; text-align: right;\">6</td><td style = \"text-align: right;\">6</td><td style = \"text-align: right;\">0.682689</td><td style = \"text-align: right;\">3.03815</td><td style = \"text-align: right;\">1.10112</td><td style = \"text-align: right;\">0.0906875</td></tr></tbody></table></div>"
      ],
      "text/latex": [
       "\\begin{tabular}{r|ccccc}\n",
       "\t& Product & mc\\_mean & Prices\\_mean & invshares\\_mean & Shares\\_mean\\\\\n",
       "\t\\hline\n",
       "\t& Int64 & Float64 & Float64 & Float64 & Float64\\\\\n",
       "\t\\hline\n",
       "\t1 & 1 & 0.667126 & 3.35995 & 1.25883 & 0.202451 \\\\\n",
       "\t2 & 2 & 0.671897 & 3.36753 & 1.26015 & 0.203076 \\\\\n",
       "\t3 & 3 & 0.678684 & 3.03306 & 1.10061 & 0.0903493 \\\\\n",
       "\t4 & 4 & 0.688906 & 3.03977 & 1.09898 & 0.0889407 \\\\\n",
       "\t5 & 5 & 0.682632 & 3.03103 & 1.09782 & 0.0881716 \\\\\n",
       "\t6 & 6 & 0.682689 & 3.03815 & 1.10112 & 0.0906875 \\\\\n",
       "\\end{tabular}\n"
      ],
      "text/plain": [
       "\u001b[1m6×5 DataFrame\u001b[0m\n",
       "\u001b[1m Row \u001b[0m│\u001b[1m Product \u001b[0m\u001b[1m mc_mean  \u001b[0m\u001b[1m Prices_mean \u001b[0m\u001b[1m invshares_mean \u001b[0m\u001b[1m Shares_mean \u001b[0m\n",
       "     │\u001b[90m Int64   \u001b[0m\u001b[90m Float64  \u001b[0m\u001b[90m Float64     \u001b[0m\u001b[90m Float64        \u001b[0m\u001b[90m Float64     \u001b[0m\n",
       "─────┼─────────────────────────────────────────────────────────────\n",
       "   1 │       1  0.667126      3.35995         1.25883    0.202451\n",
       "   2 │       2  0.671897      3.36753         1.26015    0.203076\n",
       "   3 │       3  0.678684      3.03306         1.10061    0.0903493\n",
       "   4 │       4  0.688906      3.03977         1.09898    0.0889407\n",
       "   5 │       5  0.682632      3.03103         1.09782    0.0881716\n",
       "   6 │       6  0.682689      3.03815         1.10112    0.0906875"
      ]
     },
     "execution_count": 4,
     "metadata": {},
     "output_type": "execute_result"
    }
   ],
   "source": [
    "# own partial\n",
    "#df[!,:own_partial] = α .* df[!,:Shares] .* (1 .- df[!,:Shares]);\n",
    "#df[!,:mc] = df[!,:Shares] ./ df[!,:own_partial] .+ df[!,:Prices];\n",
    "\n",
    "df[!,:invshares] = 1 ./ (1 .- df[!,:Shares]);\n",
    "df[!,:mc] = df[!,:Prices] - (1/α) .* df[!,:invshares];\n",
    "\n",
    "means = groupby(df, :Product)\n",
    "means = combine(means, [:mc,:Prices,:invshares, :Shares] .=> mean)"
   ]
  },
  {
   "cell_type": "markdown",
   "id": "4b2e46f7",
   "metadata": {},
   "source": [
    "# Part 4: Product 1 exits the market\n",
    "I think the following works:\n",
    "\n",
    "- The regression predicts $ln(S_j/S_0)$, where $S_0 = 1 - \\sum_k S_k$. Note $\\sum_j S_j / S_0 = \\frac{1-S_0}{S_0}$:\n",
    "$$ \\exp\\left(\\ln\\left(\\frac{S_j}{S_0}\\right)\\right) = \\frac{S_j}{S_0} \\\\  \\frac{\\frac{S_j}{S_0}}{ \\sum_j \\frac{S_j}{S_0}} =  \\frac{S_j}{1-S_0} = \\frac{S_j}{\\sum_k S_k} $$\n",
    "\n",
    "MM: To simulate $j = 1$ leaving the market, we solve for the market prices that minimize the firms' first-order conditions as the objective, subject to demand (expressed as shares) as estimated above. We can use the fact that $\\frac{\\partial s_{k}}{\\partial p_{k}} = -\\alpha s_k (1-s_k)$. We can then plug the prices into the share equation to get simulated market shares. That is:\n",
    "$$ \\min_{p} || FOC_k ||  = || s(p) + \\alpha (p - c)s(p)(1 - s(p)) || $$\n",
    "$$ \\text{s.t. } s_{j} = \\frac{\\exp(-\\alpha p_{j} + x_{j}'\\beta + \\xi_{j})}{1 + \\sum_{k = 2}^5 \\exp(-\\alpha p_{k} + x_{k}'\\beta + \\xi_{k})}$$ \n",
    "We can solve this with a simple fixed point algorithm, starting with a candidate vector of market prices, $p_k^{(i)}$, then calculating the implied price from the FOC by $p_k^{(i+1)} = c - \\frac{1}{\\alpha(1-s(p_k^{(i)}))}$, until some tolerance for $p_k^{(i+1)} - p_k^{(i)}$."
   ]
  },
  {
   "cell_type": "code",
   "execution_count": 68,
   "id": "6db3d91b",
   "metadata": {},
   "outputs": [
    {
     "data": {
      "text/plain": [
       "objective (generic function with 1 method)"
      ]
     },
     "execution_count": 68,
     "metadata": {},
     "output_type": "execute_result"
    }
   ],
   "source": [
    "function implied_shares(J,x,ξ,α,β,p) # calculate market demand given parameters, prices, and products\n",
    "    # numerator\n",
    "    u = zeros(J);\n",
    "    @. u = exp(-α * p + x * β + ξ);\n",
    "    \n",
    "    # denominator\n",
    "    u_sum = sum(u) + 1;\n",
    "    \n",
    "    # calculate shares\n",
    "    s = u ./ u_sum;\n",
    "    \n",
    "    return s\n",
    "end\n",
    "\n",
    "function implied_p(x,ξ,α,β,c,p)\n",
    "    J = size(p)\n",
    "    \n",
    "    s = implied_shares(J,x,ξ,α,β,p)\n",
    "    # p = c + 1/α .* (1 ./ (1 .- s))\n",
    "    p = c + 1/α .* s .* (p - c)   \n",
    "    \n",
    "    return p\n",
    "end\n",
    "\n",
    "function foc(J,α,s,c,p)\n",
    "    # calculate firm FOCs\n",
    "    foc = zeros(J)\n",
    "    @. foc = s + (α * (p - c) * s * (1 - s)); \n",
    "    \n",
    "    return foc\n",
    "end\n",
    "\n",
    "function objective(x,ξ,α,β,c,p) # minimize total error in firm pricing FOCs in a market\n",
    "    # number of parameters\n",
    "    J = size(p)\n",
    "    \n",
    "    s = implied_shares(J,x,ξ,α,β,p)\n",
    "    firmfoc = foc(J,α,s,c,p)\n",
    "    \n",
    "    # objective\n",
    "    F = sum(firmfoc.^2)\n",
    "    \n",
    "    return F\n",
    "end"
   ]
  },
  {
   "cell_type": "code",
   "execution_count": 96,
   "id": "859d8120",
   "metadata": {},
   "outputs": [
    {
     "name": "stdout",
     "output_type": "stream",
     "text": [
      "  0.658797 seconds (4.82 M allocations: 346.301 MiB, 11.07% gc time, 14.94% compilation time)\n",
      "successes: 1000/1000"
     ]
    }
   ],
   "source": [
    "# Option 1: Solver (I don't think this works right, prices can be ~1% off)\n",
    "simulation = df[!,[:market, :Product, :x, :ξ, :mc, :Prices, :Shares]];\n",
    "simulation = simulation[(df.Product .!= 1), :];\n",
    "nmkts = 1000\n",
    "\n",
    "# Solve for prices, looping through each market\n",
    "prices1 = [];\n",
    "\n",
    "focs1 = [];\n",
    "shares1 = [];\n",
    "\n",
    "n_params = size(simulation[(simulation.market .== 1), :])[1]; \n",
    "\n",
    "count = 0\n",
    "@time for mkt in 1:nmkts\n",
    "    sim_mkt = simulation[(simulation.market .== mkt), :];\n",
    "\n",
    "    # start somewhere close to true prices\n",
    "    lower =  Array(ones(n_params) .* 1.0)\n",
    "    # params0 = Array(ones(n_params) .* 3.0)\n",
    "    params0 = Array(sim_mkt[!,:Prices])\n",
    "    upper =  Array(ones(n_params) .* 6.0)  \n",
    "\n",
    "    x = Array(sim_mkt[!,:x]);\n",
    "    ξ = Array(sim_mkt[!,:ξ]);\n",
    "    c = Array(sim_mkt[!,:mc]);\n",
    "\n",
    "    optimum = optimize(p -> objective(x,ξ,α,β,c,p), lower, upper, params0, Fminbox(LBFGS()))\n",
    "    count += (Optim.converged(optimum) == true)\n",
    "    p_sim = optimum.minimizer\n",
    "\n",
    "    push!(prices1,p_sim)\n",
    "\n",
    "    o = objective(x,ξ,α,β,c,p_sim)\n",
    "    s = implied_shares(n_params,x,ξ,α,β,p_sim)\n",
    "\n",
    "    push!(focs1,o)\n",
    "    push!(shares1,s)\n",
    "end\n",
    "print(\"successes: \", count, \"/\", nmkts)"
   ]
  },
  {
   "cell_type": "code",
   "execution_count": 67,
   "id": "afb7c1af",
   "metadata": {},
   "outputs": [
    {
     "name": "stdout",
     "output_type": "stream",
     "text": [
      "  1.180757 seconds (5.82 M allocations: 422.507 MiB, 7.55% gc time, 21.67% compilation time)\n",
      "Maxed out iterations: 403\n",
      "Max L2-FOC distance: 0.7685875525307537"
     ]
    }
   ],
   "source": [
    "# Option 2: Fixed point (this is spot on accurate)\n",
    "simulation = df[!,[:market, :Product, :x, :ξ, :mc, :Prices, :Shares]];\n",
    "# simulation = simulation[(df.Product .!= 1), :];\n",
    "nmkts = 1000\n",
    "tol = 1e-16\n",
    "\n",
    "# Solve for prices, looping through each market\n",
    "prices2 = [];\n",
    "\n",
    "focs2 = [];\n",
    "shares2 = [];\n",
    "fail = []\n",
    "\n",
    "n_params = size(simulation[(simulation.market .== 1), :])[1]; \n",
    "\n",
    "count = 0\n",
    "@time for mkt in 1:1000\n",
    "    sim_mkt = simulation[(simulation.market .== mkt), :];\n",
    "    \n",
    "    # start somewhere close to true prices\n",
    "    # p₀ = Array(ones(n_params) .* 1.0)\n",
    "    p₀ = Array(sim_mkt[!,:Prices]) \n",
    "    \n",
    "    x = Array(sim_mkt[!,:x]);\n",
    "    ξ = Array(sim_mkt[!,:ξ]);\n",
    "    c = Array(sim_mkt[!,:mc]);\n",
    "    \n",
    "    pᵢ = p₀\n",
    "    ε = 1\n",
    "    i = 0\n",
    "    while (ε > tol) && (i < 1000)   \n",
    "        i += 1\n",
    "        pᵢ₊₁ = implied_p(x,ξ,α,β,c,pᵢ)\n",
    "        ε = maximum(abs.(pᵢ₊₁ - pᵢ))\n",
    "        pᵢ = max.(pᵢ₊₁,zeros(n_params))\n",
    "    end\n",
    "\n",
    "    #println(\"mkt: $mkt\", \" ε: $ε\", \" i: $i\")\n",
    "    #println(\"p: $pᵢ\")  \n",
    "    \n",
    "    append!(prices2,pᵢ)\n",
    "    \n",
    "    o = objective(x,ξ,α,β,c,pᵢ)\n",
    "    s = implied_shares(n_params,x,ξ,α,β,pᵢ)\n",
    "    \n",
    "    push!(focs2,o)\n",
    "    push!(shares2,s)\n",
    "    push!(fail,(i == 1000))\n",
    "end\n",
    "\n",
    "print(\"Maxed out iterations: \", sum(fail), \"\\nMax L2-FOC distance: \", maximum(focs2))"
   ]
  },
  {
   "cell_type": "code",
   "execution_count": 59,
   "id": "8bd62f0d",
   "metadata": {},
   "outputs": [
    {
     "name": "stdout",
     "output_type": "stream",
     "text": [
      "Old shares and means: \u001b[1m6×2 DataFrame\u001b[0m\n",
      "\u001b[1m Row \u001b[0m│\u001b[1m Prices_mean \u001b[0m\u001b[1m Shares_mean \u001b[0m\n",
      "     │\u001b[90m Float64     \u001b[0m\u001b[90m Float64     \u001b[0m\n",
      "─────┼──────────────────────────\n",
      "   1 │     3.35995    0.202451\n",
      "   2 │     3.36753    0.203076\n",
      "   3 │     3.03306    0.0903493\n",
      "   4 │     3.03977    0.0889407\n",
      "   5 │     3.03103    0.0881716\n",
      "   6 │     3.03815    0.0906875\n",
      "8.881784197001252e-16\n"
     ]
    }
   ],
   "source": [
    "s = simulation[(simulation.market .<= nmkts), :Shares]\n",
    "p = simulation[(simulation.market .<= nmkts), :Prices]\n",
    "\n",
    "println(\"Old shares and means: \", means[!,[\"Prices_mean\", \"Shares_mean\"]])\n",
    "#println(\"New prices1: \", mean(prices1, dims = 1))\n",
    "#println(\"New shares1: \", mean(shares1, dims = 1))\n",
    "println(\"New prices2: \", mean(prices2, dims = 1))\n",
    "println(\"New shares2: \", mean(shares2, dims = 1))"
   ]
  }
 ],
 "metadata": {
  "kernelspec": {
   "display_name": "Julia 1.7.2",
   "language": "julia",
   "name": "julia-1.7"
  },
  "language_info": {
   "file_extension": ".jl",
   "mimetype": "application/julia",
   "name": "julia",
   "version": "1.7.2"
  }
 },
 "nbformat": 4,
 "nbformat_minor": 5
}
