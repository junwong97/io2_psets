{
 "cells": [
  {
   "cell_type": "markdown",
   "id": "74fc38a5",
   "metadata": {},
   "source": [
    "# Question 3"
   ]
  },
  {
   "cell_type": "code",
   "execution_count": 11,
   "id": "ab0101a6",
   "metadata": {},
   "outputs": [],
   "source": [
    "using Plots, DataFrames, CSV, GLM\n",
    "using Optim, Distributions, Random, ForwardDiff\n",
    "using LinearAlgebra, StatsFuns, FixedEffectModels"
   ]
  },
  {
   "cell_type": "code",
   "execution_count": 12,
   "id": "0386e6c9",
   "metadata": {
    "scrolled": true
   },
   "outputs": [],
   "source": [
    "df = DataFrame(CSV.File(\"data/ps1_ex3.csv\"));\n",
    "\n",
    "# I need to get the 0 share in each market \n",
    "gdf = groupby(df, :market)\n",
    "gdf = combine(gdf, :Shares => sum)\n",
    "gdf[!,:shares_0] = 1 .- gdf[!,:Shares_sum];\n",
    "df = leftjoin(df, gdf, on=:market);\n",
    "\n",
    "# Will need ln(s_jt / s_0t) and ln(s_jt)\n",
    "df[!,:log_sj_s0] = log.(df[!,:Shares]./df[!,:shares_0]);\n",
    "df[!,:log_sj] = log.(df[!,:Shares]);"
   ]
  },
  {
   "cell_type": "markdown",
   "id": "b97ce19f",
   "metadata": {},
   "source": [
    "# Part 1: Estimating $(\\alpha, \\beta)$\n",
    "\n",
    "We have the moment condition $E[\\xi_{jt} | z_{jt}] = 0$, hence we can estimate the following with TSLS: \n",
    "\n",
    "$$ ln\\left(\\frac{s_{jt}}{s_{0t}}\\right) = - \\alpha p_{jt} + x_{jt}' \\beta + \\xi_{jt}$$"
   ]
  },
  {
   "cell_type": "code",
   "execution_count": 205,
   "id": "ee78c50d",
   "metadata": {},
   "outputs": [
    {
     "name": "stdout",
     "output_type": "stream",
     "text": [
      "                                IV Model                                \n",
      "========================================================================\n",
      "Number of obs:                 6000  Degrees of freedom:               2\n",
      "R2:                           0.002  R2 Adjusted:                  0.001\n",
      "F-Stat:                     787.122  p-value:                      0.000\n",
      "F-Stat (First Stage):       2011.28  p-value (First Stage):        0.000\n",
      "========================================================================\n",
      "log_sj_s0   |  Estimate  Std.Error  t value Pr(>|t|) Lower 95% Upper 95%\n",
      "------------------------------------------------------------------------\n",
      "x           |  0.304672 0.00833715   36.544    0.000  0.288329  0.321016\n",
      "Prices      | -0.467477  0.0618097 -7.56317    0.000 -0.588646 -0.346308\n",
      "(Intercept) |  0.728887   0.194486  3.74775    0.000  0.347624   1.11015\n",
      "========================================================================\n",
      "α: 0.4674770969358192\n",
      "β: 0.3046723858039903"
     ]
    },
    {
     "data": {
      "text/html": [
       "<div><div style = \"float: left;\"><span>6×2 DataFrame</span></div><div style = \"clear: both;\"></div></div><div class = \"data-frame\" style = \"overflow-x: scroll;\"><table class = \"data-frame\" style = \"margin-bottom: 6px;\"><thead><tr class = \"header\"><th class = \"rowNumber\" style = \"font-weight: bold; text-align: right;\">Row</th><th style = \"text-align: left;\">Product</th><th style = \"text-align: left;\">ξ_mean</th></tr><tr class = \"subheader headerLastRow\"><th class = \"rowNumber\" style = \"font-weight: bold; text-align: right;\"></th><th title = \"Int64\" style = \"text-align: left;\">Int64</th><th title = \"Float64\" style = \"text-align: left;\">Float64</th></tr></thead><tbody><tr><td class = \"rowNumber\" style = \"font-weight: bold; text-align: right;\">1</td><td style = \"text-align: right;\">1</td><td style = \"text-align: right;\">1.38619</td></tr><tr><td class = \"rowNumber\" style = \"font-weight: bold; text-align: right;\">2</td><td style = \"text-align: right;\">2</td><td style = \"text-align: right;\">1.39275</td></tr><tr><td class = \"rowNumber\" style = \"font-weight: bold; text-align: right;\">3</td><td style = \"text-align: right;\">3</td><td style = \"text-align: right;\">0.401759</td></tr><tr><td class = \"rowNumber\" style = \"font-weight: bold; text-align: right;\">4</td><td style = \"text-align: right;\">4</td><td style = \"text-align: right;\">0.394211</td></tr><tr><td class = \"rowNumber\" style = \"font-weight: bold; text-align: right;\">5</td><td style = \"text-align: right;\">5</td><td style = \"text-align: right;\">0.399346</td></tr><tr><td class = \"rowNumber\" style = \"font-weight: bold; text-align: right;\">6</td><td style = \"text-align: right;\">6</td><td style = \"text-align: right;\">0.39907</td></tr></tbody></table></div>"
      ],
      "text/latex": [
       "\\begin{tabular}{r|cc}\n",
       "\t& Product & ξ\\_mean\\\\\n",
       "\t\\hline\n",
       "\t& Int64 & Float64\\\\\n",
       "\t\\hline\n",
       "\t1 & 1 & 1.38619 \\\\\n",
       "\t2 & 2 & 1.39275 \\\\\n",
       "\t3 & 3 & 0.401759 \\\\\n",
       "\t4 & 4 & 0.394211 \\\\\n",
       "\t5 & 5 & 0.399346 \\\\\n",
       "\t6 & 6 & 0.39907 \\\\\n",
       "\\end{tabular}\n"
      ],
      "text/plain": [
       "\u001b[1m6×2 DataFrame\u001b[0m\n",
       "\u001b[1m Row \u001b[0m│\u001b[1m Product \u001b[0m\u001b[1m ξ_mean   \u001b[0m\n",
       "     │\u001b[90m Int64   \u001b[0m\u001b[90m Float64  \u001b[0m\n",
       "─────┼───────────────────\n",
       "   1 │       1  1.38619\n",
       "   2 │       2  1.39275\n",
       "   3 │       3  0.401759\n",
       "   4 │       4  0.394211\n",
       "   5 │       5  0.399346\n",
       "   6 │       6  0.39907"
      ]
     },
     "execution_count": 205,
     "metadata": {},
     "output_type": "execute_result"
    }
   ],
   "source": [
    "###### estimates = reg(df, @formula(log_sj_s0 ~ x + (Prices ~ z)))\n",
    "show(estimates)\n",
    "α = -coef(estimates)[3];\n",
    "β = coef(estimates)[2];\n",
    "df[!,:ξ] = (df[!,:log_sj_s0] - predict(estimates,df)) .+ coef(estimates)[1];\n",
    "\n",
    "# Parameters\n",
    "print(\"α: $α\", \"\\nβ: $β\")\n",
    "\n",
    "# Brand preference\n",
    "gdf = groupby(df, :Product)\n",
    "gdf = combine(gdf, :ξ => mean)"
   ]
  },
  {
   "cell_type": "markdown",
   "id": "7590a3d5",
   "metadata": {},
   "source": [
    "# Part 2: Finding price elasticities"
   ]
  },
  {
   "cell_type": "markdown",
   "id": "e577e4cd",
   "metadata": {},
   "source": [
    "$$\\eta_{jkt} = \\frac{\\partial s_{jt}}{\\partial p_{kt}} \\frac{p_{kt}}{s_{jt}} = \\begin{cases}\n",
    "        - \\alpha p_{jt} (1-s_{jt}) & j=k \\\\\n",
    "        \\alpha p_{kt} s_{kt} & j\\neq k\n",
    "    \\end{cases}$$"
   ]
  },
  {
   "cell_type": "code",
   "execution_count": 15,
   "id": "932a5ff6",
   "metadata": {
    "scrolled": true
   },
   "outputs": [],
   "source": [
    "# reshape dataframe of prices and shares\n",
    "share_array = Array(unstack(df, :market, :Product, :Shares)[!,2:7]);\n",
    "price_array = Array(unstack(df, :market, :Product, :Prices)[!,2:7]);"
   ]
  },
  {
   "cell_type": "code",
   "execution_count": 31,
   "id": "8e974c10",
   "metadata": {},
   "outputs": [
    {
     "data": {
      "text/plain": [
       "6×6 Matrix{Float64}:\n",
       " -1.24962    0.323002   0.128738   0.127154   0.12551   0.129465\n",
       "  0.321076  -1.25124    0.128738   0.127154   0.12551   0.129465\n",
       "  0.321076   0.323002  -1.28915    0.127154   0.12551   0.129465\n",
       "  0.321076   0.323002   0.128738  -1.29387    0.12551   0.129465\n",
       "  0.321076   0.323002   0.128738   0.127154  -1.29143   0.129465\n",
       "  0.321076   0.323002   0.128738   0.127154   0.12551  -1.2908"
      ]
     },
     "execution_count": 31,
     "metadata": {},
     "output_type": "execute_result"
    }
   ],
   "source": [
    "# for each market, we should get a JxJ matrix \n",
    "T = size(share_array)[1]\n",
    "J = size(share_array)[2]\n",
    "\n",
    "# for each market, calculate each elasticities and store market substitution matrix ηₜ in vector η\n",
    "η = Matrix{Float64}[] \n",
    "for t in 1:T\n",
    "    ηₜ = zeros(Float64,J,J)\n",
    "    for j in 1:J\n",
    "        for k in 1:J\n",
    "            if j == k\n",
    "                ηₜ[j,k] = - α * price_array[t,j] * (1 - share_array[t,j]) \n",
    "            else\n",
    "                ηₜ[j,k] = α * price_array[t,k] * share_array[t,k]\n",
    "            end\n",
    "        end\n",
    "    end\n",
    "    push!(η,ηₜ)\n",
    "end\n",
    "\n",
    "# average across each market\n",
    "mean(η)"
   ]
  },
  {
   "cell_type": "markdown",
   "id": "083237ac",
   "metadata": {},
   "source": [
    "# Part 3: Recover marginal costs\n",
    "Assuming that each product-market is a different firm, we can obtain the following from the FOC from the firm optimization:\n",
    "$$ s_{jt}(p) + (p_{jt} - mc_{jt}) \\frac{\\partial s_{jt}}{\\partial p_{kt}} = 0 $$\n",
    "which implies:\n",
    "$$ s_{jt}(p) \\frac{1}{\\frac{\\partial s_{jt}}{\\partial p_{kt}}} + p_{jt} = mc_{jt} $$\n",
    "\n",
    "We can equivalently write this as:\n",
    "$$ mc_{jt} = p_{jt} - \\frac{1}{\\alpha}\\frac{1}{(1-s_{jt})}$$\n",
    "which makes it clear that average marginal costs can be related to prices and shares directly from the data given an estimate of $\\alpha$."
   ]
  },
  {
   "cell_type": "code",
   "execution_count": 32,
   "id": "bacd457d",
   "metadata": {},
   "outputs": [
    {
     "data": {
      "text/html": [
       "<div><div style = \"float: left;\"><span>6×5 DataFrame</span></div><div style = \"clear: both;\"></div></div><div class = \"data-frame\" style = \"overflow-x: scroll;\"><table class = \"data-frame\" style = \"margin-bottom: 6px;\"><thead><tr class = \"header\"><th class = \"rowNumber\" style = \"font-weight: bold; text-align: right;\">Row</th><th style = \"text-align: left;\">Product</th><th style = \"text-align: left;\">mc_mean</th><th style = \"text-align: left;\">Prices_mean</th><th style = \"text-align: left;\">invshares_mean</th><th style = \"text-align: left;\">Shares_mean</th></tr><tr class = \"subheader headerLastRow\"><th class = \"rowNumber\" style = \"font-weight: bold; text-align: right;\"></th><th title = \"Int64\" style = \"text-align: left;\">Int64</th><th title = \"Float64\" style = \"text-align: left;\">Float64</th><th title = \"Float64\" style = \"text-align: left;\">Float64</th><th title = \"Float64\" style = \"text-align: left;\">Float64</th><th title = \"Float64\" style = \"text-align: left;\">Float64</th></tr></thead><tbody><tr><td class = \"rowNumber\" style = \"font-weight: bold; text-align: right;\">1</td><td style = \"text-align: right;\">1</td><td style = \"text-align: right;\">0.667126</td><td style = \"text-align: right;\">3.35995</td><td style = \"text-align: right;\">1.25883</td><td style = \"text-align: right;\">0.202451</td></tr><tr><td class = \"rowNumber\" style = \"font-weight: bold; text-align: right;\">2</td><td style = \"text-align: right;\">2</td><td style = \"text-align: right;\">0.671897</td><td style = \"text-align: right;\">3.36753</td><td style = \"text-align: right;\">1.26015</td><td style = \"text-align: right;\">0.203076</td></tr><tr><td class = \"rowNumber\" style = \"font-weight: bold; text-align: right;\">3</td><td style = \"text-align: right;\">3</td><td style = \"text-align: right;\">0.678684</td><td style = \"text-align: right;\">3.03306</td><td style = \"text-align: right;\">1.10061</td><td style = \"text-align: right;\">0.0903493</td></tr><tr><td class = \"rowNumber\" style = \"font-weight: bold; text-align: right;\">4</td><td style = \"text-align: right;\">4</td><td style = \"text-align: right;\">0.688906</td><td style = \"text-align: right;\">3.03977</td><td style = \"text-align: right;\">1.09898</td><td style = \"text-align: right;\">0.0889407</td></tr><tr><td class = \"rowNumber\" style = \"font-weight: bold; text-align: right;\">5</td><td style = \"text-align: right;\">5</td><td style = \"text-align: right;\">0.682632</td><td style = \"text-align: right;\">3.03103</td><td style = \"text-align: right;\">1.09782</td><td style = \"text-align: right;\">0.0881716</td></tr><tr><td class = \"rowNumber\" style = \"font-weight: bold; text-align: right;\">6</td><td style = \"text-align: right;\">6</td><td style = \"text-align: right;\">0.682689</td><td style = \"text-align: right;\">3.03815</td><td style = \"text-align: right;\">1.10112</td><td style = \"text-align: right;\">0.0906875</td></tr></tbody></table></div>"
      ],
      "text/latex": [
       "\\begin{tabular}{r|ccccc}\n",
       "\t& Product & mc\\_mean & Prices\\_mean & invshares\\_mean & Shares\\_mean\\\\\n",
       "\t\\hline\n",
       "\t& Int64 & Float64 & Float64 & Float64 & Float64\\\\\n",
       "\t\\hline\n",
       "\t1 & 1 & 0.667126 & 3.35995 & 1.25883 & 0.202451 \\\\\n",
       "\t2 & 2 & 0.671897 & 3.36753 & 1.26015 & 0.203076 \\\\\n",
       "\t3 & 3 & 0.678684 & 3.03306 & 1.10061 & 0.0903493 \\\\\n",
       "\t4 & 4 & 0.688906 & 3.03977 & 1.09898 & 0.0889407 \\\\\n",
       "\t5 & 5 & 0.682632 & 3.03103 & 1.09782 & 0.0881716 \\\\\n",
       "\t6 & 6 & 0.682689 & 3.03815 & 1.10112 & 0.0906875 \\\\\n",
       "\\end{tabular}\n"
      ],
      "text/plain": [
       "\u001b[1m6×5 DataFrame\u001b[0m\n",
       "\u001b[1m Row \u001b[0m│\u001b[1m Product \u001b[0m\u001b[1m mc_mean  \u001b[0m\u001b[1m Prices_mean \u001b[0m\u001b[1m invshares_mean \u001b[0m\u001b[1m Shares_mean \u001b[0m\n",
       "     │\u001b[90m Int64   \u001b[0m\u001b[90m Float64  \u001b[0m\u001b[90m Float64     \u001b[0m\u001b[90m Float64        \u001b[0m\u001b[90m Float64     \u001b[0m\n",
       "─────┼─────────────────────────────────────────────────────────────\n",
       "   1 │       1  0.667126      3.35995         1.25883    0.202451\n",
       "   2 │       2  0.671897      3.36753         1.26015    0.203076\n",
       "   3 │       3  0.678684      3.03306         1.10061    0.0903493\n",
       "   4 │       4  0.688906      3.03977         1.09898    0.0889407\n",
       "   5 │       5  0.682632      3.03103         1.09782    0.0881716\n",
       "   6 │       6  0.682689      3.03815         1.10112    0.0906875"
      ]
     },
     "execution_count": 32,
     "metadata": {},
     "output_type": "execute_result"
    }
   ],
   "source": [
    "df[!,:invshares] = 1 ./ (1 .- df[!,:Shares]);\n",
    "\n",
    "df[!,:mc] = df[!,:Prices] - (1/α) .* df[!,:invshares];\n",
    "\n",
    "means = groupby(df, :Product)\n",
    "means = combine(means, [:mc,:Prices,:invshares, :Shares] .=> mean)"
   ]
  },
  {
   "cell_type": "markdown",
   "id": "cf8f39e4",
   "metadata": {},
   "source": [
    "# Part 4: Product 1 exits the market\n",
    "To simulate $j = 1$ leaving the market, we solve for the market prices that minimize the firms' first-order conditions as the objective, subject to demand (expressed as shares) as estimated above. We can use the fact that $\\frac{\\partial s_{k}}{\\partial p_{k}} = -\\alpha s_k (1-s_k)$. We can then plug the prices into the share equation to get simulated market shares. That is:\n",
    "$$ \\min_{p} || FOC_k ||  = || s(p) + \\alpha (p - c)s(p)(1 - s(p)) || $$\n",
    "$$ \\text{s.t. } s_{j}(p) = \\frac{\\exp(-\\alpha p_{j} + x_{j}'\\beta + \\xi_{j})}{1 + \\sum_{k = 2}^5 \\exp(-\\alpha p_{k} + x_{k}'\\beta + \\xi_{k})}$$ \n",
    "Following Conlon and Gortmaker (2020), we can solve this with a simple fixed point algorithm, starting with a candidate vector of market prices, $p_k^{(i)}$, then calculating the implied price from the FOC by $$p_k^{(i+1)} = c + \\frac{1}{\\alpha} + s(p_k^{(i)})(p_k^{(i)} - c_k)$$ until some tolerance for $| p_k^{(i+1)} - p_k^{(i)} |$."
   ]
  },
  {
   "cell_type": "code",
   "execution_count": 76,
   "id": "a100fdbc",
   "metadata": {},
   "outputs": [
    {
     "data": {
      "text/plain": [
       "objective (generic function with 1 method)"
      ]
     },
     "execution_count": 76,
     "metadata": {},
     "output_type": "execute_result"
    }
   ],
   "source": [
    "function implied_shares(x,ξ,α,β,p) # calculate market demand given parameters, prices, and products\n",
    "    J = size(p)\n",
    "    \n",
    "    # numerator\n",
    "    u = zeros(J);\n",
    "    @. u = exp(-α * p + x * β + ξ);\n",
    "    \n",
    "    # denominator\n",
    "    u_sum = sum(u) + 1;\n",
    "    \n",
    "    # calculate shares\n",
    "    s = u ./ u_sum;\n",
    "    \n",
    "    return s\n",
    "end\n",
    "\n",
    "function iterate_price(x,ξ,α,β,c,p) # ## Conlon and Gortmaker (2020) fixed point iteration for price equilibrium\n",
    "    \n",
    "    s = implied_shares(x,ξ,α,β,p)\n",
    "    # p = c + 1/α .* (1 ./ (1 .- s))\n",
    "    p = c .+ 1/α .+ s .* (p - c)   \n",
    "    \n",
    "    return p\n",
    "end\n",
    "\n",
    "function foc(α,s,c,p) # firm objective FOC\n",
    "    J = size(p)\n",
    "    \n",
    "    # calculate firm FOCs\n",
    "    foc = zeros(J)\n",
    "    @. foc = s + (α * (p - c) * s * (1 - s)); \n",
    "    \n",
    "    return foc\n",
    "end\n",
    "\n",
    "function objective(x,ξ,α,β,c,p) # evaluate L2 distance of FOCs\n",
    "    # number of parameters\n",
    "    J = size(p)\n",
    "    \n",
    "    s = implied_shares(x,ξ,α,β,p)\n",
    "    firmfoc = foc(α,s,c,p)\n",
    "    \n",
    "    # objective\n",
    "    F = sum(firmfoc.^2)\n",
    "    \n",
    "    return F\n",
    "end"
   ]
  },
  {
   "cell_type": "code",
   "execution_count": 209,
   "id": "a46239cd",
   "metadata": {},
   "outputs": [
    {
     "name": "stdout",
     "output_type": "stream",
     "text": [
      "  1.540602 seconds (3.72 M allocations: 238.965 MiB, 6.68% gc time)\n",
      "Maxed out iterations: 261\n",
      "Max L2-FOC distance: 0.7974855878851076"
     ]
    }
   ],
   "source": [
    "# Define counterfactual\n",
    "simulation = df[!,[:market, :Product, :x, :ξ, :mc, :Prices, :Shares]];\n",
    "simulation = simulation[(df.Product .!= 1), :];\n",
    "\n",
    "# control loop\n",
    "nmkts = 1000\n",
    "tol = 1e-16\n",
    "max_iter = 1000\n",
    "\n",
    "# Solve for prices, looping through each market\n",
    "prices = Float64[]; \n",
    "shares = Float64[];\n",
    "focs = Float64[];   # L2-norm of firm focs\n",
    "fail = Bool[]       # reaches max_iter\n",
    "\n",
    "n_params = size(simulation[(simulation.market .== 1), :])[1]; \n",
    "\n",
    "count = 0\n",
    "@time for mkt in 1:nmkts\n",
    "    sim_mkt = simulation[(simulation.market .== mkt), :];\n",
    "    \n",
    "    # start somewhere close to true prices\n",
    "    p₀ = Array(sim_mkt[!,:Prices]) \n",
    "    \n",
    "    # define inputs\n",
    "    x = Array(sim_mkt[!,:x]);\n",
    "    ξ = Array(sim_mkt[!,:ξ]);\n",
    "    c = Array(sim_mkt[!,:mc]);\n",
    "    \n",
    "    # fixed point iteration\n",
    "    pᵢ = p₀\n",
    "    ε = 1\n",
    "    i = 0\n",
    "    while (ε > tol) && (i < max_iter)   \n",
    "        i += 1\n",
    "        pᵢ₊₁ = iterate_price(x,ξ,α,β,c,pᵢ)\n",
    "        ε = maximum(abs.(pᵢ₊₁ - pᵢ))\n",
    "        pᵢ = max.(pᵢ₊₁,zeros(n_params))\n",
    "    end\n",
    "    \n",
    "    # store results   \n",
    "        #println(\"mkt: $mkt\", \" ε: $ε\", \" i: $i\")\n",
    "        #println(\"p: $pᵢ\")  \n",
    "    append!(prices,pᵢ)\n",
    "    append!(focs,objective(x,ξ,α,β,c,pᵢ))\n",
    "    append!(shares,implied_shares(x,ξ,α,β,pᵢ))\n",
    "    append!(fail,(i == 1000))\n",
    "end\n",
    "\n",
    "simulation[!,:Sim_Prices] = prices;\n",
    "simulation[!,:Sim_Shares] = shares;\n",
    "\n",
    "print(\"Maxed out iterations: \", sum(fail), \"\\nMax L2-FOC distance: \", maximum(focs))"
   ]
  },
  {
   "cell_type": "code",
   "execution_count": 175,
   "id": "2e1ad618",
   "metadata": {},
   "outputs": [
    {
     "data": {
      "text/html": [
       "<div><div style = \"float: left;\"><span>6×5 DataFrame</span></div><div style = \"clear: both;\"></div></div><div class = \"data-frame\" style = \"overflow-x: scroll;\"><table class = \"data-frame\" style = \"margin-bottom: 6px;\"><thead><tr class = \"header\"><th class = \"rowNumber\" style = \"font-weight: bold; text-align: right;\">Row</th><th style = \"text-align: left;\">Product</th><th style = \"text-align: left;\">Old_Prices</th><th style = \"text-align: left;\">Old_Shares</th><th style = \"text-align: left;\">Sim_Prices_mean</th><th style = \"text-align: left;\">Sim_Shares_mean</th></tr><tr class = \"subheader headerLastRow\"><th class = \"rowNumber\" style = \"font-weight: bold; text-align: right;\"></th><th title = \"Int64\" style = \"text-align: left;\">Int64</th><th title = \"Float64\" style = \"text-align: left;\">Float64</th><th title = \"Float64\" style = \"text-align: left;\">Float64</th><th title = \"Float64\" style = \"text-align: left;\">Float64</th><th title = \"Float64\" style = \"text-align: left;\">Float64</th></tr></thead><tbody><tr><td class = \"rowNumber\" style = \"font-weight: bold; text-align: right;\">1</td><td style = \"text-align: right;\">1</td><td style = \"text-align: right;\">3.35995</td><td style = \"text-align: right;\">0.202451</td><td style = \"text-align: right;\">0.0</td><td style = \"text-align: right;\">0.0</td></tr><tr><td class = \"rowNumber\" style = \"font-weight: bold; text-align: right;\">2</td><td style = \"text-align: right;\">2</td><td style = \"text-align: right;\">3.36753</td><td style = \"text-align: right;\">0.203076</td><td style = \"text-align: right;\">3.518</td><td style = \"text-align: right;\">0.244264</td></tr><tr><td class = \"rowNumber\" style = \"font-weight: bold; text-align: right;\">3</td><td style = \"text-align: right;\">3</td><td style = \"text-align: right;\">3.03306</td><td style = \"text-align: right;\">0.0903493</td><td style = \"text-align: right;\">3.09522</td><td style = \"text-align: right;\">0.113266</td></tr><tr><td class = \"rowNumber\" style = \"font-weight: bold; text-align: right;\">4</td><td style = \"text-align: right;\">4</td><td style = \"text-align: right;\">3.03977</td><td style = \"text-align: right;\">0.0889407</td><td style = \"text-align: right;\">3.10046</td><td style = \"text-align: right;\">0.111395</td></tr><tr><td class = \"rowNumber\" style = \"font-weight: bold; text-align: right;\">5</td><td style = \"text-align: right;\">5</td><td style = \"text-align: right;\">3.03103</td><td style = \"text-align: right;\">0.0881716</td><td style = \"text-align: right;\">3.09185</td><td style = \"text-align: right;\">0.110741</td></tr><tr><td class = \"rowNumber\" style = \"font-weight: bold; text-align: right;\">6</td><td style = \"text-align: right;\">6</td><td style = \"text-align: right;\">3.03815</td><td style = \"text-align: right;\">0.0906875</td><td style = \"text-align: right;\">3.10044</td><td style = \"text-align: right;\">0.113597</td></tr></tbody></table></div>"
      ],
      "text/latex": [
       "\\begin{tabular}{r|ccccc}\n",
       "\t& Product & Old\\_Prices & Old\\_Shares & Sim\\_Prices\\_mean & Sim\\_Shares\\_mean\\\\\n",
       "\t\\hline\n",
       "\t& Int64 & Float64 & Float64 & Float64 & Float64\\\\\n",
       "\t\\hline\n",
       "\t1 & 1 & 3.35995 & 0.202451 & 0.0 & 0.0 \\\\\n",
       "\t2 & 2 & 3.36753 & 0.203076 & 3.518 & 0.244264 \\\\\n",
       "\t3 & 3 & 3.03306 & 0.0903493 & 3.09522 & 0.113266 \\\\\n",
       "\t4 & 4 & 3.03977 & 0.0889407 & 3.10046 & 0.111395 \\\\\n",
       "\t5 & 5 & 3.03103 & 0.0881716 & 3.09185 & 0.110741 \\\\\n",
       "\t6 & 6 & 3.03815 & 0.0906875 & 3.10044 & 0.113597 \\\\\n",
       "\\end{tabular}\n"
      ],
      "text/plain": [
       "\u001b[1m6×5 DataFrame\u001b[0m\n",
       "\u001b[1m Row \u001b[0m│\u001b[1m Product \u001b[0m\u001b[1m Old_Prices \u001b[0m\u001b[1m Old_Shares \u001b[0m\u001b[1m Sim_Prices_mean \u001b[0m\u001b[1m Sim_Shares_mean \u001b[0m\n",
       "     │\u001b[90m Int64   \u001b[0m\u001b[90m Float64    \u001b[0m\u001b[90m Float64    \u001b[0m\u001b[90m Float64         \u001b[0m\u001b[90m Float64         \u001b[0m\n",
       "─────┼───────────────────────────────────────────────────────────────────\n",
       "   1 │       1     3.35995   0.202451           0.0             0.0\n",
       "   2 │       2     3.36753   0.203076           3.518           0.244264\n",
       "   3 │       3     3.03306   0.0903493          3.09522         0.113266\n",
       "   4 │       4     3.03977   0.0889407          3.10046         0.111395\n",
       "   5 │       5     3.03103   0.0881716          3.09185         0.110741\n",
       "   6 │       6     3.03815   0.0906875          3.10044         0.113597"
      ]
     },
     "execution_count": 175,
     "metadata": {},
     "output_type": "execute_result"
    }
   ],
   "source": [
    "# Get original prices and shares\n",
    "old_results = groupby(df, :Product);\n",
    "old_results = combine(old_results, [:Prices, :Shares] .=> mean);\n",
    "rename!(old_results, :Prices_mean => :Old_Prices, :Shares_mean => :Old_Shares);\n",
    "\n",
    "# Add simulated prices and shares\n",
    "sim_results = groupby(simulation, :Product);\n",
    "sim_results = combine(sim_results, [:Sim_Prices, :Sim_Shares] .=> mean);\n",
    "\n",
    "# Combine with old results, old market now 0\n",
    "sort!(push!(sim_results, [1,0,0]),:Product)\n",
    "\n",
    "innerjoin(old_results,sim_results, on = :Product)"
   ]
  },
  {
   "cell_type": "markdown",
   "id": "49d876a2",
   "metadata": {},
   "source": [
    "# Part 5: Profits and welfare\n",
    "Profit for each firm is: $$ \\pi_{jt} = s_{jt}(p_{jt} - c_{jt})$$\n",
    "Average change in industry profit is then: $$ \\Delta \\bar{\\pi} = \\frac{1}{T} \\sum_{t = 1}^{1000} \\left( \\sum_{j = 2}^5 s_{jt}' (p_{jt}' - c_{jt}) - \\sum_{j = 1}^5 s_{jt} (p_{jt} - c_{jt}) \\right) $$\n",
    "Market welfare (where $\\gamma \\approx 0.577$ is the Euler constant) is given by: $$ W_t = E\\left[\\max_j u_{ijt}\\right] = \\alpha E[y_i] + \\gamma - \\ln(s_{0t}) $$\n",
    "Average change in market welfare is then the average log odds ratio of consuming the outside option: $$ \\Delta \\bar{W} = \\frac{1}{T} \\sum_{t = 1}^{1000} \\ln\\left(\\frac{s_{0t}}{s_{0t}'}\\right)$$"
   ]
  },
  {
   "cell_type": "code",
   "execution_count": 197,
   "id": "fb42cb5d",
   "metadata": {},
   "outputs": [
    {
     "name": "stdout",
     "output_type": "stream",
     "text": [
      "Average change in profits: $ -0.16\n"
     ]
    }
   ],
   "source": [
    "## Calculate profits\n",
    "# Individual firm profit\n",
    "df[!,:Profit]             = df[!,:Shares] .* (df[!,:Prices] .- df[!,:mc]);\n",
    "simulation[!,:Sim_Profit] = simulation[!,:Sim_Shares] .* (simulation[!,:Sim_Prices] .- simulation[!,:mc]);\n",
    "\n",
    "# Pull total profits in each market pre- and post-simulation\n",
    "gdf = groupby(df,:market);\n",
    "gdf = combine(gdf, [:Profit] => sum);\n",
    "\n",
    "gsim = groupby(simulation,:market);\n",
    "gsim = combine(gsim, [:Sim_Profit] => sum)\n",
    "\n",
    "# Average change in market profits\n",
    "profits = innerjoin(gdf, gsim, on = :market);\n",
    "Δ̄π = round(mean(profits[!,:Sim_Profit_sum] .- profits[!,:Profit_sum]); digits = 2);\n",
    "\n",
    "println(\"Average change in profits: \\$ $Δ̄π\")"
   ]
  },
  {
   "cell_type": "code",
   "execution_count": 210,
   "id": "1469cc2f",
   "metadata": {},
   "outputs": [
    {
     "name": "stdout",
     "output_type": "stream",
     "text": [
      "Average change in welfare: -0.26118808227352497 ($ -0.56)\n"
     ]
    }
   ],
   "source": [
    "## Calculate welfare\n",
    "# Outside good shares pre- and post-simulation\n",
    "gdf = groupby(df, :market);\n",
    "gdf = combine(gdf, :Shares => sum);\n",
    "gdf[!,:shares_0] = 1 .- gdf[!,:Shares_sum];\n",
    "\n",
    "gsim = groupby(simulation, :market);\n",
    "gsim = combine(gsim, :Sim_Shares => sum);\n",
    "gsim[!,:shares_0] = 1 .- gsim[!,:Sim_Shares_sum];\n",
    "\n",
    "# Compute welfare, and convert to $ by dividing by MU of income (α)\n",
    "Δ̄W = mean(log.(gdf[!,:shares_0]) .- log.(gsim[!,:shares_0])) \n",
    "dollar_Δ̄W = round(Δ̄W / α; digits = 2)\n",
    "\n",
    "println(\"Average change in welfare: $Δ̄W (\\$ $dollar_Δ̄W)\")"
   ]
  }
 ],
 "metadata": {
  "kernelspec": {
   "display_name": "Julia 1.7.2",
   "language": "julia",
   "name": "julia-1.7"
  },
  "language_info": {
   "file_extension": ".jl",
   "mimetype": "application/julia",
   "name": "julia",
   "version": "1.7.2"
  }
 },
 "nbformat": 4,
 "nbformat_minor": 5
}
