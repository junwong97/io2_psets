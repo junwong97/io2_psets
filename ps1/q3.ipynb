{
 "cells": [
  {
   "cell_type": "markdown",
   "id": "e61d3e36",
   "metadata": {},
   "source": [
    "# Question 3"
   ]
  },
  {
   "cell_type": "code",
   "execution_count": 1,
   "id": "8b3e8d80",
   "metadata": {},
   "outputs": [],
   "source": [
    "using Plots, DataFrames, CSV, GLM\n",
    "using Optim, Distributions, Random, ForwardDiff\n",
    "using LinearAlgebra, StatsFuns, FixedEffectModels"
   ]
  },
  {
   "cell_type": "code",
   "execution_count": 2,
   "id": "e69a441f",
   "metadata": {
    "scrolled": true
   },
   "outputs": [],
   "source": [
    "df = DataFrame(CSV.File(\"data/ps1_ex3.csv\"));\n",
    "\n",
    "# I need to get the 0 share in each market \n",
    "gdf = groupby(df, :market)\n",
    "gdf = combine(gdf, :Shares => sum)\n",
    "gdf[!,:shares_0] = 1 .- gdf[!,:Shares_sum];\n",
    "df = leftjoin(df, gdf, on=:market);\n",
    "\n",
    "# Will need ln(s_jt / s_0t) and ln(s_jt)\n",
    "df[!,:log_sj_s0] = log.(df[!,:Shares]./df[!,:shares_0]);\n",
    "df[!,:log_sj] = log.(df[!,:Shares]);"
   ]
  },
  {
   "cell_type": "markdown",
   "id": "a8e9bb00",
   "metadata": {},
   "source": [
    "# Part 1: Estimating $(\\alpha, \\beta)$\n",
    "\n",
    "We have the moment condition $E[\\xi_{jt} | z_{jt}] = 0$, hence we can estimate the following with TSLS: \n",
    "\n",
    "$$ ln\\left(\\frac{s_{jt}}{s_{0t}}\\right) = - \\alpha p_{jt} + x_{jt}' \\beta + \\xi_{jt}$$"
   ]
  },
  {
   "cell_type": "code",
   "execution_count": 3,
   "id": "55f29ee4",
   "metadata": {},
   "outputs": [],
   "source": [
    "estimates = reg(df, @formula(log_sj_s0 ~ x + (Prices ~ z)))\n",
    "α = -coef(estimates)[3];\n",
    "β = coef(estimates)[2];\n",
    "df[!,:ξ] = (df[!,:log_sj_s0] - predict(estimates,df)) .+ coef(estimates)[1];"
   ]
  },
  {
   "cell_type": "markdown",
   "id": "f0bec02c",
   "metadata": {},
   "source": [
    "# Part 2: Finding price elasticities"
   ]
  },
  {
   "cell_type": "markdown",
   "id": "98f8aa55",
   "metadata": {},
   "source": [
    "$$\\eta_{jkt} = \\frac{\\partial s_{jt}}{\\partial p_{kt}} \\frac{p_{kt}}{s_{jt}} = \\begin{cases}\n",
    "        \\alpha p_{jt} (1-s_{jt}) & j=k \\\\\n",
    "        - \\alpha p_{kt} s_{jt} & j\\neq k\n",
    "    \\end{cases}$$"
   ]
  },
  {
   "cell_type": "code",
   "execution_count": 4,
   "id": "cce41900",
   "metadata": {
    "scrolled": true
   },
   "outputs": [],
   "source": [
    "# reshape dataframe of prices and shares\n",
    "share_array = Array(unstack(df, :market, :Product, :Shares)[!,2:7]);\n",
    "price_array = Array(unstack(df, :market, :Product, :Prices)[!,2:7]);"
   ]
  },
  {
   "cell_type": "code",
   "execution_count": 5,
   "id": "b10021d4",
   "metadata": {},
   "outputs": [
    {
     "data": {
      "text/plain": [
       "6×6 Matrix{Float64}:\n",
       "  1.24962   -0.317914  -0.141565  -0.139219  -0.13808   -0.142108\n",
       " -0.317425   1.25124   -0.141836  -0.13975   -0.138349  -0.142341\n",
       " -0.286686  -0.287691   1.28915   -0.126127  -0.124954  -0.128527\n",
       " -0.287309  -0.288337  -0.128271   1.29387   -0.125171  -0.128882\n",
       " -0.28665   -0.287474  -0.127996  -0.125908   1.29143   -0.128494\n",
       " -0.287242  -0.288019  -0.128341  -0.126219  -0.125208   1.2908"
      ]
     },
     "execution_count": 5,
     "metadata": {},
     "output_type": "execute_result"
    }
   ],
   "source": [
    "# for each market, we should get a JxJ matrix \n",
    "T = size(share_array)[1]\n",
    "J = size(share_array)[2]\n",
    "\n",
    "η = zeros(T, J^2)\n",
    "\n",
    "for t in 1:T\n",
    "    iter = 1\n",
    "    for j in 1:J\n",
    "        for k in 1:J\n",
    "            if j == k \n",
    "                η[t, iter] = α * price_array[t,j] * (1-share_array[t,k])\n",
    "            else \n",
    "                η[t, iter] = -1 * α * price_array[t,k] * share_array[t,j]\n",
    "            end\n",
    "        iter += 1\n",
    "        end\n",
    "    end\n",
    "end\n",
    "\n",
    "# average across each market\n",
    "η̄ = reshape(mean(η, dims=1), 6, 6)"
   ]
  },
  {
   "cell_type": "markdown",
   "id": "37ef2732",
   "metadata": {},
   "source": [
    "# Part 3: Recover marginal costs\n",
    "Assuming that each product-market is a different firm, we can obtain the following from the FOC from the firm optimization:\n",
    "$$ s_{jt}(p) + (p_{jt} - mc_{jt}) \\frac{\\partial s_{jt}}{\\partial p_{kt}} = 0 $$\n",
    "which implies:\n",
    "$$ s_{jt}(p) \\frac{1}{\\frac{\\partial s_{jt}}{\\partial p_{kt}}} + p_{jt} = mc_{jt} $$\n",
    "\n",
    "We can equivalently write this as:\n",
    "$$ mc_{jt} = p_{jt} + \\frac{1}{\\alpha}\\frac{1}{(1-s_{jt})}$$\n",
    "which makes it clear that average marginal costs can be related to prices and shares directly from the data given an estimate of $\\alpha$."
   ]
  },
  {
   "cell_type": "code",
   "execution_count": 6,
   "id": "8aeec72b",
   "metadata": {},
   "outputs": [
    {
     "data": {
      "text/html": [
       "<div><div style = \"float: left;\"><span>6×4 DataFrame</span></div><div style = \"clear: both;\"></div></div><div class = \"data-frame\" style = \"overflow-x: scroll;\"><table class = \"data-frame\" style = \"margin-bottom: 6px;\"><thead><tr class = \"header\"><th class = \"rowNumber\" style = \"font-weight: bold; text-align: right;\">Row</th><th style = \"text-align: left;\">Product</th><th style = \"text-align: left;\">mc_mean</th><th style = \"text-align: left;\">Prices_mean</th><th style = \"text-align: left;\">invshares_mean</th></tr><tr class = \"subheader headerLastRow\"><th class = \"rowNumber\" style = \"font-weight: bold; text-align: right;\"></th><th title = \"Int64\" style = \"text-align: left;\">Int64</th><th title = \"Float64\" style = \"text-align: left;\">Float64</th><th title = \"Float64\" style = \"text-align: left;\">Float64</th><th title = \"Float64\" style = \"text-align: left;\">Float64</th></tr></thead><tbody><tr><td class = \"rowNumber\" style = \"font-weight: bold; text-align: right;\">1</td><td style = \"text-align: right;\">1</td><td style = \"text-align: right;\">6.05278</td><td style = \"text-align: right;\">3.35995</td><td style = \"text-align: right;\">1.25883</td></tr><tr><td class = \"rowNumber\" style = \"font-weight: bold; text-align: right;\">2</td><td style = \"text-align: right;\">2</td><td style = \"text-align: right;\">6.06317</td><td style = \"text-align: right;\">3.36753</td><td style = \"text-align: right;\">1.26015</td></tr><tr><td class = \"rowNumber\" style = \"font-weight: bold; text-align: right;\">3</td><td style = \"text-align: right;\">3</td><td style = \"text-align: right;\">5.38743</td><td style = \"text-align: right;\">3.03306</td><td style = \"text-align: right;\">1.10061</td></tr><tr><td class = \"rowNumber\" style = \"font-weight: bold; text-align: right;\">4</td><td style = \"text-align: right;\">4</td><td style = \"text-align: right;\">5.39064</td><td style = \"text-align: right;\">3.03977</td><td style = \"text-align: right;\">1.09898</td></tr><tr><td class = \"rowNumber\" style = \"font-weight: bold; text-align: right;\">5</td><td style = \"text-align: right;\">5</td><td style = \"text-align: right;\">5.37942</td><td style = \"text-align: right;\">3.03103</td><td style = \"text-align: right;\">1.09782</td></tr><tr><td class = \"rowNumber\" style = \"font-weight: bold; text-align: right;\">6</td><td style = \"text-align: right;\">6</td><td style = \"text-align: right;\">5.39361</td><td style = \"text-align: right;\">3.03815</td><td style = \"text-align: right;\">1.10112</td></tr></tbody></table></div>"
      ],
      "text/latex": [
       "\\begin{tabular}{r|cccc}\n",
       "\t& Product & mc\\_mean & Prices\\_mean & invshares\\_mean\\\\\n",
       "\t\\hline\n",
       "\t& Int64 & Float64 & Float64 & Float64\\\\\n",
       "\t\\hline\n",
       "\t1 & 1 & 6.05278 & 3.35995 & 1.25883 \\\\\n",
       "\t2 & 2 & 6.06317 & 3.36753 & 1.26015 \\\\\n",
       "\t3 & 3 & 5.38743 & 3.03306 & 1.10061 \\\\\n",
       "\t4 & 4 & 5.39064 & 3.03977 & 1.09898 \\\\\n",
       "\t5 & 5 & 5.37942 & 3.03103 & 1.09782 \\\\\n",
       "\t6 & 6 & 5.39361 & 3.03815 & 1.10112 \\\\\n",
       "\\end{tabular}\n"
      ],
      "text/plain": [
       "\u001b[1m6×4 DataFrame\u001b[0m\n",
       "\u001b[1m Row \u001b[0m│\u001b[1m Product \u001b[0m\u001b[1m mc_mean \u001b[0m\u001b[1m Prices_mean \u001b[0m\u001b[1m invshares_mean \u001b[0m\n",
       "     │\u001b[90m Int64   \u001b[0m\u001b[90m Float64 \u001b[0m\u001b[90m Float64     \u001b[0m\u001b[90m Float64        \u001b[0m\n",
       "─────┼───────────────────────────────────────────────\n",
       "   1 │       1  6.05278      3.35995         1.25883\n",
       "   2 │       2  6.06317      3.36753         1.26015\n",
       "   3 │       3  5.38743      3.03306         1.10061\n",
       "   4 │       4  5.39064      3.03977         1.09898\n",
       "   5 │       5  5.37942      3.03103         1.09782\n",
       "   6 │       6  5.39361      3.03815         1.10112"
      ]
     },
     "execution_count": 6,
     "metadata": {},
     "output_type": "execute_result"
    }
   ],
   "source": [
    "# own partial\n",
    "#df[!,:own_partial] = α .* df[!,:Shares] .* (1 .- df[!,:Shares]);\n",
    "#df[!,:mc] = df[!,:Shares] ./ df[!,:own_partial] .+ df[!,:Prices];\n",
    "\n",
    "df[!,:invshares] = 1 ./ (1 .- df[!,:Shares]);\n",
    "df[!,:mc] = df[!,:Prices] + (1/α) .* df[!,:invshares];\n",
    "\n",
    "means = groupby(df, :Product)\n",
    "means = combine(means, [:mc,:Prices,:invshares] .=> mean)"
   ]
  },
  {
   "cell_type": "markdown",
   "id": "8f8a87c8",
   "metadata": {},
   "source": [
    "# Part 4: Product 1 exits the market\n",
    "I think the following works:\n",
    "\n",
    "- The regression predicts $ln(S_j/S_0)$, where $S_0 = 1 - \\sum_k S_k$. Note $\\sum_j S_j / S_0 = \\frac{1-S_0}{S_0}$:\n",
    "$$ \\exp\\left(\\ln\\left(\\frac{S_j}{S_0}\\right)\\right) = \\frac{S_j}{S_0} \\\\  \\frac{\\frac{S_j}{S_0}}{ \\sum_j \\frac{S_j}{S_0}} =  \\frac{S_j}{1-S_0} = \\frac{S_j}{\\sum_k S_k} $$\n",
    "\n",
    "MM: To simulate $j = 1$ leaving the market, we solve for the market prices that minimize the firms' first-order conditions as the objective, subject to demand (expressed as shares) as estimated above. We can use the fact that $\\frac{\\partial s_{k}}{\\partial p_{k}} = -\\alpha s_k (1-s_k)$. We can then plug the prices into the share equation to get simulated market shares. That is:\n",
    "$$ \\min_{p_{j}} \\sum_{k = 2}^5 (FOC_k)^2  = \\sum_{k = 2}^5 \\bigg[ s_k\\big(1 + \\alpha (p_{k} - c_{k})(1 - s_k)\\big) \\bigg]^2 $$\n",
    "$$ \\text{s.t. } s_{j} = \\frac{\\exp(-\\alpha p_{j} + x_{j}'\\beta + \\xi_{j})}{1 + \\sum_{k = 2}^5 \\exp(-\\alpha p_{k} + x_{k}'\\beta + \\xi_{k})}$$ \n",
    "The gradient of the objective can be expressed as:\n",
    "$$ \\nabla_t(p) =\\left\\{  2\\alpha s_j \\left( -\\alpha s_j (1-s_j)^2 FOC_k + \\sum_{k = 2}^5 FOC_k (FOC_k - \\alpha (p_k - c_k) s_k^2 \\right) \\right\\}_{j = 2}^{5}$$ "
   ]
  },
  {
   "cell_type": "code",
   "execution_count": 94,
   "id": "bca3b6e2",
   "metadata": {},
   "outputs": [
    {
     "data": {
      "text/plain": [
       "g! (generic function with 2 methods)"
      ]
     },
     "execution_count": 94,
     "metadata": {},
     "output_type": "execute_result"
    }
   ],
   "source": [
    "function implied_shares(J,x,ξ,α,β,p) # calculate market demand given parameters, prices, and products\n",
    "    # numerator\n",
    "    u = zeros(J);\n",
    "    @. u = exp(-α * p + x * β + ξ);\n",
    "    \n",
    "    # denominator\n",
    "    u_sum = sum(u) + 1;\n",
    "    \n",
    "    # calculate shares\n",
    "    s = u ./ u_sum;\n",
    "    \n",
    "    return s\n",
    "end\n",
    "\n",
    "function foc(J,α,s,c,p)\n",
    "    # calculate firm FOCs\n",
    "    foc = zeros(J)\n",
    "    @. foc = s + (α * (p - c) * s * (1 - s)); \n",
    "    \n",
    "    return foc\n",
    "end\n",
    "\n",
    "function objective(x,ξ,α,β,c,p) # minimize total error in firm pricing FOCs in a market\n",
    "    # number of parameters\n",
    "    J = size(p)\n",
    "    \n",
    "    s = implied_shares(J,x,ξ,α,β,p)\n",
    "    firmfoc = foc(J,α,s,c,p)\n",
    "    \n",
    "    # objective\n",
    "    F = sum(firmfoc.^2)\n",
    "    \n",
    "    return F\n",
    "end\n",
    "\n",
    "function gradient!(x,ξ,α,β,c,G,p) # calculate gradient of objective !! this isn't right, probably\n",
    "    # number of parameters\n",
    "    J = size(p)\n",
    "    \n",
    "    s = implied_shares(J,x,ξ,α,β,p)\n",
    "    firmfoc = foc(J,α,s,c,p)\n",
    "    \n",
    "    # component calculations\n",
    "    inner = zeros(J)\n",
    "    @. inner = firmfoc * (firmfoc - α * (p - c) * s^2)\n",
    "    inner_sum = sum(inner)\n",
    "    \n",
    "    # calculate gradient\n",
    "    @. G = 2 * α * s * (inner_sum - α * s * (1-s)^2 * firmfoc)\n",
    "    \n",
    "    return G\n",
    "end\n",
    "\n",
    "f(p) = objective(x,ξ,α,β,c,p)\n",
    "g!(G,p) = gradient(x,ξ,α,β,c,G,p)"
   ]
  },
  {
   "cell_type": "code",
   "execution_count": 153,
   "id": "bb194130",
   "metadata": {},
   "outputs": [
    {
     "name": "stdout",
     "output_type": "stream",
     "text": [
      "  0.313956 seconds (1.79 M allocations: 131.360 MiB, 10.04% gc time, 34.04% compilation time)\n"
     ]
    }
   ],
   "source": [
    "# Define counterfactual\n",
    "simulation = df[!,[:market, :Product, :x, :ξ, :mc]];\n",
    "simulation = simulation[(df.Product .!= 1), :];\n",
    "\n",
    "# Solve for prices, looping through each market\n",
    "prices1 = [];\n",
    "prices2 = [];\n",
    "\n",
    "focs = [];\n",
    "shares = [];\n",
    "\n",
    "# @time for mkt in 1:20\n",
    "#     sim_mkt = simulation[(simulation.market .== mkt), :];\n",
    "    \n",
    "#     x = Array(sim_mkt[!,:x])\n",
    "#     ξ = Array(sim_mkt[!,:ξ])\n",
    "#     c = Array(sim_mkt[!,:mc])\n",
    "    \n",
    "#     # start somewhere close to true prices\n",
    "#     params0 = ones(size(sim_mkt)[1]) .* 3;\n",
    "    \n",
    "#     optimum1 = optimize(p -> objective(x,ξ,α,β,c,p), params0, Optim.LBFGS(), autodiff=:forward, Optim.Options(f_tol = 1e-32, iterations = 8000))\n",
    "#     p_sim1 = optimum1.minimizer;\n",
    "#     append!(prices1,p_sim1)\n",
    "# end\n",
    "\n",
    "@time for mkt in 1:1000\n",
    "    sim_mkt = simulation[(simulation.market .== mkt), :];\n",
    "    \n",
    "    x = Array(sim_mkt[!,:x])\n",
    "    ξ = Array(sim_mkt[!,:ξ])\n",
    "    c = Array(sim_mkt[!,:mc])\n",
    "    \n",
    "    # start somewhere close to true prices\n",
    "    params0 = ones(size(sim_mkt)[1]) .* 3.0;\n",
    "    # params0 = df[(df.market .== mkt),:Prices] \n",
    "    \n",
    "    optimum2 = optimize(p -> objective(x,ξ,α,β,c,p), params0, Optim.LBFGS(), Optim.Options(f_tol = 1e-32, iterations = 10000))\n",
    "    p_sim2 = optimum2.minimizer;\n",
    "    append!(prices2,p_sim2)\n",
    "    \n",
    "    o = objective(x,ξ,α,β,c,p_sim2)\n",
    "    s = implied_shares(x,ξ,α,β,p_sim2)\n",
    "    \n",
    "    push!(focs,o)\n",
    "    append!(shares,s)\n",
    "end"
   ]
  },
  {
   "cell_type": "code",
   "execution_count": 154,
   "id": "a9ad239d",
   "metadata": {},
   "outputs": [
    {
     "ename": "LoadError",
     "evalue": "DimensionMismatch(\"arrays could not be broadcast to a common size; got a dimension with lengths 5000 and 6000\")",
     "output_type": "error",
     "traceback": [
      "DimensionMismatch(\"arrays could not be broadcast to a common size; got a dimension with lengths 5000 and 6000\")",
      "",
      "Stacktrace:",
      "  [1] _bcs1",
      "    @ .\\broadcast.jl:516 [inlined]",
      "  [2] _bcs",
      "    @ .\\broadcast.jl:510 [inlined]",
      "  [3] broadcast_shape",
      "    @ .\\broadcast.jl:504 [inlined]",
      "  [4] combine_axes",
      "    @ .\\broadcast.jl:499 [inlined]",
      "  [5] _axes",
      "    @ .\\broadcast.jl:224 [inlined]",
      "  [6] axes",
      "    @ .\\broadcast.jl:222 [inlined]",
      "  [7] combine_axes(A::Base.Broadcast.Broadcasted{Base.Broadcast.DefaultArrayStyle{1}, Nothing, typeof(-), Tuple{Vector{Any}, Vector{Float64}}})",
      "    @ Base.Broadcast .\\broadcast.jl:500",
      "  [8] instantiate",
      "    @ .\\broadcast.jl:281 [inlined]",
      "  [9] materialize(bc::Base.Broadcast.Broadcasted{Base.Broadcast.DefaultArrayStyle{1}, Nothing, typeof(abs), Tuple{Base.Broadcast.Broadcasted{Base.Broadcast.DefaultArrayStyle{1}, Nothing, typeof(-), Tuple{Vector{Any}, Vector{Float64}}}}})",
      "    @ Base.Broadcast .\\broadcast.jl:860",
      " [10] top-level scope",
      "    @ In[154]:34"
     ]
    }
   ],
   "source": [
    "# simulation = df[!,[:market, :Product, :x, :ξ, :mc, :Prices, :Shares]];\n",
    "# focs = [];\n",
    "# shares = [];\n",
    "# gradient = [];\n",
    "# gradient2 = [];\n",
    "# prices = [];\n",
    "# G(x,ξ,α,β,c,p) = ForwardDiff.gradient(p -> objective(x,ξ,α,β,c,p), p)\n",
    "\n",
    "# for mkt in 1:5\n",
    "#     sim_mkt = simulation[(simulation.market .== mkt), :]\n",
    "#     x = Array(sim_mkt[!,:x])\n",
    "#     ξ = Array(sim_mkt[!,:ξ])\n",
    "#     c = Array(sim_mkt[!,:mc])\n",
    "\n",
    "#     p = Array(sim_mkt[!,:Prices])\n",
    "\n",
    "#     o = objective(x,ξ,α,β,c,p)\n",
    "#     s = implied_shares(x,ξ,α,β,p)\n",
    "\n",
    "#     grad = G(x,ξ,α,β,c,p)\n",
    "#     grad2 = zeros(size(p))\n",
    "#     g!(grad2,x,ξ,α,β,c,p)\n",
    "\n",
    "#     push!(focs,o)\n",
    "#     push!(shares,s .- sim_mkt[!,:Shares])\n",
    "#     push!(gradient,grad)\n",
    "#     push!(gradient2,grad2)\n",
    "# end\n",
    "\n",
    "# gradient .- gradient2\n",
    "\n",
    "s = df[(df.market .<= 1000), :Shares]\n",
    "p = df[(df.market .<= 1000), :Prices]\n",
    "println(mean(abs.(prices2 .- p)))\n",
    "println(mean(abs.(shares .- s)))\n",
    "\n",
    "println(maximum(focs))"
   ]
  },
  {
   "cell_type": "code",
   "execution_count": null,
   "id": "d610e085",
   "metadata": {
    "scrolled": true
   },
   "outputs": [],
   "source": [
    "df_noprod1 = filter(row -> (row.Product != 1),  df)\n",
    "df_noprod1[!,:blah] = exp.(predict(estimates, df_noprod1) ./ df_noprod1[!,:shares_0]) ;\n",
    "df_noprod1[!,[:market, :Product, :blah]]"
   ]
  },
  {
   "cell_type": "code",
   "execution_count": null,
   "id": "a39d4554",
   "metadata": {},
   "outputs": [],
   "source": [
    "df_noprod1 = filter(row -> (row.Product != 1),  df)\n",
    "\n",
    "iterate = function(tol, model, data, α)\n",
    "    \n",
    "    err = 1e10\n",
    "    iter = 0\n",
    "    while err > tol \n",
    "        \n",
    "        old_price = data[!,:Prices]\n",
    "        \n",
    "        # predict s_jt Q: how do I recover s_j?\n",
    "        data[!,:new_sjs0] = exp.(predict(model, data))\n",
    "        gdf = groupby(data, :market)\n",
    "        gdf = combine(data, :new_sjs0 => sum)\n",
    "        gdf[!,:shares_0] = 1 .- gdf[!,:new_sjs0];\n",
    "\n",
    "        # use profit maximization to get new prices\n",
    "        data[!,:own_partial] = α .* data[!,:Shares] .* (1 .- data[!,:Shares])\n",
    "        data[!,:Prices] = data[!,:Shares] ./ data[!,:own_partial] .- data[!,:mc] \n",
    "        \n",
    "        err = maximum(abs.(old_price .- data[!,:Prices]))\n",
    "        iter += 1\n",
    "    end\n",
    "    return data, iter, err\n",
    "end\n",
    "\n",
    "iterate(1e-10, estimates, df_noprod1, α)"
   ]
  },
  {
   "cell_type": "code",
   "execution_count": null,
   "id": "206694bf",
   "metadata": {},
   "outputs": [],
   "source": [
    "err = 1e10\n",
    "df_noprod1 = filter(row -> (row.Product != 1),  df)\n",
    "data = df_noprod1\n",
    "tol = 1e-10\n",
    "iter = 0\n",
    "    while err > tol \n",
    "        \n",
    "        old_price = data[!,:Prices]\n",
    "        # predict s_jt Q: how do I recover s_j?\n",
    "        data[!,:new_sj] = exp.(predict(estimates, data))\n",
    "        #gdf = groupby(data, :market)\n",
    "        #gdf = combine(data, :new_sjs0 => sum)\n",
    "        #gdf[!,:shares_0] = 1 .- gdf[!,:new_sjs0];\n",
    "\n",
    "        # use profit maximization to get new prices\n",
    "        data[!,:own_partial] = α .* data[!,:new_sj] .* (1 .- data[!,:new_sj])\n",
    "        data[!,:Prices] = data[!,:new_sj] ./ data[!,:own_partial] .- data[!,:mc] \n",
    "        #println(data[!,:Prices] )\n",
    "\n",
    "        err = maximum(abs.(old_price .- data[!,:Prices]))\n",
    "        iter+=1\n",
    "        println(abs.(old_price .- data[!,:Prices]))\n",
    "        println(iter)\n",
    "    end"
   ]
  },
  {
   "cell_type": "code",
   "execution_count": null,
   "id": "44891685",
   "metadata": {},
   "outputs": [],
   "source": []
  }
 ],
 "metadata": {
  "kernelspec": {
   "display_name": "Julia 1.7.2",
   "language": "julia",
   "name": "julia-1.7"
  },
  "language_info": {
   "file_extension": ".jl",
   "mimetype": "application/julia",
   "name": "julia",
   "version": "1.7.2"
  }
 },
 "nbformat": 4,
 "nbformat_minor": 5
}
