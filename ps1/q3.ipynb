{
 "cells": [
  {
   "cell_type": "markdown",
   "id": "alpine-costume",
   "metadata": {},
   "source": [
    "# Question 3"
   ]
  },
  {
   "cell_type": "code",
   "execution_count": null,
   "id": "otherwise-motion",
   "metadata": {},
   "outputs": [],
   "source": [
    "using Plots, DataFrames, CSV, GLM\n",
    "using Optim, Distributions, Random, ForwardDiff\n",
    "using LinearAlgebra, StatsFuns, FixedEffectModels"
   ]
  },
  {
   "cell_type": "code",
   "execution_count": null,
   "id": "colonial-interim",
   "metadata": {
    "scrolled": true
   },
   "outputs": [],
   "source": [
    "df = DataFrame(CSV.File(\"data/ps1_ex3.csv\"));\n",
    "\n",
    "# I need to get the 0 share in each market \n",
    "gdf = groupby(df, :market)\n",
    "gdf = combine(gdf, :Shares => sum)\n",
    "gdf[!,:shares_0] = 1 .- gdf[!,:Shares_sum];\n",
    "df = leftjoin(df, gdf, on=:market);\n",
    "df[!,:log_sj_s0] = log.(df[!,:Shares]./df[!,:shares_0]);"
   ]
  },
  {
   "cell_type": "markdown",
   "id": "covered-obligation",
   "metadata": {},
   "source": [
    "# Part 1: Estimating $(\\alpha, \\beta)$\n",
    "\n",
    "$$ ln\\left(\\frac{s_{jt}}{s_0}\\right) = - \\alpha p_{jt} + x_{jt}' \\beta + \\xi_{jt} + \\varepsilon_{ijt} $$"
   ]
  },
  {
   "cell_type": "code",
   "execution_count": null,
   "id": "stone-treasure",
   "metadata": {},
   "outputs": [],
   "source": [
    "estimates = reg(df, @formula(log_sj_s0 ~ x + (Prices ~ z)))\n",
    "α = -coef(estimates)[3];\n",
    "β = coef(estimates)[2];"
   ]
  },
  {
   "cell_type": "markdown",
   "id": "gothic-string",
   "metadata": {},
   "source": [
    "# Part 2: Finding price elasticities"
   ]
  },
  {
   "cell_type": "markdown",
   "id": "whole-publicity",
   "metadata": {},
   "source": [
    "$$\\eta_{jkt} = \\frac{\\partial s_{jt}}{\\partial p_{kt}} \\frac{p_{kt}}{s_{jt}} = \\begin{cases}\n",
    "        \\alpha p_{jt} (1-s_{jt}) & j=k \\\\\n",
    "        - \\alpha p_{kt} s_{jt} & j\\neq k\n",
    "    \\end{cases}$$"
   ]
  },
  {
   "cell_type": "code",
   "execution_count": null,
   "id": "asian-compatibility",
   "metadata": {
    "scrolled": true
   },
   "outputs": [],
   "source": [
    "# reshape dataframe of prices and shares\n",
    "share_array = Array(unstack(df, :market, :Product, :Shares)[!,2:7]);\n",
    "price_array = Array(unstack(df, :market, :Product, :Prices)[!,2:7]);"
   ]
  },
  {
   "cell_type": "code",
   "execution_count": null,
   "id": "sized-activity",
   "metadata": {},
   "outputs": [],
   "source": [
    "# for each market, we should get a JxJ matrix \n",
    "T = size(share_array)[1]\n",
    "J = size(share_array)[2]\n",
    "\n",
    "η = zeros(T, J^2)\n",
    "\n",
    "for t in 1:T\n",
    "    iter = 1\n",
    "    for j in 1:J\n",
    "        for k in 1:J\n",
    "            if j == k \n",
    "                η[t, iter] = α * price_array[t,j] * (1-share_array[t,k])\n",
    "            else \n",
    "                η[t, iter] = -1 * α * price_array[t,k] * share_array[t,j]\n",
    "            end\n",
    "        iter += 1\n",
    "        end\n",
    "    end\n",
    "end\n",
    "\n",
    "# average across each market\n",
    "η̄ = reshape(mean(η, dims=1), 6, 6)"
   ]
  },
  {
   "cell_type": "markdown",
   "id": "orange-gender",
   "metadata": {},
   "source": [
    "# Part 3: Recover marginal costs\n",
    "Assuming that each product-market is a different firm, we can obtain the following from the FOC from the firm optimization:\n",
    "$$ s_{jt}(p) + (p_{jt} - mc_{jt}) \\frac{\\partial s_{jt}}{\\partial p_{kt}} = 0 $$\n",
    "which implies:\n",
    "$$ s_{jt}(p) \\frac{1}{\\frac{\\partial s_{jt}}{\\partial p_{kt}}} + p_{jt} = mc_{jt} $$"
   ]
  },
  {
   "cell_type": "code",
   "execution_count": null,
   "id": "recognized-scenario",
   "metadata": {},
   "outputs": [],
   "source": [
    "# own partial\n",
    "df[!,:own_partial] = α .* df[!,:Shares] .* (1 .- df[!,:Shares]);\n",
    "df[!,:mc] = df[!,:Shares] ./ df[!,:own_partial] .+ df[!,:Prices];"
   ]
  },
  {
   "cell_type": "markdown",
   "id": "graduate-solomon",
   "metadata": {},
   "source": [
    "# Part 4: Product 1 exits the market\n",
    "I think the following works:\n",
    "\n",
    "- The regression predicts $ln(S_j/S_0)$, where $S_0 = 1 - \\sum_k S_k$. Note $\\sum_j S_j / S_0 = \\frac{1-S_0}{S_0}$:\n",
    "$$ \\exp\\left(\\ln\\left(\\frac{S_j}{S_0}\\right)\\right) = \\frac{S_j}{S_0} \\\\  \\frac{\\frac{S_j}{S_0}}{ \\sum_j \\frac{S_j}{S_0}} =  \\frac{S_j}{1-S_0} = \\frac{S_j}{\\sum_k S_k} $$"
   ]
  },
  {
   "cell_type": "code",
   "execution_count": null,
   "id": "rural-belfast",
   "metadata": {
    "scrolled": true
   },
   "outputs": [],
   "source": [
    "df_noprod1 = filter(row -> (row.Product != 1),  df)\n",
    "df_noprod1[!,:blah] = exp.(predict(estimates, df_noprod1) ./ df_noprod1[!,:shares_0]) ;\n",
    "df_noprod1[!,[:market, :Product, :blah]]"
   ]
  },
  {
   "cell_type": "code",
   "execution_count": null,
   "id": "sought-cemetery",
   "metadata": {},
   "outputs": [],
   "source": [
    "df_noprod1 = filter(row -> (row.Product != 1),  df)\n",
    "\n",
    "iterate = function(tol, model, data, α)\n",
    "    \n",
    "    err = 1e10\n",
    "    iter = 0\n",
    "    while err > tol \n",
    "        \n",
    "        old_price = data[!,:Prices]\n",
    "        \n",
    "        # predict s_jt Q: how do I recover s_j?\n",
    "        data[!,:new_sjs0] = exp.(predict(model, data))\n",
    "        gdf = groupby(data, :market)\n",
    "        gdf = combine(data, :new_sjs0 => sum)\n",
    "        gdf[!,:shares_0] = 1 .- gdf[!,:new_sjs0];\n",
    "\n",
    "        # use profit maximization to get new prices\n",
    "        data[!,:own_partial] = α .* data[!,:Shares] .* (1 .- data[!,:Shares])\n",
    "        data[!,:Prices] = data[!,:Shares] ./ data[!,:own_partial] .- data[!,:mc] \n",
    "        \n",
    "        err = maximum(abs.(old_price .- data[!,:Prices]))\n",
    "        iter += 1\n",
    "    end\n",
    "    return data, iter, err\n",
    "end\n",
    "\n",
    "iterate(1e-10, estimates, df_noprod1, α)"
   ]
  },
  {
   "cell_type": "code",
   "execution_count": null,
   "id": "chronic-pantyhose",
   "metadata": {},
   "outputs": [],
   "source": [
    "err = 1e10\n",
    "df_noprod1 = filter(row -> (row.Product != 1),  df)\n",
    "data = df_noprod1\n",
    "tol = 1e-10\n",
    "iter = 0\n",
    "    while err > tol \n",
    "        \n",
    "        old_price = data[!,:Prices]\n",
    "        # predict s_jt Q: how do I recover s_j?\n",
    "        data[!,:new_sj] = exp.(predict(estimates, data))\n",
    "        #gdf = groupby(data, :market)\n",
    "        #gdf = combine(data, :new_sjs0 => sum)\n",
    "        #gdf[!,:shares_0] = 1 .- gdf[!,:new_sjs0];\n",
    "\n",
    "        # use profit maximization to get new prices\n",
    "        data[!,:own_partial] = α .* data[!,:new_sj] .* (1 .- data[!,:new_sj])\n",
    "        data[!,:Prices] = data[!,:new_sj] ./ data[!,:own_partial] .- data[!,:mc] \n",
    "        #println(data[!,:Prices] )\n",
    "\n",
    "        err = maximum(abs.(old_price .- data[!,:Prices]))\n",
    "        iter+=1\n",
    "        println(abs.(old_price .- data[!,:Prices]))\n",
    "        println(iter)\n",
    "    end"
   ]
  },
  {
   "cell_type": "code",
   "execution_count": null,
   "id": "educated-treat",
   "metadata": {},
   "outputs": [],
   "source": []
  }
 ],
 "metadata": {
  "kernelspec": {
   "display_name": "Julia 1.8.2",
   "language": "julia",
   "name": "julia-1.8"
  },
  "language_info": {
   "file_extension": ".jl",
   "mimetype": "application/julia",
   "name": "julia",
   "version": "1.8.2"
  }
 },
 "nbformat": 4,
 "nbformat_minor": 5
}
