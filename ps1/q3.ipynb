{
 "cells": [
  {
   "cell_type": "markdown",
   "id": "74fc38a5",
   "metadata": {},
   "source": [
    "# Question 3"
   ]
  },
  {
   "cell_type": "code",
   "execution_count": 1,
   "id": "ab0101a6",
   "metadata": {},
   "outputs": [],
   "source": [
    "using Plots, DataFrames, CSV, GLM\n",
    "using Optim, Distributions, Random, ForwardDiff\n",
    "using LinearAlgebra, StatsFuns, FixedEffectModels\n",
    "using LaTeXTabulars"
   ]
  },
  {
   "cell_type": "code",
   "execution_count": 5,
   "id": "0386e6c9",
   "metadata": {
    "scrolled": true
   },
   "outputs": [],
   "source": [
    "df = DataFrame(CSV.File(\"../data/ps1_ex3.csv\"));\n",
    "\n",
    "# I need to get the 0 share in each market \n",
    "gdf = groupby(df, :market)\n",
    "gdf = combine(gdf, :Shares => sum)\n",
    "gdf[!,:shares_0] = 1 .- gdf[!,:Shares_sum];\n",
    "df = leftjoin(df, gdf, on=:market);\n",
    "\n",
    "# Will need ln(s_jt / s_0t) and ln(s_jt)\n",
    "df[!,:log_sj_s0] = log.(df[!,:Shares]./df[!,:shares_0]);\n",
    "df[!,:log_sj] = log.(df[!,:Shares]);"
   ]
  },
  {
   "cell_type": "markdown",
   "id": "b97ce19f",
   "metadata": {},
   "source": [
    "# Part 1: Estimating $(\\alpha, \\beta)$\n",
    "\n",
    "We have the moment condition $E[\\xi_{jt} | z_{jt}] = 0$, hence we can estimate the following with TSLS: \n",
    "\n",
    "$$ ln\\left(\\frac{s_{jt}}{s_{0t}}\\right) = - \\alpha p_{jt} + x_{jt}' \\beta + \\xi_{jt}$$"
   ]
  },
  {
   "cell_type": "code",
   "execution_count": 6,
   "id": "ee78c50d",
   "metadata": {},
   "outputs": [
    {
     "name": "stdout",
     "output_type": "stream",
     "text": [
      "α: 0.4674770969358872\n",
      "β: 0.3046723858039954"
     ]
    },
    {
     "data": {
      "text/html": [
       "<div class=\"data-frame\"><p>6 rows × 2 columns</p><table class=\"data-frame\"><thead><tr><th></th><th>Product</th><th>ξ_mean</th></tr><tr><th></th><th title=\"Int64\">Int64</th><th title=\"Float64\">Float64</th></tr></thead><tbody><tr><th>1</th><td>1</td><td>1.38619</td></tr><tr><th>2</th><td>2</td><td>1.39275</td></tr><tr><th>3</th><td>3</td><td>0.401759</td></tr><tr><th>4</th><td>4</td><td>0.394211</td></tr><tr><th>5</th><td>5</td><td>0.399346</td></tr><tr><th>6</th><td>6</td><td>0.39907</td></tr></tbody></table></div>"
      ],
      "text/latex": [
       "\\begin{tabular}{r|cc}\n",
       "\t& Product & ξ\\_mean\\\\\n",
       "\t\\hline\n",
       "\t& Int64 & Float64\\\\\n",
       "\t\\hline\n",
       "\t1 & 1 & 1.38619 \\\\\n",
       "\t2 & 2 & 1.39275 \\\\\n",
       "\t3 & 3 & 0.401759 \\\\\n",
       "\t4 & 4 & 0.394211 \\\\\n",
       "\t5 & 5 & 0.399346 \\\\\n",
       "\t6 & 6 & 0.39907 \\\\\n",
       "\\end{tabular}\n"
      ],
      "text/plain": [
       "\u001b[1m6×2 DataFrame\u001b[0m\n",
       "\u001b[1m Row \u001b[0m│\u001b[1m Product \u001b[0m\u001b[1m ξ_mean   \u001b[0m\n",
       "\u001b[1m     \u001b[0m│\u001b[90m Int64   \u001b[0m\u001b[90m Float64  \u001b[0m\n",
       "─────┼───────────────────\n",
       "   1 │       1  1.38619\n",
       "   2 │       2  1.39275\n",
       "   3 │       3  0.401759\n",
       "   4 │       4  0.394211\n",
       "   5 │       5  0.399346\n",
       "   6 │       6  0.39907"
      ]
     },
     "execution_count": 6,
     "metadata": {},
     "output_type": "execute_result"
    }
   ],
   "source": [
    "estimates = reg(df, @formula(log_sj_s0 ~ x + (Prices ~ z)))\n",
    "α = -coef(estimates)[3];\n",
    "β = coef(estimates)[2];\n",
    "df[!,:ξ] = (df[!,:log_sj_s0] - predict(estimates,df)) .+ coef(estimates)[1];\n",
    "\n",
    "# Parameters\n",
    "print(\"α: $α\", \"\\nβ: $β\")\n",
    "\n",
    "# Brand preference\n",
    "gdf = groupby(df, :Product)\n",
    "gdf = combine(gdf, :ξ => mean)"
   ]
  },
  {
   "cell_type": "code",
   "execution_count": 18,
   "id": "fatal-blond",
   "metadata": {},
   "outputs": [],
   "source": [
    "# output to table\n",
    "latex_tabular(\"output/ps1_q3_estimates.tex\",\n",
    "              Tabular(\"cc\"),\n",
    "              [Rule(:top),\n",
    "              [\"Parameter\", \"Estimates\"],\n",
    "              [\"\\$\\\\alpha\\$\" round(α, digits=3)],\n",
    "              [\"\\$\\\\beta\\$\", round(β, digits=3)],\n",
    "              [\"\\$\\\\xi_1\\$\", round(gdf[1,:ξ_mean], digits=3)], \n",
    "              [\"\\$\\\\xi_2\\$\", round(gdf[2,:ξ_mean], digits=3)],\n",
    "              [\"\\$\\\\xi_3\\$\", round(gdf[3,:ξ_mean], digits=3)],\n",
    "              [\"\\$\\\\xi_4\\$\", round(gdf[4,:ξ_mean], digits=3)],\n",
    "              [\"\\$\\\\xi_5\\$\", round(gdf[5,:ξ_mean], digits=3)],\n",
    "              [\"\\$\\\\xi_6\\$\", round(gdf[6,:ξ_mean], digits=3)],\n",
    "               Rule(:bottom)])"
   ]
  },
  {
   "cell_type": "markdown",
   "id": "7590a3d5",
   "metadata": {},
   "source": [
    "# Part 2: Finding price elasticities"
   ]
  },
  {
   "cell_type": "markdown",
   "id": "e577e4cd",
   "metadata": {},
   "source": [
    "$$\\eta_{jkt} = \\frac{\\partial s_{jt}}{\\partial p_{kt}} \\frac{p_{kt}}{s_{jt}} = \\begin{cases}\n",
    "        - \\alpha p_{jt} (1-s_{jt}) & j=k \\\\\n",
    "        \\alpha p_{kt} s_{kt} & j\\neq k\n",
    "    \\end{cases}$$"
   ]
  },
  {
   "cell_type": "code",
   "execution_count": 19,
   "id": "932a5ff6",
   "metadata": {
    "scrolled": true
   },
   "outputs": [],
   "source": [
    "# reshape dataframe of prices and shares\n",
    "share_array = Array(unstack(df, :market, :Product, :Shares)[!,2:7]);\n",
    "price_array = Array(unstack(df, :market, :Product, :Prices)[!,2:7]);"
   ]
  },
  {
   "cell_type": "code",
   "execution_count": 23,
   "id": "8e974c10",
   "metadata": {},
   "outputs": [],
   "source": [
    "# for each market, we should get a JxJ matrix \n",
    "T = size(share_array)[1]\n",
    "J = size(share_array)[2]\n",
    "\n",
    "# for each market, calculate each elasticities and store market substitution matrix ηₜ in vector η\n",
    "η = Matrix{Float64}[] \n",
    "for t in 1:T\n",
    "    ηₜ = zeros(Float64,J,J)\n",
    "    for j in 1:J\n",
    "        for k in 1:J\n",
    "            if j == k\n",
    "                ηₜ[j,k] = - α * price_array[t,j] * (1 - share_array[t,j]) \n",
    "            else\n",
    "                ηₜ[j,k] = α * price_array[t,k] * share_array[t,k]\n",
    "            end\n",
    "        end\n",
    "    end\n",
    "    push!(η,ηₜ)\n",
    "end"
   ]
  },
  {
   "cell_type": "code",
   "execution_count": 24,
   "id": "solved-brake",
   "metadata": {},
   "outputs": [],
   "source": [
    "latex_tabular(\"output/ps1_q3_elasticities.tex\",\n",
    "              Tabular(\"cccccc\"),\n",
    "              [Rule(:top),\n",
    "               round.(mean(η), digits=3),\n",
    "               Rule(:bottom)])"
   ]
  },
  {
   "cell_type": "markdown",
   "id": "083237ac",
   "metadata": {},
   "source": [
    "# Part 3: Recover marginal costs\n",
    "Assuming that each product-market is a different firm, we can obtain the following from the FOC from the firm optimization:\n",
    "$$ s_{jt}(p) + (p_{jt} - mc_{jt}) \\frac{\\partial s_{jt}}{\\partial p_{kt}} = 0 $$\n",
    "which implies:\n",
    "$$ s_{jt}(p) \\frac{1}{\\frac{\\partial s_{jt}}{\\partial p_{kt}}} + p_{jt} = mc_{jt} $$\n",
    "\n",
    "We can equivalently write this as:\n",
    "$$ mc_{jt} = p_{jt} - \\frac{1}{\\alpha}\\frac{1}{(1-s_{jt})}$$\n",
    "which makes it clear that average marginal costs can be related to prices and shares directly from the data given an estimate of $\\alpha$."
   ]
  },
  {
   "cell_type": "code",
   "execution_count": 39,
   "id": "bacd457d",
   "metadata": {},
   "outputs": [
    {
     "data": {
      "text/plain": [
       "6×4 Matrix{Float64}:\n",
       " 1.0  0.667126  3.35995  0.202451\n",
       " 2.0  0.671897  3.36753  0.203076\n",
       " 3.0  0.678684  3.03306  0.0903493\n",
       " 4.0  0.688906  3.03977  0.0889407\n",
       " 5.0  0.682632  3.03103  0.0881716\n",
       " 6.0  0.682689  3.03815  0.0906875"
      ]
     },
     "execution_count": 39,
     "metadata": {},
     "output_type": "execute_result"
    }
   ],
   "source": [
    "df[!,:invshares] = 1 ./ (1 .- df[!,:Shares]);\n",
    "\n",
    "df[!,:mc] = df[!,:Prices] - (1/α) .* df[!,:invshares];\n",
    "\n",
    "means = groupby(df, :Product)\n",
    "means = Array(combine(means, [:mc,:Prices, :Shares] .=> mean))"
   ]
  },
  {
   "cell_type": "code",
   "execution_count": 40,
   "id": "imposed-capitol",
   "metadata": {},
   "outputs": [],
   "source": [
    "latex_tabular(\"output/ps1_q3_marginal_cost.tex\",\n",
    "              Tabular(\"cccc\"),\n",
    "              [Rule(:top),\n",
    "              [\"Product\", \"Mean MC\", \"Mean Prices\", \"Mean Share\"],\n",
    "              Rule(),\n",
    "               round.(means, digits=3),\n",
    "               Rule(:bottom)])"
   ]
  },
  {
   "cell_type": "markdown",
   "id": "cf8f39e4",
   "metadata": {},
   "source": [
    "# Part 4: Product 1 exits the market\n",
    "To simulate $j = 1$ leaving the market, we solve for the market prices that minimize the firms' first-order conditions as the objective, subject to demand (expressed as shares) as estimated above. We can use the fact that $\\frac{\\partial s_{k}}{\\partial p_{k}} = -\\alpha s_k (1-s_k)$. We can then plug the prices into the share equation to get simulated market shares. That is:\n",
    "$$ \\min_{p} || FOC_k ||  = || s(p) + \\alpha (p - c)s(p)(1 - s(p)) || $$\n",
    "$$ \\text{s.t. } s_{j}(p) = \\frac{\\exp(-\\alpha p_{j} + x_{j}'\\beta + \\xi_{j})}{1 + \\sum_{k = 2}^5 \\exp(-\\alpha p_{k} + x_{k}'\\beta + \\xi_{k})}$$ \n",
    "Following Conlon and Gortmaker (2020), we can solve this with a simple fixed point algorithm, starting with a candidate vector of market prices, $p_k^{(i)}$, then calculating the implied price from the FOC by $$p_k^{(i+1)} = c + \\frac{1}{\\alpha} + s(p_k^{(i)})(p_k^{(i)} - c_k)$$ until some tolerance for $| p_k^{(i+1)} - p_k^{(i)} |$."
   ]
  },
  {
   "cell_type": "code",
   "execution_count": 42,
   "id": "a100fdbc",
   "metadata": {},
   "outputs": [
    {
     "data": {
      "text/plain": [
       "objective (generic function with 1 method)"
      ]
     },
     "execution_count": 42,
     "metadata": {},
     "output_type": "execute_result"
    }
   ],
   "source": [
    "function implied_shares(x,ξ,α,β,p) # calculate market demand given parameters, prices, and products\n",
    "    J = size(p)\n",
    "    \n",
    "    # numerator\n",
    "    u = zeros(J);\n",
    "    @. u = exp(-α * p + x * β + ξ);\n",
    "    \n",
    "    # denominator\n",
    "    u_sum = sum(u) + 1;\n",
    "    \n",
    "    # calculate shares\n",
    "    s = u ./ u_sum;\n",
    "    \n",
    "    return s\n",
    "end\n",
    "\n",
    "function iterate_price(x,ξ,α,β,c,p) # ## Conlon and Gortmaker (2020) fixed point iteration for price equilibrium\n",
    "    \n",
    "    s = implied_shares(x,ξ,α,β,p)\n",
    "    # p = c + 1/α .* (1 ./ (1 .- s))\n",
    "    p = c .+ 1/α .+ s .* (p - c)   \n",
    "    \n",
    "    return p\n",
    "end\n",
    "\n",
    "function foc(α,s,c,p) # firm objective FOC\n",
    "    J = size(p)\n",
    "    \n",
    "    # calculate firm FOCs\n",
    "    foc = zeros(J)\n",
    "    @. foc = s + (α * (p - c) * s * (1 - s)); \n",
    "    \n",
    "    return foc\n",
    "end\n",
    "\n",
    "function objective(x,ξ,α,β,c,p) # evaluate L2 distance of FOCs\n",
    "    # number of parameters\n",
    "    J = size(p)\n",
    "    \n",
    "    s = implied_shares(x,ξ,α,β,p)\n",
    "    firmfoc = foc(α,s,c,p)\n",
    "    \n",
    "    # objective\n",
    "    F = sum(firmfoc.^2)\n",
    "    \n",
    "    return F\n",
    "end"
   ]
  },
  {
   "cell_type": "code",
   "execution_count": 43,
   "id": "a46239cd",
   "metadata": {},
   "outputs": [
    {
     "name": "stdout",
     "output_type": "stream",
     "text": [
      "  0.974060 seconds (5.36 M allocations: 313.945 MiB, 8.39% gc time, 50.87% compilation time)\n",
      "Maxed out iterations: 233\n",
      "Max L2-FOC distance: 0.7974855878851073"
     ]
    }
   ],
   "source": [
    "# Define counterfactual\n",
    "simulation = df[!,[:market, :Product, :x, :ξ, :mc, :Prices, :Shares]];\n",
    "simulation = simulation[(df.Product .!= 1), :];\n",
    "\n",
    "# control loop\n",
    "nmkts = 1000\n",
    "tol = 1e-16\n",
    "max_iter = 1000\n",
    "\n",
    "# Solve for prices, looping through each market\n",
    "prices = Float64[]; \n",
    "shares = Float64[];\n",
    "focs = Float64[];   # L2-norm of firm focs\n",
    "fail = Bool[]       # reaches max_iter\n",
    "\n",
    "n_params = size(simulation[(simulation.market .== 1), :])[1]; \n",
    "\n",
    "count = 0\n",
    "@time for mkt in 1:nmkts\n",
    "    sim_mkt = simulation[(simulation.market .== mkt), :];\n",
    "    \n",
    "    # start somewhere close to true prices\n",
    "    p₀ = Array(sim_mkt[!,:Prices]) \n",
    "    \n",
    "    # define inputs\n",
    "    x = Array(sim_mkt[!,:x]);\n",
    "    ξ = Array(sim_mkt[!,:ξ]);\n",
    "    c = Array(sim_mkt[!,:mc]);\n",
    "    \n",
    "    # fixed point iteration\n",
    "    pᵢ = p₀\n",
    "    ε = 1\n",
    "    i = 0\n",
    "    while (ε > tol) && (i < max_iter)   \n",
    "        i += 1\n",
    "        pᵢ₊₁ = iterate_price(x,ξ,α,β,c,pᵢ)\n",
    "        ε = maximum(abs.(pᵢ₊₁ - pᵢ))\n",
    "        pᵢ = max.(pᵢ₊₁,zeros(n_params))\n",
    "    end\n",
    "    \n",
    "    # store results   \n",
    "        #println(\"mkt: $mkt\", \" ε: $ε\", \" i: $i\")\n",
    "        #println(\"p: $pᵢ\")  \n",
    "    append!(prices,pᵢ)\n",
    "    append!(focs,objective(x,ξ,α,β,c,pᵢ))\n",
    "    append!(shares,implied_shares(x,ξ,α,β,pᵢ))\n",
    "    append!(fail,(i == 1000))\n",
    "end\n",
    "\n",
    "simulation[!,:Sim_Prices] = prices;\n",
    "simulation[!,:Sim_Shares] = shares;\n",
    "\n",
    "print(\"Maxed out iterations: \", sum(fail), \"\\nMax L2-FOC distance: \", maximum(focs))"
   ]
  },
  {
   "cell_type": "code",
   "execution_count": 47,
   "id": "2e1ad618",
   "metadata": {},
   "outputs": [
    {
     "data": {
      "text/html": [
       "<div class=\"data-frame\"><p>6 rows × 3 columns</p><table class=\"data-frame\"><thead><tr><th></th><th>Product</th><th>Sim_Prices_mean</th><th>Sim_Shares_mean</th></tr><tr><th></th><th title=\"Int64\">Int64</th><th title=\"Float64\">Float64</th><th title=\"Float64\">Float64</th></tr></thead><tbody><tr><th>1</th><td>1</td><td>0.0</td><td>0.0</td></tr><tr><th>2</th><td>2</td><td>3.518</td><td>0.244264</td></tr><tr><th>3</th><td>3</td><td>3.09522</td><td>0.113266</td></tr><tr><th>4</th><td>4</td><td>3.10046</td><td>0.111395</td></tr><tr><th>5</th><td>5</td><td>3.09185</td><td>0.110741</td></tr><tr><th>6</th><td>6</td><td>3.10044</td><td>0.113597</td></tr></tbody></table></div>"
      ],
      "text/latex": [
       "\\begin{tabular}{r|ccc}\n",
       "\t& Product & Sim\\_Prices\\_mean & Sim\\_Shares\\_mean\\\\\n",
       "\t\\hline\n",
       "\t& Int64 & Float64 & Float64\\\\\n",
       "\t\\hline\n",
       "\t1 & 1 & 0.0 & 0.0 \\\\\n",
       "\t2 & 2 & 3.518 & 0.244264 \\\\\n",
       "\t3 & 3 & 3.09522 & 0.113266 \\\\\n",
       "\t4 & 4 & 3.10046 & 0.111395 \\\\\n",
       "\t5 & 5 & 3.09185 & 0.110741 \\\\\n",
       "\t6 & 6 & 3.10044 & 0.113597 \\\\\n",
       "\\end{tabular}\n"
      ],
      "text/plain": [
       "\u001b[1m6×3 DataFrame\u001b[0m\n",
       "\u001b[1m Row \u001b[0m│\u001b[1m Product \u001b[0m\u001b[1m Sim_Prices_mean \u001b[0m\u001b[1m Sim_Shares_mean \u001b[0m\n",
       "\u001b[1m     \u001b[0m│\u001b[90m Int64   \u001b[0m\u001b[90m Float64         \u001b[0m\u001b[90m Float64         \u001b[0m\n",
       "─────┼───────────────────────────────────────────\n",
       "   1 │       1          0.0             0.0\n",
       "   2 │       2          3.518           0.244264\n",
       "   3 │       3          3.09522         0.113266\n",
       "   4 │       4          3.10046         0.111395\n",
       "   5 │       5          3.09185         0.110741\n",
       "   6 │       6          3.10044         0.113597"
      ]
     },
     "execution_count": 47,
     "metadata": {},
     "output_type": "execute_result"
    }
   ],
   "source": [
    "# Get original prices and shares\n",
    "old_results = groupby(df, :Product);\n",
    "old_results = combine(old_results, [:Prices, :Shares] .=> mean);\n",
    "rename!(old_results, :Prices_mean => :Old_Prices, :Shares_mean => :Old_Shares);\n",
    "\n",
    "# Add simulated prices and shares\n",
    "sim_results = groupby(simulation, :Product);\n",
    "sim_results = combine(sim_results, [:Sim_Prices, :Sim_Shares] .=> mean);\n",
    "\n",
    "# Combine with old results, old market now 0\n",
    "sort!(push!(sim_results, [1,0,0]),:Product)"
   ]
  },
  {
   "cell_type": "code",
   "execution_count": 49,
   "id": "precise-produce",
   "metadata": {},
   "outputs": [],
   "source": [
    "res = Array(innerjoin(old_results,sim_results, on = :Product))\n",
    "latex_tabular(\"output/ps1_q3_counterfactual_prices.tex\",\n",
    "              Tabular(\"ccccc\"),\n",
    "              [Rule(:top),\n",
    "              [\"Product\", \"Old Price\", \"Old Share\", \"Counterfactual Price\", \"Counterfactual Share\"],\n",
    "              Rule(),\n",
    "               round.(res, digits=3),\n",
    "               Rule(:bottom)])"
   ]
  },
  {
   "cell_type": "markdown",
   "id": "49d876a2",
   "metadata": {},
   "source": [
    "# Part 5: Profits and welfare\n",
    "Profit for each firm is: $$ \\pi_{jt} = s_{jt}(p_{jt} - c_{jt})$$\n",
    "Average change in industry profit is then: $$ \\Delta \\bar{\\pi} = \\frac{1}{T} \\sum_{t = 1}^{1000} \\left( \\sum_{j = 2}^5 s_{jt}' (p_{jt}' - c_{jt}) - \\sum_{j = 1}^5 s_{jt} (p_{jt} - c_{jt}) \\right) $$\n",
    "Market welfare (where $\\gamma \\approx 0.577$ is the Euler constant) is given by: $$ W_t = E\\left[\\max_j u_{ijt}\\right] = \\alpha E[y_i] + \\gamma - \\ln(s_{0t}) $$\n",
    "Average change in market welfare is then the average log odds ratio of consuming the outside option: $$ \\Delta \\bar{W} = \\frac{1}{T} \\sum_{t = 1}^{1000} \\ln\\left(\\frac{s_{0t}}{s_{0t}'}\\right)$$"
   ]
  },
  {
   "cell_type": "code",
   "execution_count": 65,
   "id": "fb42cb5d",
   "metadata": {},
   "outputs": [
    {
     "name": "stdout",
     "output_type": "stream",
     "text": [
      "Average change in profits: $ -0.16\n",
      "Markets that has positive change in profits: [282, 525, 672, 808]\n"
     ]
    }
   ],
   "source": [
    "## Calculate profits\n",
    "# Individual firm profit\n",
    "df[!,:Profit]             = df[!,:Shares] .* (df[!,:Prices] .- df[!,:mc]);\n",
    "simulation[!,:Sim_Profit] = simulation[!,:Sim_Shares] .* (simulation[!,:Sim_Prices] .- simulation[!,:mc]);\n",
    "\n",
    "# Pull total profits in each market pre- and post-simulation\n",
    "gdf = groupby(df,:market);\n",
    "gdf = combine(gdf, [:Profit] => sum);\n",
    "\n",
    "gsim = groupby(simulation,:market);\n",
    "gsim = combine(gsim, [:Sim_Profit] => sum)\n",
    "\n",
    "# Average change in market profits\n",
    "profits = innerjoin(gdf, gsim, on = :market);\n",
    "profits[!,:change] = profits[!,:Sim_Profit_sum] .- profits[!,:Profit_sum];\n",
    "Δ̄π = round(mean(profits[!,:change]); digits = 2);\n",
    "pos_markets = profits[profits[!,:change].>0, :market]\n",
    "\n",
    "println(\"Average change in profits: \\$ $Δ̄π\")\n",
    "println(\"Markets that has positive change in profits: $pos_markets\")"
   ]
  },
  {
   "cell_type": "code",
   "execution_count": 210,
   "id": "1469cc2f",
   "metadata": {},
   "outputs": [
    {
     "name": "stdout",
     "output_type": "stream",
     "text": [
      "Average change in welfare: -0.26118808227352497 ($ -0.56)\n"
     ]
    }
   ],
   "source": [
    "## Calculate welfare\n",
    "# Outside good shares pre- and post-simulation\n",
    "gdf = groupby(df, :market);\n",
    "gdf = combine(gdf, :Shares => sum);\n",
    "gdf[!,:shares_0] = 1 .- gdf[!,:Shares_sum];\n",
    "\n",
    "gsim = groupby(simulation, :market);\n",
    "gsim = combine(gsim, :Sim_Shares => sum);\n",
    "gsim[!,:shares_0] = 1 .- gsim[!,:Sim_Shares_sum];\n",
    "\n",
    "# Compute welfare, and convert to $ by dividing by MU of income (α)\n",
    "Δ̄W = mean(log.(gdf[!,:shares_0]) .- log.(gsim[!,:shares_0])) \n",
    "dollar_Δ̄W = round(Δ̄W / α; digits = 2)\n",
    "\n",
    "println(\"Average change in welfare: $Δ̄W (\\$ $dollar_Δ̄W)\")"
   ]
  }
 ],
 "metadata": {
  "kernelspec": {
   "display_name": "Julia 1.8.2",
   "language": "julia",
   "name": "julia-1.8"
  },
  "language_info": {
   "file_extension": ".jl",
   "mimetype": "application/julia",
   "name": "julia",
   "version": "1.8.2"
  }
 },
 "nbformat": 4,
 "nbformat_minor": 5
}
