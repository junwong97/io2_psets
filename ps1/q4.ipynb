{
 "cells": [
  {
   "cell_type": "markdown",
   "id": "ab4e9259",
   "metadata": {},
   "source": [
    "# Problem 4 : Estimation - BLP"
   ]
  },
  {
   "cell_type": "code",
   "execution_count": 1,
   "id": "09ccc41c",
   "metadata": {},
   "outputs": [],
   "source": [
    "using Plots, DataFrames, CSV, GLM\n",
    "using Optim, Distributions, Random, ForwardDiff\n",
    "using LinearAlgebra,StatsFuns, FixedEffectModels\n",
    "using LaTeXTabulars\n",
    "\n",
    "Random.seed!(6789998212);"
   ]
  },
  {
   "cell_type": "code",
   "execution_count": 2,
   "id": "a394e006",
   "metadata": {
    "scrolled": true
   },
   "outputs": [],
   "source": [
    "# load in csv\n",
    "df = DataFrame(CSV.File(\"../data/ps1_ex4.csv\"));"
   ]
  },
  {
   "cell_type": "code",
   "execution_count": 3,
   "id": "681fdf74",
   "metadata": {},
   "outputs": [
    {
     "data": {
      "text/plain": [
       "#1 (generic function with 1 method)"
      ]
     },
     "execution_count": 3,
     "metadata": {},
     "output_type": "execute_result"
    }
   ],
   "source": [
    "# simulate individual taste shocks from N(μ,Σ)\n",
    "draw_sim = function(μ, Σ, N) # return N x L matrix\n",
    "    # draw shocks\n",
    "    v = rand(MvNormal(μ, Σ), N)\n",
    "    \n",
    "    return v\n",
    "end"
   ]
  },
  {
   "cell_type": "code",
   "execution_count": 4,
   "id": "64e4ce64",
   "metadata": {},
   "outputs": [],
   "source": [
    "# get data\n",
    "n_markets = maximum(df[!,:market])\n",
    "n_sim = 100\n",
    "\n",
    "x_t = []\n",
    "for t in 1:n_markets \n",
    "   push!(x_t, Array(df[df[!,:market].==t, [:p, :x]]))\n",
    "end\n",
    "\n",
    "s_t = []\n",
    "for t in 1:n_markets \n",
    "    push!(s_t, Array(df[df[!,:market].==t, [:shares]]))\n",
    "end\n",
    "\n",
    "z_t = []\n",
    "for t in 1:n_markets \n",
    "    push!(z_t, Array(df[df[!,:market].==t, [:z1, :z2, :z3, :z4, :z5, :z6, :x]]))\n",
    "end\n",
    "\n",
    "x_jt = Array(df[df[!,:market] .<= n_markets,[:p, :x]]);\n",
    "#x_jt = hcat(x_jt, ones(600));\n",
    "\n",
    "z_jt = Array(df[df[!,:market] .<= n_markets,[:z1, :z2, :z3, :z4, :z5, :z6, :x]]);\n",
    "#z_jt = hcat(z_jt, ones(600));\n",
    "\n",
    "v = draw_sim([0;0], [1 0;0 1], n_sim);"
   ]
  },
  {
   "cell_type": "markdown",
   "id": "f049ea0a",
   "metadata": {},
   "source": [
    "# Part 1: BLP"
   ]
  },
  {
   "cell_type": "markdown",
   "id": "2b2e0424",
   "metadata": {},
   "source": [
    "## Inner loop\n",
    "`get_shares` calculates the shares of each product in a particular market $t$. $\\delta$ should be a vector of length $J$; $x$ should be a matrix of size $J \\times 2$; and $v$ should be a vector of length $L$.\n",
    "\n",
    "`delta_contraction` iterates the $\\delta_{jt}$ in a particular market $t$. $\\delta$ should be a vector of length $J$; $x$ should be a vector of characteristics with length $J$; $s$ should be a vector of observed shares with length $J$; $v$ should be a vector of length $L$. \n",
    "\n",
    "`market_iterate` performs the contraction over each $t$ markets, it recoves $\\delta_{jt}$, which is a vector of length $J \\times T$."
   ]
  },
  {
   "cell_type": "code",
   "execution_count": 36,
   "id": "1121443e",
   "metadata": {},
   "outputs": [
    {
     "data": {
      "text/plain": [
       "#25 (generic function with 3 methods)"
      ]
     },
     "execution_count": 36,
     "metadata": {},
     "output_type": "execute_result"
    }
   ],
   "source": [
    "# get shares in a market given some fixed gamma and delta\n",
    "get_shares = function(δ, Γ, x, v)\n",
    "    # we want to get share_{jt} using simulated values of $v_i$ (drawn above)\n",
    "    # shares should be vector of length J\n",
    "    numerator = exp.(δ .+ x * Γ * v)\n",
    "    adj = maximum(numerator, dims = 1)\n",
    "    denominator = sum((numerator ./ adj), dims = 1) .+ (1 ./ adj)\n",
    "    shares = sum((numerator ./ adj) ./ denominator, dims = 2) ./ size(v)[2]\n",
    "    \n",
    "    return shares\n",
    "end\n",
    "\n",
    "# inner loop: contraction to find δ\n",
    "delta_contraction = function(δ₀, Γ, s, x, v, tol = 1e-12, max_iter = nothing)\n",
    "\n",
    "    # here δ is a vector of length J\n",
    "    δ = δ₀\n",
    "    err = 1000\n",
    "    n = 0\n",
    "    maxed_iter = false\n",
    "    \n",
    "    while (err > tol) && (maxed_iter === false)\n",
    "        δ_old = δ\n",
    "        \n",
    "        # update delta\n",
    "        δ = δ_old + log.(s) - log.(get_shares(δ_old, Γ, x, v))\n",
    "        \n",
    "        # difference \n",
    "        err = maximum(abs.(δ - δ_old)) \n",
    "        \n",
    "        # (optional) max iterations block\n",
    "        n += 1\n",
    "        if max_iter !== nothing\n",
    "            maxed_iter = (n == max_iter)\n",
    "        end\n",
    "    end\n",
    "    \n",
    "    return δ\n",
    "end\n",
    "\n",
    "# iterate over each market\n",
    "market_iterate = function(Γ, s_t, x_t, v, tol = 1e-12, max_iter = nothing)\n",
    "   \n",
    "    δ = []\n",
    "    for t in 1:size(s_t)[1]\n",
    "        s = s_t[t]\n",
    "        x = x_t[t]\n",
    "        δ₀ = ones(size(s)[1])\n",
    "        push!(δ, delta_contraction(δ₀, Γ, s, x, v, tol, max_iter) ) \n",
    "    end\n",
    "    return δ\n",
    "end"
   ]
  },
  {
   "cell_type": "markdown",
   "id": "a0759137",
   "metadata": {},
   "source": [
    "## Outer loop\n",
    "`residuals` does IV-GMM using the provided weighting matrix. z_jt should be a matrix of $Z$ excluded and included intruments of size $TJ \\times Z$. Returns linear parameters (vector of length $2$) and $\\xi_{jt}$ residuals (vector of length $J \\times T$)\n",
    "\n",
    "`gmm_objective` Reads in $TJ$-length vector $x$_jt and $TJ \\times Z$ matrix $z$_jt. Calculates sample moments (size of instrument vector, $Z$) and optimal weighting matrix ($Z \\times Z$). Returns scalar objective and matrix."
   ]
  },
  {
   "cell_type": "code",
   "execution_count": 45,
   "id": "1071312a",
   "metadata": {},
   "outputs": [
    {
     "data": {
      "text/plain": [
       "outer_loop (generic function with 3 methods)"
      ]
     },
     "execution_count": 45,
     "metadata": {},
     "output_type": "execute_result"
    }
   ],
   "source": [
    "# returns residuals for a given δ, estimates linear parameters given instruments\n",
    "resid = function(δ_jt, x_jt, z_jt, W)\n",
    "    # iv-gmm\n",
    "    θ₁ = inv(x_jt' * z_jt * W * z_jt' * x_jt) * (x_jt' * z_jt * W * z_jt' * δ_jt)\n",
    "    ξ_jt = δ_jt - x_jt * θ₁\n",
    "    \n",
    "    return ξ_jt, θ₁ \n",
    "    \n",
    "end\n",
    "\n",
    "# calculates gmm objective for outer loop\n",
    "function gmm_objective(ξ_jt, z_jt, W)   \n",
    "    # empirical moments, weighting matrix\n",
    "    g = (ξ_jt' * z_jt) / size(ξ_jt)[1] \n",
    "    \n",
    "    # gmm objective\n",
    "    G = g * W * g'\n",
    "    \n",
    "    return G\n",
    "end\n",
    "\n",
    "# performs outer loop\n",
    "function outer_loop(θ₂, s_t, x_t, x_jt, z_jt, v, W, tol = 1e-12, max_iter = nothing)\n",
    "    # Pass through guess\n",
    "    Γ = [θ₂[1] 0 ; θ₂[2] θ₂[3]] # lower triangular\n",
    "    #println(Γ)\n",
    "    \n",
    "    # Perform inner loop\n",
    "    δ = market_iterate(Γ, s_t, x_t, v, tol, max_iter)\n",
    "    \n",
    "    # convert to JT x 1 (stacked J x 1 vectors for each t)\n",
    "    δ_jt = vec(reduce(hcat,δ)) \n",
    "    \n",
    "    # intermediate step\n",
    "    ξ_jt, θ₁ = resid(δ_jt, x_jt, z_jt, W)\n",
    "    #estimates = reg(DataFrame(hcat(δ_jt, x_jt, z_jt), :auto), \n",
    "    #    @formula(x1 ~ x3 + (x2 ~ x4 + x5 + x6 + x7 + x8 + x9 + x10)))\n",
    "    #θ₁ = [coef(estimates)[3], coef(estimates)[2]]\n",
    "    #ξ_jt   = δ_jt - coef(estimates)[2].*x_jt[:,2] - coef(estimates)[3].*x_jt[:,1] .- coef(estimates)[1]\n",
    "    \n",
    "    # gmm step\n",
    "    G = gmm_objective(ξ_jt, z_jt, W)\n",
    "    \n",
    "    #println(G)\n",
    "    \n",
    "    return G\n",
    "end\n"
   ]
  },
  {
   "cell_type": "markdown",
   "id": "distinct-anime",
   "metadata": {},
   "source": [
    "## 2-step GMM"
   ]
  },
  {
   "cell_type": "code",
   "execution_count": 46,
   "id": "explicit-delicious",
   "metadata": {},
   "outputs": [
    {
     "data": {
      "text/plain": [
       "two_step (generic function with 4 methods)"
      ]
     },
     "execution_count": 46,
     "metadata": {},
     "output_type": "execute_result"
    }
   ],
   "source": [
    "# this will return θ₁ & θ₂ for any given weighting matrix\n",
    "function gmm_step(s_t, x_t, x_jt, z_jt, v, w, tol=1e-14, max_iter=nothing)\n",
    "    params0 = ones(3)\n",
    "    f(θ₂) = outer_loop(θ₂, s_t, x_t, x_jt, z_jt, v, w, tol, max_iter)\n",
    "    o = Optim.optimize(f, params0, BFGS(), Optim.Options(show_trace = true, show_every = 5000))\n",
    "    \n",
    "    # step 1.5: recover θ₁ from θ₂\n",
    "    θ₂ = o.minimizer\n",
    "    Γ = [θ₂[1] 0 ; θ₂[2] θ₂[3]]\n",
    "    δ = market_iterate(Γ, s_t, x_t, v)\n",
    "    δ_jt = vec(reduce(hcat,δ)) \n",
    "    ξ_jt, θ₁ = resid(δ_jt, x_jt, z_jt, w)\n",
    "    \n",
    "    return θ₁, θ₂, ξ_jt\n",
    "end\n",
    "\n",
    "# this will return the parameters estimated using the efficient weighting matrix\n",
    "function two_step(s_t, x_t, x_jt, z_jt, v, tol=1e-14, max_iter=nothing, constant=true)\n",
    "    # step 1: use the inefficient weighting matrix to get a consistent estimator of θ\n",
    "    w = inv(z_jt' * z_jt)\n",
    "    θ₁, θ₂, ξ_jt = gmm_step(s_t, x_t, x_jt, z_jt, v, w)\n",
    "    \n",
    "    # step 1.5: get the efficient weighting matrix \n",
    "    w = inv((z_jt .* ξ_jt.^2 )' * z_jt) * size(ξ_jt)[1]\n",
    "    \n",
    "    # step 2: gmm again with the efficient weighting matrix \n",
    "    θ₁, θ₂, ξ_jt = gmm_step(s_t, x_t, x_jt, z_jt, v, w)\n",
    "    \n",
    "    return θ₁, θ₂, ξ_jt, w\n",
    "end"
   ]
  },
  {
   "cell_type": "code",
   "execution_count": 47,
   "id": "7e5614f2",
   "metadata": {},
   "outputs": [
    {
     "name": "stdout",
     "output_type": "stream",
     "text": [
      "Iter     Function value   Gradient norm \n",
      "     0     1.887575e-03     2.029722e-04\n",
      " * time: 0.00013589859008789062\n",
      "Iter     Function value   Gradient norm \n",
      "     0     2.540922e-01     2.828499e-02\n",
      " * time: 0.00013303756713867188\n"
     ]
    }
   ],
   "source": [
    "θ₁, θ₂, ξ_jt, w = two_step(s_t, x_t, x_jt, z_jt, v);"
   ]
  },
  {
   "cell_type": "markdown",
   "id": "handled-bloom",
   "metadata": {},
   "source": [
    "Test to make sure observed shares matched predicted shares with the estimated parameters:"
   ]
  },
  {
   "cell_type": "code",
   "execution_count": 48,
   "id": "e2287183",
   "metadata": {},
   "outputs": [
    {
     "data": {
      "text/plain": [
       "3.5771385853422544e-13"
      ]
     },
     "execution_count": 48,
     "metadata": {},
     "output_type": "execute_result"
    }
   ],
   "source": [
    "# test \n",
    "Γ = [θ₂[1] 0 ; θ₂[2] θ₂[3]]\n",
    "δ = market_iterate(Γ, s_t, x_t, v)\n",
    "δ_jt = vec(reduce(hcat,δ)) \n",
    "\n",
    "S_t = []\n",
    "for t in 1:size(x_t)[1]\n",
    "    push!(S_t, get_shares(δ[t], Γ, x_t[t], v))\n",
    "end\n",
    "S = mean(reduce(hcat,S_t), dims = 2)\n",
    "s = mean(reduce(hcat,s_t), dims = 2)\n",
    "\n",
    "maximum(reduce(hcat,S_t) - reduce(hcat,s_t))"
   ]
  },
  {
   "cell_type": "markdown",
   "id": "closed-indonesian",
   "metadata": {},
   "source": [
    "Plot the results\n",
    "- todo: add SEs"
   ]
  },
  {
   "cell_type": "code",
   "execution_count": 49,
   "id": "antique-prevention",
   "metadata": {},
   "outputs": [],
   "source": [
    "plotdf = [θ₁[1]; θ₁[2];  θ₂[1];  θ₂[2];  θ₂[3]]\n",
    "scatter(plotdf[:,1], \n",
    "    xticks=(1:5, [\"α\", \"β\", \"γ₁₁\", \"γ₂₁\", \"γ₂₂\"]),\n",
    "    permute=(:x, :y),\n",
    "    xtickfontsize=12,\n",
    "    legend=false)\n",
    "savefig(\"output/ps1_q4_blp_estimates.pdf\");"
   ]
  },
  {
   "cell_type": "markdown",
   "id": "japanese-eugene",
   "metadata": {},
   "source": [
    "# Part 2 - Own and cross price elasticities\n",
    "In any market $t$, own price elasticities are given by:\n",
    "$$- \\frac{p_j}{s_j} \\int \\alpha_i s_{ij} (1-s_{ij}) dF(D_i, \\nu_i) $$\n",
    "\n",
    "Cross-price elasticities are given by:\n",
    "$$\\frac{p_k}{s_j} \\int \\alpha_i s_{ij} s_{ik} dF(D_i, \\nu_i) $$\n",
    "\n",
    "Note also that we need to recover the individual specific $\\alpha_i$, which is:\n",
    "    $$ \\alpha_i = \\alpha + \\gamma_{11} \\nu^1_i $$\n",
    "\n",
    "We can approximate the integral by taking the average over all consumers."
   ]
  },
  {
   "cell_type": "code",
   "execution_count": 51,
   "id": "enormous-lotus",
   "metadata": {},
   "outputs": [],
   "source": [
    "αᵢ = θ₁[1] .+ θ₂[1] * v[1,:]\n",
    "\n",
    "η = Matrix{Float64}[] \n",
    "for t in 1:size(δ)[1]\n",
    "    ηₜ = zeros(Float64,6,6)\n",
    "    \n",
    "    numerator = exp.(δ[t] .+ x_t[t] * Γ * v)\n",
    "    denominator = sum(numerator, dims = 1) .+ (1)\n",
    "    shares_ijt = numerator ./ denominator \n",
    "    \n",
    "    for j in 1:6 \n",
    "        for k in 1:6\n",
    "            if j == k\n",
    "                ηₜ[j,k] = - mean(αᵢ .* shares_ijt[j, :] .* (1 .- shares_ijt[j, :])) * x_t[t][j,1] / s_t[t][j] \n",
    "            else\n",
    "                ηₜ[j,k] = mean(αᵢ .* shares_ijt[k, :] .* (shares_ijt[j, :])) * x_t[t][k,1] / s_t[t][j] \n",
    "            end\n",
    "        end\n",
    "    end\n",
    "    push!(η,ηₜ)\n",
    "end"
   ]
  },
  {
   "cell_type": "code",
   "execution_count": 53,
   "id": "artificial-basis",
   "metadata": {},
   "outputs": [],
   "source": [
    "latex_tabular(\"output/ps1_q4_elasticities.tex\",\n",
    "              Tabular(\"cccccc\"),\n",
    "              [Rule(:top),\n",
    "               round.(mean(η), digits=3),\n",
    "               Rule(:bottom)])"
   ]
  },
  {
   "cell_type": "markdown",
   "id": "listed-minimum",
   "metadata": {},
   "source": [
    "# Gradient Appendix\n",
    "## Gradient\n",
    "Estimator is $$\\nabla G(\\theta) = 2(Z'J_\\theta)'W(Z'\\xi(\\theta))$$\n",
    "-$Z$ is $JT \\times Z$ matrix if instruments\n",
    "\n",
    "-$\\xi$ is $JT \\times 1$ matrix of unobserved mean utilities\n",
    "\n",
    "-$W$ is $Z \\times Z$ \n",
    "\n",
    "$$ W = \\left[(\\xi(\\theta) \\circ Z)' (\\xi(\\theta) \\circ Z) \\right]^{-1}$$\n",
    "\n",
    "-$J_\\theta$ is $JT \\times 3$\n",
    "\n",
    "$$ J_\\theta = -f_\\xi^{-1} f_\\theta$$\n",
    "\n",
    "- For each t, $f_\\xi$ is a $J \\times J$ matrix: $\\left\\{\\frac{\\partial s_{ij}}{\\partial \\xi_k}\\right\\}_{j,k}$\n",
    "\n",
    "$$ \\frac{\\partial s_{ij}}{\\partial \\xi_k} = -s_{ij}s_{ik}, \\quad \\frac{\\partial s_{ij}}{\\partial \\xi_j} = s_{ij}(1-s_{ij}) $$\n",
    "\n",
    "- For each t, $f_\\theta$ is a $J \\times 3$ matrix: \n",
    "$$\\begin{bmatrix} s_{ij}s_{i0}\\left(p_j - \\sum_k s_{ik}p_k \\right)\\nu_{1i}  &  s_{ij}s_{i0}\\left(x_j - \\sum_k s_{ik}x_k \\right)\\nu_{1i} & s_{ij}s_{i0}\\left(x_j - \\sum_k s_{ik}x_k \\right)\\nu_{2i} \\end{bmatrix}_{j} $$\n",
    "\n",
    "All matrices are stacked $J \\times \\cdot$ over $T$ markets"
   ]
  },
  {
   "cell_type": "code",
   "execution_count": null,
   "id": "impressive-barbados",
   "metadata": {},
   "outputs": [],
   "source": [
    "\n",
    "# Steps to calculate gradient...\n",
    "# have data s_t, x_t, z_t\n",
    "# first step will return θ           -> Γ  x\n",
    "# 1. run market_iterate() with Γ     -> δ  x\n",
    "# 2. run resid() with δ              -> ξ x\n",
    "# 3. calculate W with ξ and Z        -> W x\n",
    "# 4. calculate J with δ and Γ*       -> J  x\n",
    "# *(for each i, calculate s_ij vector, do elementwise mult with p_j, v, and sum to get f_xi loop through j,k for f_theta)\n",
    "# 5. run gradient() with J, W, ξ, Z  -> ∇\n",
    "\n",
    "# helper function in gradient call: for each market get Jacobian of ξ(θ)\n",
    "function jacobian_xi(δ, Γ, x, v)\n",
    "    # need individual shares\n",
    "    numerator = exp.(δ .+ x * Γ * v)\n",
    "    adj = maximum(numerator, dims = 1)\n",
    "    denominator = sum((numerator ), dims = 1) .+ 1\n",
    "    shares = (numerator ./ adj) ./ (denominator ./ adj) # J x L\n",
    "    \n",
    "    # calculate partials of f(θ) = s - S(ξ,θ), denoted fξ and fθ\n",
    "    fξ_store = []\n",
    "    fθ_store = [] \n",
    "    for i = 1:size(v)[2]\n",
    "        s_i = shares[:,i]\n",
    "        s_i0 = 1 - sum(s_i)\n",
    "        v_i = v[:,i]\n",
    "        \n",
    "        fξ_i = - s_i * s_i' + diagm(s_i)\n",
    "        \n",
    "        fθ₁ = s_i .* (x[:,1] .- (s_i' * x[:,1])) .* v[1]\n",
    "        fθ₂ = s_i .* (x[:,2] .- (s_i' * x[:,2])) .* v[1]\n",
    "        fθ₃ = s_i .* (x[:,2] .- (s_i' * x[:,2])) .* v[2]\n",
    "        fθ_i = hcat(fθ₁, fθ₂, fθ₃)\n",
    "        \n",
    "        push!(fξ_store, fξ_i)\n",
    "        push!(fθ_store, fθ_i)        \n",
    "    end\n",
    "    \n",
    "    # calculate Jacobian\n",
    "    J = -1 .* inv(mean(fξ_store)) * mean(fθ_store)\n",
    "   \n",
    "    return J\n",
    "end\n",
    "    \n",
    "function gmm_gradient!(θ₂, s_t, x_t, x_jt, z_jt, v, W, ∇, tol = 1e-12, max_iter = nothing)\n",
    "    # Pass through guess\n",
    "    Γ = [θ₂[1] 0 ; θ₂[2] θ₂[3]] # lower triangular\n",
    "    \n",
    "    println(1, Γ)\n",
    "    \n",
    "    # Recover model objects from estimates parameters: Γ, and data: s_t, x_t, z_t, and v (simulated)    \n",
    "    # δ(θ)\n",
    "    δ = market_iterate(Γ, s_t, x_t, v, tol, max_iter)\n",
    "    \n",
    "    println(2,δ)\n",
    "    \n",
    "    # ξ(θ)\n",
    "    δ_jt = vec(reduce(hcat,δ)) \n",
    "    ξ_jt = resid(δ_jt, x_jt, z_jt, W)[1]\n",
    "    ξ_t = reshape(ξ_jt, 6, Int64(size(ξ_jt)[1] / 6))\n",
    "    \n",
    "    println(3, ξ_t)\n",
    "    \n",
    "    # Analytic matrices\n",
    "    # Jacobian\n",
    "    J_t = []\n",
    "    for t = 1:size(x_t)[1]\n",
    "        push!(J_t, jacobian_xi(δ[t], Γ, x_t[t], v))\n",
    "    end\n",
    "    # J = reduce(vcat, J_t) # flatten to JT x 3 matrix\n",
    "    \n",
    "    println(4, mean(J_t))\n",
    "    \n",
    "    # Weighting (note: put outside, we want to fix W through run)\n",
    "    # W = inv((z_jt .* ξ_jt)' * (z_jt .* ξ_jt)) * size(ξ_jt)[1]\n",
    "    \n",
    "    # Calculate gradient\n",
    "    ∇_t = []\n",
    "    for t in 1:size(s_t)[1]\n",
    "        push!(∇_t,  2 .* (z_t[t]' * J_t[t])' * W * (z_t[t]' * ξ_t[:,t]))\n",
    "    end\n",
    "    ∇ .= mean(∇_t)\n",
    "    \n",
    "    print(5,∇)\n",
    "\n",
    "    return ∇\n",
    "end"
   ]
  },
  {
   "cell_type": "code",
   "execution_count": null,
   "id": "sunset-forty",
   "metadata": {},
   "outputs": [],
   "source": [
    "using ForwardDiff\n",
    "ForwardDiff.gradient(f,θ₂)\n",
    "∇ = ones(3)\n",
    "gmm_gradient!(θ₂, s_t, x_t, x_jt, z_jt, v, w, ∇, tol, max_iter)\n",
    "\n",
    "# define g \n",
    "g!(G,θ₂) = gmm_gradient!(θ₂, s_t, x_t, x_jt, z_jt, v, w, G, tol, max_iter)"
   ]
  }
 ],
 "metadata": {
  "kernelspec": {
   "display_name": "Julia 1.8.2",
   "language": "julia",
   "name": "julia-1.8"
  },
  "language_info": {
   "file_extension": ".jl",
   "mimetype": "application/julia",
   "name": "julia",
   "version": "1.8.2"
  }
 },
 "nbformat": 4,
 "nbformat_minor": 5
}
