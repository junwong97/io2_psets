{
 "cells": [
  {
   "cell_type": "markdown",
   "id": "58b3d1fa",
   "metadata": {},
   "source": [
    "# Problem 4 : Estimation - BLP"
   ]
  },
  {
   "cell_type": "code",
   "execution_count": 26,
   "id": "c460132e",
   "metadata": {},
   "outputs": [],
   "source": [
    "using Plots, DataFrames, CSV, GLM\n",
    "using Optim, Distributions, Random, ForwardDiff\n",
    "using LinearAlgebra,StatsFuns\n",
    "\n",
    "Random.seed!(111);"
   ]
  },
  {
   "cell_type": "code",
   "execution_count": 34,
   "id": "f2244d27",
   "metadata": {
    "scrolled": true
   },
   "outputs": [
    {
     "data": {
      "text/html": [
       "<div><div style = \"float: left;\"><span>600×11 DataFrame</span></div><div style = \"float: right;\"><span style = \"font-style: italic;\">575 rows omitted</span></div><div style = \"clear: both;\"></div></div><div class = \"data-frame\" style = \"overflow-x: scroll;\"><table class = \"data-frame\" style = \"margin-bottom: 6px;\"><thead><tr class = \"header\"><th class = \"rowNumber\" style = \"font-weight: bold; text-align: right;\">Row</th><th style = \"text-align: left;\">market</th><th style = \"text-align: left;\">choice</th><th style = \"text-align: left;\">shares</th><th style = \"text-align: left;\">p</th><th style = \"text-align: left;\">x</th><th style = \"text-align: left;\">z1</th><th style = \"text-align: left;\">z2</th><th style = \"text-align: left;\">z3</th><th style = \"text-align: left;\">z4</th><th style = \"text-align: left;\">z5</th><th style = \"text-align: left;\">z6</th></tr><tr class = \"subheader headerLastRow\"><th class = \"rowNumber\" style = \"font-weight: bold; text-align: right;\"></th><th title = \"Int64\" style = \"text-align: left;\">Int64</th><th title = \"Int64\" style = \"text-align: left;\">Int64</th><th title = \"Float64\" style = \"text-align: left;\">Float64</th><th title = \"Float64\" style = \"text-align: left;\">Float64</th><th title = \"Float64\" style = \"text-align: left;\">Float64</th><th title = \"Float64\" style = \"text-align: left;\">Float64</th><th title = \"Float64\" style = \"text-align: left;\">Float64</th><th title = \"Float64\" style = \"text-align: left;\">Float64</th><th title = \"Float64\" style = \"text-align: left;\">Float64</th><th title = \"Float64\" style = \"text-align: left;\">Float64</th><th title = \"Float64\" style = \"text-align: left;\">Float64</th></tr></thead><tbody><tr><td class = \"rowNumber\" style = \"font-weight: bold; text-align: right;\">1</td><td style = \"text-align: right;\">1</td><td style = \"text-align: right;\">1</td><td style = \"text-align: right;\">0.0099</td><td style = \"text-align: right;\">0.000277852</td><td style = \"text-align: right;\">-0.210973</td><td style = \"text-align: right;\">-6.36336</td><td style = \"text-align: right;\">-5.50945</td><td style = \"text-align: right;\">-5.37102</td><td style = \"text-align: right;\">-1.58364</td><td style = \"text-align: right;\">-1.93707</td><td style = \"text-align: right;\">-0.34181</td></tr><tr><td class = \"rowNumber\" style = \"font-weight: bold; text-align: right;\">2</td><td style = \"text-align: right;\">1</td><td style = \"text-align: right;\">2</td><td style = \"text-align: right;\">0.2085</td><td style = \"text-align: right;\">0.000457065</td><td style = \"text-align: right;\">-1.55758</td><td style = \"text-align: right;\">-5.19816</td><td style = \"text-align: right;\">-4.39604</td><td style = \"text-align: right;\">-4.26527</td><td style = \"text-align: right;\">-2.86235</td><td style = \"text-align: right;\">-3.49809</td><td style = \"text-align: right;\">-2.33013</td></tr><tr><td class = \"rowNumber\" style = \"font-weight: bold; text-align: right;\">3</td><td style = \"text-align: right;\">1</td><td style = \"text-align: right;\">3</td><td style = \"text-align: right;\">0.009</td><td style = \"text-align: right;\">1.01684</td><td style = \"text-align: right;\">-0.799984</td><td style = \"text-align: right;\">-0.0408355</td><td style = \"text-align: right;\">0.835758</td><td style = \"text-align: right;\">-0.520122</td><td style = \"text-align: right;\">-0.797271</td><td style = \"text-align: right;\">0.768238</td><td style = \"text-align: right;\">-0.973296</td></tr><tr><td class = \"rowNumber\" style = \"font-weight: bold; text-align: right;\">4</td><td style = \"text-align: right;\">1</td><td style = \"text-align: right;\">4</td><td style = \"text-align: right;\">0.0348</td><td style = \"text-align: right;\">0.109472</td><td style = \"text-align: right;\">-1.33837</td><td style = \"text-align: right;\">-1.53891</td><td style = \"text-align: right;\">-1.1727</td><td style = \"text-align: right;\">0.189448</td><td style = \"text-align: right;\">-1.79817</td><td style = \"text-align: right;\">1.51942</td><td style = \"text-align: right;\">-0.264684</td></tr><tr><td class = \"rowNumber\" style = \"font-weight: bold; text-align: right;\">5</td><td style = \"text-align: right;\">1</td><td style = \"text-align: right;\">5</td><td style = \"text-align: right;\">0.3661</td><td style = \"text-align: right;\">5.38779</td><td style = \"text-align: right;\">3.31633</td><td style = \"text-align: right;\">0.758555</td><td style = \"text-align: right;\">-0.70047</td><td style = \"text-align: right;\">0.723864</td><td style = \"text-align: right;\">-0.37094</td><td style = \"text-align: right;\">-1.28846</td><td style = \"text-align: right;\">0.0804491</td></tr><tr><td class = \"rowNumber\" style = \"font-weight: bold; text-align: right;\">6</td><td style = \"text-align: right;\">1</td><td style = \"text-align: right;\">6</td><td style = \"text-align: right;\">0.0231</td><td style = \"text-align: right;\">4.18812</td><td style = \"text-align: right;\">2.15453</td><td style = \"text-align: right;\">1.04464</td><td style = \"text-align: right;\">-0.724283</td><td style = \"text-align: right;\">-1.32533</td><td style = \"text-align: right;\">-1.52045</td><td style = \"text-align: right;\">-0.922602</td><td style = \"text-align: right;\">1.71668</td></tr><tr><td class = \"rowNumber\" style = \"font-weight: bold; text-align: right;\">7</td><td style = \"text-align: right;\">2</td><td style = \"text-align: right;\">1</td><td style = \"text-align: right;\">0.0078</td><td style = \"text-align: right;\">0.000566978</td><td style = \"text-align: right;\">0.470776</td><td style = \"text-align: right;\">-5.87798</td><td style = \"text-align: right;\">-4.01759</td><td style = \"text-align: right;\">-5.99733</td><td style = \"text-align: right;\">-1.18887</td><td style = \"text-align: right;\">-1.8697</td><td style = \"text-align: right;\">0.298796</td></tr><tr><td class = \"rowNumber\" style = \"font-weight: bold; text-align: right;\">8</td><td style = \"text-align: right;\">2</td><td style = \"text-align: right;\">2</td><td style = \"text-align: right;\">0.0296</td><td style = \"text-align: right;\">0.000313199</td><td style = \"text-align: right;\">-0.153134</td><td style = \"text-align: right;\">-6.24899</td><td style = \"text-align: right;\">-4.75995</td><td style = \"text-align: right;\">-5.71777</td><td style = \"text-align: right;\">-1.21848</td><td style = \"text-align: right;\">-3.64392</td><td style = \"text-align: right;\">-1.61345</td></tr><tr><td class = \"rowNumber\" style = \"font-weight: bold; text-align: right;\">9</td><td style = \"text-align: right;\">2</td><td style = \"text-align: right;\">3</td><td style = \"text-align: right;\">0.1604</td><td style = \"text-align: right;\">0.724284</td><td style = \"text-align: right;\">-2.18476</td><td style = \"text-align: right;\">0.851501</td><td style = \"text-align: right;\">0.426509</td><td style = \"text-align: right;\">1.73536</td><td style = \"text-align: right;\">-0.512458</td><td style = \"text-align: right;\">-1.09451</td><td style = \"text-align: right;\">-0.576743</td></tr><tr><td class = \"rowNumber\" style = \"font-weight: bold; text-align: right;\">10</td><td style = \"text-align: right;\">2</td><td style = \"text-align: right;\">4</td><td style = \"text-align: right;\">0.0037</td><td style = \"text-align: right;\">2.62061</td><td style = \"text-align: right;\">-0.743471</td><td style = \"text-align: right;\">1.74984</td><td style = \"text-align: right;\">2.34954</td><td style = \"text-align: right;\">-0.404193</td><td style = \"text-align: right;\">0.423281</td><td style = \"text-align: right;\">-0.860983</td><td style = \"text-align: right;\">0.153472</td></tr><tr><td class = \"rowNumber\" style = \"font-weight: bold; text-align: right;\">11</td><td style = \"text-align: right;\">2</td><td style = \"text-align: right;\">5</td><td style = \"text-align: right;\">0.0242</td><td style = \"text-align: right;\">2.23036</td><td style = \"text-align: right;\">1.56558</td><td style = \"text-align: right;\">0.0580351</td><td style = \"text-align: right;\">-1.19704</td><td style = \"text-align: right;\">1.10368</td><td style = \"text-align: right;\">-0.0427852</td><td style = \"text-align: right;\">0.265751</td><td style = \"text-align: right;\">-1.58688</td></tr><tr><td class = \"rowNumber\" style = \"font-weight: bold; text-align: right;\">12</td><td style = \"text-align: right;\">2</td><td style = \"text-align: right;\">6</td><td style = \"text-align: right;\">0.3751</td><td style = \"text-align: right;\">2.59582</td><td style = \"text-align: right;\">3.14475</td><td style = \"text-align: right;\">-0.181291</td><td style = \"text-align: right;\">-0.372407</td><td style = \"text-align: right;\">0.763489</td><td style = \"text-align: right;\">-0.856581</td><td style = \"text-align: right;\">0.520254</td><td style = \"text-align: right;\">0.125024</td></tr><tr><td class = \"rowNumber\" style = \"font-weight: bold; text-align: right;\">13</td><td style = \"text-align: right;\">3</td><td style = \"text-align: right;\">1</td><td style = \"text-align: right;\">0.0448</td><td style = \"text-align: right;\">0.000570045</td><td style = \"text-align: right;\">-0.0839182</td><td style = \"text-align: right;\">-6.18583</td><td style = \"text-align: right;\">-4.48453</td><td style = \"text-align: right;\">-5.34863</td><td style = \"text-align: right;\">-4.1714</td><td style = \"text-align: right;\">-2.46034</td><td style = \"text-align: right;\">-0.186484</td></tr><tr><td style = \"text-align: right;\">&vellip;</td><td style = \"text-align: right;\">&vellip;</td><td style = \"text-align: right;\">&vellip;</td><td style = \"text-align: right;\">&vellip;</td><td style = \"text-align: right;\">&vellip;</td><td style = \"text-align: right;\">&vellip;</td><td style = \"text-align: right;\">&vellip;</td><td style = \"text-align: right;\">&vellip;</td><td style = \"text-align: right;\">&vellip;</td><td style = \"text-align: right;\">&vellip;</td><td style = \"text-align: right;\">&vellip;</td><td style = \"text-align: right;\">&vellip;</td></tr><tr><td class = \"rowNumber\" style = \"font-weight: bold; text-align: right;\">589</td><td style = \"text-align: right;\">99</td><td style = \"text-align: right;\">1</td><td style = \"text-align: right;\">0.0328</td><td style = \"text-align: right;\">0.00176505</td><td style = \"text-align: right;\">-0.868903</td><td style = \"text-align: right;\">-4.5633</td><td style = \"text-align: right;\">-4.7652</td><td style = \"text-align: right;\">-5.81981</td><td style = \"text-align: right;\">-2.37022</td><td style = \"text-align: right;\">-0.588331</td><td style = \"text-align: right;\">-0.538663</td></tr><tr><td class = \"rowNumber\" style = \"font-weight: bold; text-align: right;\">590</td><td style = \"text-align: right;\">99</td><td style = \"text-align: right;\">2</td><td style = \"text-align: right;\">0.2685</td><td style = \"text-align: right;\">0.00603755</td><td style = \"text-align: right;\">-1.41121</td><td style = \"text-align: right;\">-3.72946</td><td style = \"text-align: right;\">-3.76491</td><td style = \"text-align: right;\">-3.76198</td><td style = \"text-align: right;\">-0.42617</td><td style = \"text-align: right;\">-1.84498</td><td style = \"text-align: right;\">1.54684</td></tr><tr><td class = \"rowNumber\" style = \"font-weight: bold; text-align: right;\">591</td><td style = \"text-align: right;\">99</td><td style = \"text-align: right;\">3</td><td style = \"text-align: right;\">0.007</td><td style = \"text-align: right;\">1.06565</td><td style = \"text-align: right;\">0.434155</td><td style = \"text-align: right;\">-0.33291</td><td style = \"text-align: right;\">0.874598</td><td style = \"text-align: right;\">0.702844</td><td style = \"text-align: right;\">-0.609771</td><td style = \"text-align: right;\">0.48507</td><td style = \"text-align: right;\">-0.450002</td></tr><tr><td class = \"rowNumber\" style = \"font-weight: bold; text-align: right;\">592</td><td style = \"text-align: right;\">99</td><td style = \"text-align: right;\">4</td><td style = \"text-align: right;\">0.1248</td><td style = \"text-align: right;\">1.78708</td><td style = \"text-align: right;\">1.24069</td><td style = \"text-align: right;\">0.514564</td><td style = \"text-align: right;\">-0.272023</td><td style = \"text-align: right;\">0.775162</td><td style = \"text-align: right;\">0.85882</td><td style = \"text-align: right;\">0.563848</td><td style = \"text-align: right;\">0.0818515</td></tr><tr><td class = \"rowNumber\" style = \"font-weight: bold; text-align: right;\">593</td><td style = \"text-align: right;\">99</td><td style = \"text-align: right;\">5</td><td style = \"text-align: right;\">0.1082</td><td style = \"text-align: right;\">0.90998</td><td style = \"text-align: right;\">1.22385</td><td style = \"text-align: right;\">-0.569953</td><td style = \"text-align: right;\">0.501521</td><td style = \"text-align: right;\">-0.755502</td><td style = \"text-align: right;\">-0.875039</td><td style = \"text-align: right;\">-1.58743</td><td style = \"text-align: right;\">1.34854</td></tr><tr><td class = \"rowNumber\" style = \"font-weight: bold; text-align: right;\">594</td><td style = \"text-align: right;\">99</td><td style = \"text-align: right;\">6</td><td style = \"text-align: right;\">0.1721</td><td style = \"text-align: right;\">0.360856</td><td style = \"text-align: right;\">2.02607</td><td style = \"text-align: right;\">-1.07935</td><td style = \"text-align: right;\">-0.932334</td><td style = \"text-align: right;\">-1.27445</td><td style = \"text-align: right;\">0.335139</td><td style = \"text-align: right;\">1.23879</td><td style = \"text-align: right;\">-1.41791</td></tr><tr><td class = \"rowNumber\" style = \"font-weight: bold; text-align: right;\">595</td><td style = \"text-align: right;\">100</td><td style = \"text-align: right;\">1</td><td style = \"text-align: right;\">0.0294</td><td style = \"text-align: right;\">0.000658652</td><td style = \"text-align: right;\">-0.0541592</td><td style = \"text-align: right;\">-5.39031</td><td style = \"text-align: right;\">-5.40159</td><td style = \"text-align: right;\">-5.15114</td><td style = \"text-align: right;\">-1.03258</td><td style = \"text-align: right;\">-3.42114</td><td style = \"text-align: right;\">-1.16052</td></tr><tr><td class = \"rowNumber\" style = \"font-weight: bold; text-align: right;\">596</td><td style = \"text-align: right;\">100</td><td style = \"text-align: right;\">2</td><td style = \"text-align: right;\">0.09</td><td style = \"text-align: right;\">0.0013023</td><td style = \"text-align: right;\">-0.240857</td><td style = \"text-align: right;\">-5.12366</td><td style = \"text-align: right;\">-4.52168</td><td style = \"text-align: right;\">-5.94662</td><td style = \"text-align: right;\">-2.67207</td><td style = \"text-align: right;\">-2.44171</td><td style = \"text-align: right;\">0.872459</td></tr><tr><td class = \"rowNumber\" style = \"font-weight: bold; text-align: right;\">597</td><td style = \"text-align: right;\">100</td><td style = \"text-align: right;\">3</td><td style = \"text-align: right;\">0.0008</td><td style = \"text-align: right;\">2.98768</td><td style = \"text-align: right;\">-0.17263</td><td style = \"text-align: right;\">1.53055</td><td style = \"text-align: right;\">1.19014</td><td style = \"text-align: right;\">-0.999596</td><td style = \"text-align: right;\">-1.67391</td><td style = \"text-align: right;\">0.313007</td><td style = \"text-align: right;\">1.03724</td></tr><tr><td class = \"rowNumber\" style = \"font-weight: bold; text-align: right;\">598</td><td style = \"text-align: right;\">100</td><td style = \"text-align: right;\">4</td><td style = \"text-align: right;\">0.0007</td><td style = \"text-align: right;\">3.08202</td><td style = \"text-align: right;\">-0.0617626</td><td style = \"text-align: right;\">1.6887</td><td style = \"text-align: right;\">-0.331869</td><td style = \"text-align: right;\">0.250214</td><td style = \"text-align: right;\">0.699356</td><td style = \"text-align: right;\">0.445912</td><td style = \"text-align: right;\">-0.737721</td></tr><tr><td class = \"rowNumber\" style = \"font-weight: bold; text-align: right;\">599</td><td style = \"text-align: right;\">100</td><td style = \"text-align: right;\">5</td><td style = \"text-align: right;\">0.0364</td><td style = \"text-align: right;\">1.8261</td><td style = \"text-align: right;\">1.27645</td><td style = \"text-align: right;\">0.121505</td><td style = \"text-align: right;\">0.547611</td><td style = \"text-align: right;\">-1.49</td><td style = \"text-align: right;\">-0.141559</td><td style = \"text-align: right;\">-0.220383</td><td style = \"text-align: right;\">0.643245</td></tr><tr><td class = \"rowNumber\" style = \"font-weight: bold; text-align: right;\">600</td><td style = \"text-align: right;\">100</td><td style = \"text-align: right;\">6</td><td style = \"text-align: right;\">0.3421</td><td style = \"text-align: right;\">10.1681</td><td style = \"text-align: right;\">2.3265</td><td style = \"text-align: right;\">0.900583</td><td style = \"text-align: right;\">1.74057</td><td style = \"text-align: right;\">-0.720216</td><td style = \"text-align: right;\">-0.519388</td><td style = \"text-align: right;\">0.218609</td><td style = \"text-align: right;\">-0.0854152</td></tr></tbody></table></div>"
      ],
      "text/latex": [
       "\\begin{tabular}{r|ccccccccc}\n",
       "\t& market & choice & shares & p & x & z1 & z2 & z3 & \\\\\n",
       "\t\\hline\n",
       "\t& Int64 & Int64 & Float64 & Float64 & Float64 & Float64 & Float64 & Float64 & \\\\\n",
       "\t\\hline\n",
       "\t1 & 1 & 1 & 0.0099 & 0.000277852 & -0.210973 & -6.36336 & -5.50945 & -5.37102 & $\\dots$ \\\\\n",
       "\t2 & 1 & 2 & 0.2085 & 0.000457065 & -1.55758 & -5.19816 & -4.39604 & -4.26527 & $\\dots$ \\\\\n",
       "\t3 & 1 & 3 & 0.009 & 1.01684 & -0.799984 & -0.0408355 & 0.835758 & -0.520122 & $\\dots$ \\\\\n",
       "\t4 & 1 & 4 & 0.0348 & 0.109472 & -1.33837 & -1.53891 & -1.1727 & 0.189448 & $\\dots$ \\\\\n",
       "\t5 & 1 & 5 & 0.3661 & 5.38779 & 3.31633 & 0.758555 & -0.70047 & 0.723864 & $\\dots$ \\\\\n",
       "\t6 & 1 & 6 & 0.0231 & 4.18812 & 2.15453 & 1.04464 & -0.724283 & -1.32533 & $\\dots$ \\\\\n",
       "\t7 & 2 & 1 & 0.0078 & 0.000566978 & 0.470776 & -5.87798 & -4.01759 & -5.99733 & $\\dots$ \\\\\n",
       "\t8 & 2 & 2 & 0.0296 & 0.000313199 & -0.153134 & -6.24899 & -4.75995 & -5.71777 & $\\dots$ \\\\\n",
       "\t9 & 2 & 3 & 0.1604 & 0.724284 & -2.18476 & 0.851501 & 0.426509 & 1.73536 & $\\dots$ \\\\\n",
       "\t10 & 2 & 4 & 0.0037 & 2.62061 & -0.743471 & 1.74984 & 2.34954 & -0.404193 & $\\dots$ \\\\\n",
       "\t11 & 2 & 5 & 0.0242 & 2.23036 & 1.56558 & 0.0580351 & -1.19704 & 1.10368 & $\\dots$ \\\\\n",
       "\t12 & 2 & 6 & 0.3751 & 2.59582 & 3.14475 & -0.181291 & -0.372407 & 0.763489 & $\\dots$ \\\\\n",
       "\t13 & 3 & 1 & 0.0448 & 0.000570045 & -0.0839182 & -6.18583 & -4.48453 & -5.34863 & $\\dots$ \\\\\n",
       "\t14 & 3 & 2 & 0.015 & 0.00209803 & 0.394334 & -4.87627 & -2.3695 & -5.23967 & $\\dots$ \\\\\n",
       "\t15 & 3 & 3 & 0.0123 & 0.357973 & -0.478595 & -0.0839516 & -0.547575 & 0.127608 & $\\dots$ \\\\\n",
       "\t16 & 3 & 4 & 0.0048 & 1.15982 & -0.304705 & 0.487758 & 0.00712665 & 0.50518 & $\\dots$ \\\\\n",
       "\t17 & 3 & 5 & 0.2604 & 5.33793 & 0.276072 & 1.50257 & 1.52687 & 1.33209 & $\\dots$ \\\\\n",
       "\t18 & 3 & 6 & 0.0603 & 2.00802 & 0.884968 & 1.25855 & -1.61435 & -0.736985 & $\\dots$ \\\\\n",
       "\t19 & 4 & 1 & 0.1933 & 0.000749996 & -1.11659 & -5.60435 & -4.06299 & -5.07466 & $\\dots$ \\\\\n",
       "\t20 & 4 & 2 & 0.0867 & 0.00412467 & 1.21433 & -4.89094 & -5.84621 & -3.72625 & $\\dots$ \\\\\n",
       "\t21 & 4 & 3 & 0.0058 & 0.735103 & -0.143263 & -0.142533 & -0.356205 & -1.1186 & $\\dots$ \\\\\n",
       "\t22 & 4 & 4 & 0.1001 & 6.3165 & 0.206286 & 1.34483 & -0.175532 & 0.615465 & $\\dots$ \\\\\n",
       "\t23 & 4 & 5 & 0.0232 & 1.87774 & 1.83095 & -0.892453 & 0.40983 & 0.948185 & $\\dots$ \\\\\n",
       "\t24 & 4 & 6 & 0.2882 & 3.05322 & 2.44176 & -1.5134 & 1.07582 & 0.118236 & $\\dots$ \\\\\n",
       "\t25 & 5 & 1 & 0.1713 & 0.00515272 & 0.270833 & -4.52924 & -4.67022 & -5.939 & $\\dots$ \\\\\n",
       "\t26 & 5 & 2 & 0.0524 & 0.000531018 & -0.172235 & -6.12139 & -5.16366 & -6.14685 & $\\dots$ \\\\\n",
       "\t27 & 5 & 3 & 0.1839 & 3.04207 & 1.8037 & 0.595629 & -1.08609 & -0.269709 & $\\dots$ \\\\\n",
       "\t28 & 5 & 4 & 0.0036 & 0.693983 & 0.193692 & -0.800366 & 0.995417 & 1.83846 & $\\dots$ \\\\\n",
       "\t29 & 5 & 5 & 0.157 & 3.50998 & 1.62421 & 0.424615 & -0.593332 & 1.25101 & $\\dots$ \\\\\n",
       "\t30 & 5 & 6 & 0.0343 & 1.26806 & 1.63298 & -0.436649 & -0.324925 & 0.763721 & $\\dots$ \\\\\n",
       "\t$\\dots$ & $\\dots$ & $\\dots$ & $\\dots$ & $\\dots$ & $\\dots$ & $\\dots$ & $\\dots$ & $\\dots$ &  \\\\\n",
       "\\end{tabular}\n"
      ],
      "text/plain": [
       "\u001b[1m600×11 DataFrame\u001b[0m\n",
       "\u001b[1m Row \u001b[0m│\u001b[1m market \u001b[0m\u001b[1m choice \u001b[0m\u001b[1m shares  \u001b[0m\u001b[1m p            \u001b[0m\u001b[1m x          \u001b[0m\u001b[1m z1         \u001b[0m\u001b[1m z2      \u001b[0m ⋯\n",
       "     │\u001b[90m Int64  \u001b[0m\u001b[90m Int64  \u001b[0m\u001b[90m Float64 \u001b[0m\u001b[90m Float64      \u001b[0m\u001b[90m Float64    \u001b[0m\u001b[90m Float64    \u001b[0m\u001b[90m Float64 \u001b[0m ⋯\n",
       "─────┼──────────────────────────────────────────────────────────────────────────\n",
       "   1 │      1       1   0.0099   0.000277852  -0.210973   -6.36336    -5.50945 ⋯\n",
       "   2 │      1       2   0.2085   0.000457065  -1.55758    -5.19816    -4.39604\n",
       "   3 │      1       3   0.009    1.01684      -0.799984   -0.0408355   0.83575\n",
       "   4 │      1       4   0.0348   0.109472     -1.33837    -1.53891    -1.1727\n",
       "   5 │      1       5   0.3661   5.38779       3.31633     0.758555   -0.70047 ⋯\n",
       "   6 │      1       6   0.0231   4.18812       2.15453     1.04464    -0.72428\n",
       "   7 │      2       1   0.0078   0.000566978   0.470776   -5.87798    -4.01759\n",
       "   8 │      2       2   0.0296   0.000313199  -0.153134   -6.24899    -4.75995\n",
       "   9 │      2       3   0.1604   0.724284     -2.18476     0.851501    0.42650 ⋯\n",
       "  10 │      2       4   0.0037   2.62061      -0.743471    1.74984     2.34954\n",
       "  11 │      2       5   0.0242   2.23036       1.56558     0.0580351  -1.19704\n",
       "  ⋮  │   ⋮       ⋮        ⋮          ⋮            ⋮           ⋮           ⋮    ⋱\n",
       " 591 │     99       3   0.007    1.06565       0.434155   -0.33291     0.87459\n",
       " 592 │     99       4   0.1248   1.78708       1.24069     0.514564   -0.27202 ⋯\n",
       " 593 │     99       5   0.1082   0.90998       1.22385    -0.569953    0.50152\n",
       " 594 │     99       6   0.1721   0.360856      2.02607    -1.07935    -0.93233\n",
       " 595 │    100       1   0.0294   0.000658652  -0.0541592  -5.39031    -5.40159\n",
       " 596 │    100       2   0.09     0.0013023    -0.240857   -5.12366    -4.52168 ⋯\n",
       " 597 │    100       3   0.0008   2.98768      -0.17263     1.53055     1.19014\n",
       " 598 │    100       4   0.0007   3.08202      -0.0617626   1.6887     -0.33186\n",
       " 599 │    100       5   0.0364   1.8261        1.27645     0.121505    0.54761\n",
       " 600 │    100       6   0.3421  10.1681        2.3265      0.900583    1.74057 ⋯\n",
       "\u001b[36m                                                  5 columns and 579 rows omitted\u001b[0m"
      ]
     },
     "execution_count": 34,
     "metadata": {},
     "output_type": "execute_result"
    }
   ],
   "source": [
    "df = DataFrame(CSV.File(\"../data/ps1_ex4.csv\"));\n",
    "x = Array(df[!,[:x, :p]]);\n",
    "\n",
    "Γ = ones(2,2)\n",
    "Γ[1,2] = 0\n",
    "\n",
    "δ = ones(size(df, 1));\n",
    "\n",
    "df"
   ]
  },
  {
   "cell_type": "code",
   "execution_count": null,
   "id": "c4ccb19b",
   "metadata": {},
   "outputs": [],
   "source": [
    "# simulate individual taste shocks from N(μ,Σ)\n",
    "draw_sim = function(μ, Σ, N) # return N x L matrix\n",
    "    # draw shocks\n",
    "    ν = transpose(rand(MvNormal(μ, Σ), N))\n",
    "    \n",
    "    return ν\n",
    "end"
   ]
  },
  {
   "cell_type": "code",
   "execution_count": 30,
   "id": "35172b2f",
   "metadata": {},
   "outputs": [
    {
     "data": {
      "text/plain": [
       "100×2 transpose(::Matrix{Float64}) with eltype Float64:\n",
       " -2.22392    -1.68747\n",
       "  0.497658   -0.587306\n",
       " -1.22048    -1.26904\n",
       "  2.9424      1.84898\n",
       " -0.414499   -1.36067\n",
       " -1.40456    -0.305403\n",
       "  0.370453   -0.93328\n",
       "  0.165948    0.902509\n",
       "  0.0452692  -1.94551\n",
       " -0.805055   -1.2845\n",
       "  0.472479    1.47959\n",
       "  0.0749692  -0.205567\n",
       "  0.171761   -0.0647411\n",
       "  ⋮          \n",
       " -0.145894   -0.693991\n",
       " -0.264349    0.251767\n",
       " -0.662192    0.974067\n",
       " -2.10149     0.64659\n",
       "  0.124488    2.54002\n",
       " -1.0981     -0.876324\n",
       "  1.51523     0.245813\n",
       " -1.10618     1.63682\n",
       "  0.209489   -0.0493204\n",
       "  1.19258    -0.436097\n",
       " -0.288937    0.869744\n",
       "  1.06661     0.768633"
      ]
     },
     "execution_count": 30,
     "metadata": {},
     "output_type": "execute_result"
    }
   ],
   "source": [
    "draw_sim([0;0], [1 0;0 1], 100)"
   ]
  },
  {
   "cell_type": "markdown",
   "id": "d8406df5",
   "metadata": {},
   "source": [
    "# Part 1: BLP"
   ]
  },
  {
   "cell_type": "markdown",
   "id": "66a506d6",
   "metadata": {},
   "source": [
    "## Inner loop\n",
    "`get_shares` calculates the shares of each product in a particular market $t$. $\\delta$ should be a vector of length $J$; $x$ should be a vector of length $J$; and $v$ should be a vector of length $L$.\n",
    "\n",
    "`delta_contraction` iterates the $\\delta_{jt}$ in a particular market $t$. $\\delta$ should be a vector of length $J$; $x$ should be a vector of characteristics with length $J$; $s$ should be a vector of observed shares with length $J$; $v$ should be a vector of length $L$. \n",
    "\n",
    "`market_iterate` performs the contraction over each $t$ markets, it recoves $\\delta_{jt}$, which is a vector of length $J \\times T$."
   ]
  },
  {
   "cell_type": "code",
   "execution_count": null,
   "id": "4ca2d7bc",
   "metadata": {},
   "outputs": [],
   "source": [
    "# get shares in a market given some fixed gamma and delta\n",
    "get_shares = function(δ, Γ, x, v)\n",
    "    # we want to get share_{jt} using simulated values of $v_i$ (drawn above)\n",
    "    # shares should be vector of length J\n",
    "    \n",
    "    numerator = exp.(δ + x' * Γ * v)\n",
    "    denominator = sum(numerator) + 1\n",
    "    shares = sum(numerator ./ denominator) / size(v)[1]\n",
    "    \n",
    "    return shares\n",
    "end\n",
    "\n",
    "# inner loop: contraction to find δ\n",
    "delta_contraction = function(δ₀, Γ, s, x, v, tol = 1e-12, max_iter = nothing)\n",
    "\n",
    "    # here δ is a vector of length J\n",
    "    δ = δ₀\n",
    "    err = 1000\n",
    "    n = 0\n",
    "    \n",
    "    while err < tol && maxed_iter\n",
    "        δ_old = δ\n",
    "        \n",
    "        # update delta\n",
    "        δ = δ_old + log.(s) - log.(get_shares(δ_old, Γ, x, v))\n",
    "        \n",
    "        # difference \n",
    "        err = maximum(abs.(δ - δ_old)) \n",
    "        \n",
    "        # (optional) max iterations block\n",
    "        n += 1\n",
    "        if max_iter !== nothing\n",
    "            maxed_iter = (n <= max_iter)\n",
    "        end\n",
    "    end\n",
    "    \n",
    "    return δ\n",
    "end\n",
    "\n",
    "# iterate over each market\n",
    "market_iterate = function(initial, Γ, s_t, x_t, v, tol = 1e-12, max_iter = nothing)\n",
    "   \n",
    "    δ = []\n",
    "    for t in 1:size(s_t)[1]\n",
    "        s = s_t[t]\n",
    "        x = x_t[t]\n",
    "        δ₀ = ones(size(s)[1])\n",
    "        push!(δ, delta_contraction(δ₀, Γ, s, x, v, tol, max_iter) ) \n",
    "    end\n",
    "end"
   ]
  },
  {
   "cell_type": "markdown",
   "id": "9f5c2da6",
   "metadata": {},
   "source": [
    "## Outer loop\n",
    "`residuals` does IV-GMM using the provided weighting matrix. z_jt should be a matrix of $Z$ excluded and included intruments of size $TJ \\times Z$. Returns linear parameters (vector of length $2$) and $\\xi_{jt}$ residuals (vector of length $J \\times T$)\n",
    "\n",
    "`gmm_objective` Reads in $TJ$-length vector $x$_jt and $TJ \\times Z$ matrix $z$_jt. Calculates sample moments (size of instrument vector, $Z$) and optimal weighting matrix ($Z \\times Z$). Returns scalar objective and matrix."
   ]
  },
  {
   "cell_type": "code",
   "execution_count": null,
   "id": "ba2d30e1",
   "metadata": {},
   "outputs": [],
   "source": [
    "# returns residuals for a given δ, estimates linear parameters given instruments\n",
    "residuals = function(δ_jt, x_jt, z_jt, W = nothing)\n",
    "    # if weighting matrix not supplied\n",
    "    if W === nothing\n",
    "        w = inv(z_jt' * z_t)\n",
    "    end\n",
    "    \n",
    "    # iv-gmm\n",
    "    θ₁ = inv(x_jt' * z_jt * W * z_jt' * x_jt) * (x_jt' * z_jt * W * z_jt' * δ_jt)\n",
    "    ξ_jt = δ_jt - x_jt * θ_1\n",
    "    \n",
    "    return ξ_jt, θ₁ \n",
    "    \n",
    "end\n",
    "\n",
    "# calculates gmm objective for outer loop\n",
    "gmm_objective = function(ξ_jt, z_jt)   \n",
    "    # empirical moments, weighting matrix\n",
    "    g = (ξ_jt' * z_jt) / size(ξ_jt)[1] \n",
    "    W = inv((z_jt .* ξ_jt.^2 )' * z_jt) * size(ξ_jt)[1]\n",
    "    \n",
    "    # gmm objective\n",
    "    G = g * W * g'\n",
    "    \n",
    "    return G, W\n",
    "end\n",
    "\n",
    "# performs outer loop, keeps track of weighting matrix\n",
    "outer_loop = function!(θ₂, W = nothing, s_t, x_t, z_jt, v, tol = 1e-12, max_iter = nothing)\n",
    "    # Pass through guess\n",
    "    Γ = [θ₂[1] 0 ; θ₂[2] θ₂[3]] # lower triangular\n",
    "    \n",
    "    # Perform inner loop\n",
    "    δ = market_iterate(initial, Γ, initial, Γ, s_t, x_t, v, tol = 1e-12, max_iter = nothing) # what is initial??\n",
    "    \n",
    "    # convert to JT x 1 (stacked J x 1 vectors for each t)\n",
    "    δ_jt = vec(reduce(hcat,δ)') \n",
    "    x_jt = vec(x_t')\n",
    "    \n",
    "    # intermediate step\n",
    "    ξ_jt, θ₁ = residuals(δ_jt, x_jt, z_jt, W)\n",
    "    \n",
    "    # gmm step\n",
    "    G, W = gmm_objective(ξ_jt, z_jt)\n",
    "    \n",
    "    return G\n",
    "end"
   ]
  },
  {
   "cell_type": "code",
   "execution_count": 47,
   "id": "5fa65ead",
   "metadata": {
    "scrolled": true
   },
   "outputs": [
    {
     "data": {
      "text/plain": [
       "600×1 Matrix{Float64}:\n",
       "     57.00582229965489\n",
       "    233.16347456628938\n",
       "     62.23148664334593\n",
       "    139.0192307176588\n",
       "      1.9572010631035707e13\n",
       "      7.5191040125367e9\n",
       "     64.61729047613422\n",
       "     55.921108756838976\n",
       "    176.30447614723312\n",
       "   4600.2410653501875\n",
       "      1.1154570965762811e6\n",
       "      4.802172137882022e8\n",
       "     54.97046030264811\n",
       "      ⋮\n",
       "     92.05096050484761\n",
       "    183.74617118856838\n",
       "    707.4496820917077\n",
       "  87825.27102073307\n",
       "   3984.880690599852\n",
       "   6384.160433719341\n",
       "     54.68272891024609\n",
       "     57.629424848527094\n",
       "  89979.25568635199\n",
       " 175360.58854399397\n",
       " 112097.32688149536\n",
       "      3.2869182094897693e19"
      ]
     },
     "execution_count": 47,
     "metadata": {},
     "output_type": "execute_result"
    }
   ],
   "source": [
    "summed_jt_i = exp.(δ .+ x * Γ * ν') # this returns a 600 (jt) by 20 (i) \n",
    "sum(summed_jt_i, dims=2) # this sums across individuals "
   ]
  },
  {
   "cell_type": "code",
   "execution_count": 3,
   "id": "92e7fa8b",
   "metadata": {},
   "outputs": [
    {
     "ename": "LoadError",
     "evalue": "UndefVarError: summed_jt_i not defined",
     "output_type": "error",
     "traceback": [
      "UndefVarError: summed_jt_i not defined",
      "",
      "Stacktrace:",
      " [1] top-level scope",
      "   @ In[3]:1",
      " [2] eval",
      "   @ ./boot.jl:368 [inlined]",
      " [3] include_string(mapexpr::typeof(REPL.softscope), mod::Module, code::String, filename::String)",
      "   @ Base ./loading.jl:1428"
     ]
    }
   ],
   "source": [
    "sum(summed_jt_i, dims=2) # this should sum across goods/markets"
   ]
  },
  {
   "cell_type": "code",
   "execution_count": 108,
   "id": "a1146f46",
   "metadata": {},
   "outputs": [
    {
     "data": {
      "text/plain": [
       "12-element reshape(adjoint(::Matrix{Int64}), 12) with eltype Int64:\n",
       " 1\n",
       " 2\n",
       " 7\n",
       " 5\n",
       " 3\n",
       " 9\n",
       " 1\n",
       " 0\n",
       " 5\n",
       " 2\n",
       " 4\n",
       " 6"
      ]
     },
     "execution_count": 108,
     "metadata": {},
     "output_type": "execute_result"
    }
   ],
   "source": [
    "z = []\n",
    "push!(z,[1, 5, 1, 2])\n",
    "push!(z,[2, 3, 0, 4])\n",
    "push!(z,[7, 9, 5, 6])\n",
    "\n",
    "vec(reduce(hcat,z)')"
   ]
  }
 ],
 "metadata": {
  "kernelspec": {
   "display_name": "Julia 1.7.2",
   "language": "julia",
   "name": "julia-1.7"
  },
  "language_info": {
   "file_extension": ".jl",
   "mimetype": "application/julia",
   "name": "julia",
   "version": "1.7.2"
  }
 },
 "nbformat": 4,
 "nbformat_minor": 5
}
