{
 "cells": [
  {
   "cell_type": "markdown",
   "id": "401dd710",
   "metadata": {},
   "source": [
    "# Problem 4 : Estimation - BLP"
   ]
  },
  {
   "cell_type": "code",
   "execution_count": 27,
   "id": "c34dc7a4",
   "metadata": {},
   "outputs": [],
   "source": [
    "using Plots, DataFrames, CSV, GLM\n",
    "using Optim, Distributions, Random, ForwardDiff\n",
    "using LinearAlgebra,StatsFuns\n",
    "\n",
    "Random.seed!(6789998212);"
   ]
  },
  {
   "cell_type": "code",
   "execution_count": 28,
   "id": "996355f3",
   "metadata": {
    "scrolled": true
   },
   "outputs": [],
   "source": [
    "# load in csv\n",
    "df = DataFrame(CSV.File(\"../data/ps1_ex4.csv\"));"
   ]
  },
  {
   "cell_type": "code",
   "execution_count": 29,
   "id": "377b6cfa",
   "metadata": {},
   "outputs": [
    {
     "data": {
      "text/plain": [
       "#11 (generic function with 1 method)"
      ]
     },
     "execution_count": 29,
     "metadata": {},
     "output_type": "execute_result"
    }
   ],
   "source": [
    "# simulate individual taste shocks from N(μ,Σ)\n",
    "draw_sim = function(μ, Σ, N) # return N x L matrix\n",
    "    # draw shocks\n",
    "    v = rand(MvNormal(μ, Σ), N)\n",
    "    \n",
    "    return v\n",
    "end"
   ]
  },
  {
   "cell_type": "code",
   "execution_count": 30,
   "id": "ef158906",
   "metadata": {},
   "outputs": [
    {
     "data": {
      "text/plain": [
       "2×50 Matrix{Float64}:\n",
       " 0.123561  -0.201126  0.780628  -0.0984454  …  -1.41657  -0.895814  -2.1186\n",
       " 0.805005  -0.780405  0.901409  -2.97667        1.01271  -0.746068  -0.440065"
      ]
     },
     "execution_count": 30,
     "metadata": {},
     "output_type": "execute_result"
    }
   ],
   "source": [
    "# get data\n",
    "n_markets = 5\n",
    "n_sim = 50\n",
    "\n",
    "x_t = []\n",
    "for t in 1:n_markets \n",
    "   push!(x_t, Array(df[df[!,:market].==t, [:p, :x]]))\n",
    "end\n",
    "\n",
    "s_t = []\n",
    "for t in 1:n_markets \n",
    "    push!(s_t, Array(df[df[!,:market].==t, [:shares]]))\n",
    "end\n",
    "\n",
    "z_t = []\n",
    "for t in 1:n_markets \n",
    "    push!(z_t, Array(df[df[!,:market].==t, [:z1, :z2, :z3, :z4, :z5, :z6, :x]]))\n",
    "end\n",
    "\n",
    "x_jt = Array(df[df[!,:market] .<= n_markets,[:p, :x]]);\n",
    "\n",
    "z_jt = Array(df[df[!,:market] .<= n_markets,[:z1, :z2, :z3, :z4, :z5, :z6, :x]]);\n",
    "\n",
    "v = draw_sim([0;0], [1 0;0 1], n_sim)"
   ]
  },
  {
   "cell_type": "markdown",
   "id": "31c47db7",
   "metadata": {},
   "source": [
    "# Part 1: BLP"
   ]
  },
  {
   "cell_type": "markdown",
   "id": "d4eeab7e",
   "metadata": {},
   "source": [
    "## Inner loop\n",
    "`get_shares` calculates the shares of each product in a particular market $t$. $\\delta$ should be a vector of length $J$; $x$ should be a matrix of size $J \\times 2$; and $v$ should be a vector of length $L$.\n",
    "\n",
    "`delta_contraction` iterates the $\\delta_{jt}$ in a particular market $t$. $\\delta$ should be a vector of length $J$; $x$ should be a vector of characteristics with length $J$; $s$ should be a vector of observed shares with length $J$; $v$ should be a vector of length $L$. \n",
    "\n",
    "`market_iterate` performs the contraction over each $t$ markets, it recoves $\\delta_{jt}$, which is a vector of length $J \\times T$."
   ]
  },
  {
   "cell_type": "code",
   "execution_count": 7,
   "id": "6f4b4686",
   "metadata": {},
   "outputs": [
    {
     "data": {
      "text/plain": [
       "#7 (generic function with 3 methods)"
      ]
     },
     "execution_count": 7,
     "metadata": {},
     "output_type": "execute_result"
    }
   ],
   "source": [
    "# get shares in a market given some fixed gamma and delta\n",
    "get_shares = function(δ, Γ, x, v)\n",
    "    # we want to get share_{jt} using simulated values of $v_i$ (drawn above)\n",
    "    # shares should be vector of length J\n",
    "    numerator = exp.(δ .+ x * Γ * v)\n",
    "    adj = maximum(numerator, dims = 1)\n",
    "    denominator = sum((numerator ./ adj), dims = 1) .+ (1 ./ adj)\n",
    "    shares = sum((numerator ./ adj) ./ denominator, dims = 2) ./ size(v)[2]\n",
    "    \n",
    "    return shares\n",
    "end\n",
    "\n",
    "# inner loop: contraction to find δ\n",
    "delta_contraction = function(δ₀, Γ, s, x, v, tol = 1e-12, max_iter = nothing)\n",
    "\n",
    "    # here δ is a vector of length J\n",
    "    δ = δ₀\n",
    "    err = 1000\n",
    "    n = 0\n",
    "    maxed_iter = false\n",
    "    \n",
    "    while (err > tol) && (maxed_iter === false)\n",
    "        δ_old = δ\n",
    "        \n",
    "        # update delta\n",
    "        δ = δ_old + log.(s) - log.(get_shares(δ_old, Γ, x, v))\n",
    "        \n",
    "        # difference \n",
    "        err = maximum(abs.(δ - δ_old)) \n",
    "        \n",
    "        # (optional) max iterations block\n",
    "        n += 1\n",
    "        if max_iter !== nothing\n",
    "            maxed_iter = (n == max_iter)\n",
    "        end\n",
    "    end\n",
    "    \n",
    "    return δ\n",
    "end\n",
    "\n",
    "# iterate over each market\n",
    "market_iterate = function(Γ, s_t, x_t, v, tol = 1e-12, max_iter = nothing)\n",
    "   \n",
    "    δ = []\n",
    "    for t in 1:size(s_t)[1]\n",
    "        s = s_t[t]\n",
    "        x = x_t[t]\n",
    "        δ₀ = ones(size(s)[1])\n",
    "        push!(δ, delta_contraction(δ₀, Γ, s, x, v, tol, max_iter) ) \n",
    "    end\n",
    "    return δ\n",
    "end"
   ]
  },
  {
   "cell_type": "markdown",
   "id": "ba5abf27",
   "metadata": {},
   "source": [
    "## Outer loop\n",
    "`residuals` does IV-GMM using the provided weighting matrix. z_jt should be a matrix of $Z$ excluded and included intruments of size $TJ \\times Z$. Returns linear parameters (vector of length $2$) and $\\xi_{jt}$ residuals (vector of length $J \\times T$)\n",
    "\n",
    "`gmm_objective` Reads in $TJ$-length vector $x$_jt and $TJ \\times Z$ matrix $z$_jt. Calculates sample moments (size of instrument vector, $Z$) and optimal weighting matrix ($Z \\times Z$). Returns scalar objective and matrix.\n",
    "\n",
    "## Gradient\n",
    "Estimator is $$\\nabla G(\\theta) = 2(Z'J_\\theta)'W(Z'\\xi(\\theta))$$\n",
    "-$Z$ is $JT \\times Z$ matrix if instruments\n",
    "\n",
    "-$\\xi$ is $JT \\times 1$ matrix of unobserved mean utilities\n",
    "\n",
    "-$W$ is $Z \\times Z$ \n",
    "\n",
    "$$ W = \\left[(\\xi(\\theta) \\circ Z)' (\\xi(\\theta) \\circ Z) \\right]^{-1}$$\n",
    "\n",
    "-$J_\\theta$ is $JT \\times 3$\n",
    "\n",
    "$$ J_\\theta = -f_\\xi^{-1} f_\\theta$$\n",
    "\n",
    "- For each t, $f_\\xi$ is a $J \\times J$ matrix: $\\left\\{\\frac{\\partial s_{ij}}{\\partial \\xi_k}\\right\\}_{j,k}$\n",
    "\n",
    "$$ \\frac{\\partial s_{ij}}{\\partial \\xi_k} = -s_{ij}s_{ik}, \\quad \\frac{\\partial s_{ij}}{\\partial \\xi_j} = s_{ij}(1-s_{ij}) $$\n",
    "\n",
    "- For each t, $f_\\theta$ is a $J \\times 3$ matrix: \n",
    "$$\\begin{bmatrix} s_{ij}s_{i0}\\left(p_j - \\sum_k s_{ik}p_k \\right)\\nu_{1i}  &  s_{ij}s_{i0}\\left(x_j - \\sum_k s_{ik}x_k \\right)\\nu_{1i} & s_{ij}s_{i0}\\left(x_j - \\sum_k s_{ik}x_k \\right)\\nu_{2i} \\end{bmatrix}_{j} $$\n",
    "\n",
    "All matrices are stacked $J \\times \\cdot$ over $T$ markets"
   ]
  },
  {
   "cell_type": "code",
   "execution_count": 116,
   "id": "c567e9e7",
   "metadata": {},
   "outputs": [
    {
     "data": {
      "text/plain": [
       "gmm_gradient! (generic function with 3 methods)"
      ]
     },
     "execution_count": 116,
     "metadata": {},
     "output_type": "execute_result"
    }
   ],
   "source": [
    "# returns residuals for a given δ, estimates linear parameters given instruments\n",
    "resid = function(δ_jt, x_jt, z_jt, W)\n",
    "    # iv-gmm\n",
    "    θ₁ = inv(x_jt' * z_jt * W * z_jt' * x_jt) * (x_jt' * z_jt * W * z_jt' * δ_jt)\n",
    "    ξ_jt = δ_jt - x_jt * θ₁\n",
    "    \n",
    "    return ξ_jt, θ₁ \n",
    "    \n",
    "end\n",
    "\n",
    "# calculates gmm objective for outer loop\n",
    "function gmm_objective(ξ_jt, z_jt, W)   \n",
    "    # empirical moments, weighting matrix\n",
    "    g = (ξ_jt' * z_jt) / size(ξ_jt)[1] \n",
    "    \n",
    "    # gmm objective\n",
    "    G = g * W * g'\n",
    "    \n",
    "    return G\n",
    "end\n",
    "\n",
    "# performs outer loop\n",
    "function outer_loop(θ₂, s_t, x_t, x_jt, z_jt, v, W, tol = 1e-12, max_iter = nothing)\n",
    "    # Pass through guess\n",
    "    @time Γ = [θ₂[1] 0 ; θ₂[2] θ₂[3]] # lower triangular\n",
    "    \n",
    "    # Perform inner loop\n",
    "    @time δ = market_iterate(Γ, s_t, x_t, v, tol, max_iter)\n",
    "    \n",
    "    # convert to JT x 1 (stacked J x 1 vectors for each t)\n",
    "    δ_jt = vec(reduce(hcat,δ)) \n",
    "    \n",
    "    # intermediate step\n",
    "    @time ξ_jt, θ₁ = resid(δ_jt, x_jt, z_jt, W)\n",
    "    \n",
    "    # gmm step\n",
    "    @time G = gmm_objective(ξ_jt, z_jt, W)\n",
    "    \n",
    "    println(G)\n",
    "    \n",
    "    return G\n",
    "end\n",
    "\n",
    "# Steps to calculate gradient...\n",
    "# have data s_t, x_t, z_t\n",
    "# first step will return θ           -> Γ  x\n",
    "# 1. run market_iterate() with Γ     -> δ  x\n",
    "# 2. run resid() with δ              -> ξ x\n",
    "# 3. calculate W with ξ and Z        -> W x\n",
    "# 4. calculate J with δ and Γ*       -> J  x\n",
    "# *(for each i, calculate s_ij vector, do elementwise mult with p_j, v, and sum to get f_xi loop through j,k for f_theta)\n",
    "# 5. run gradient() with J, W, ξ, Z  -> ∇\n",
    "\n",
    "# helper function in gradient call: for each market get Jacobian of ξ(θ)\n",
    "function jacobian_xi(δ, Γ, x, v)\n",
    "    # need individual shares\n",
    "    numerator = exp.(δ .+ x * Γ * v)\n",
    "    adj = maximum(numerator, dims = 1)\n",
    "    denominator = sum((numerator ./ adj), dims = 1) .+ (1 ./ adj)\n",
    "    shares = (numerator ./ adj) ./ denominator # J x L\n",
    "    \n",
    "    # calculate partials of f(θ) = s - S(ξ,θ), denoted fξ and fθ\n",
    "    fξ_store = []\n",
    "    fθ_store = [] \n",
    "    for i = 1:size(v)[2]\n",
    "        s_i = shares[:,i]\n",
    "        s_i0 = 1 - sum(s_i)\n",
    "        v_i = v[:,i]\n",
    "        \n",
    "        fξ_i = s_i * s_i' + diagm(s_i)\n",
    "        \n",
    "        fθ₁ = s_i .* (x[:,1] .- (s_i0 .* (s_i' * x[:,1]))) .* v[1]\n",
    "        fθ₂ = s_i .* (x[:,2] .- (s_i0 .* (s_i' * x[:,2]))) .* v[1]\n",
    "        fθ₃ = s_i .* (x[:,2] .- (s_i0 .* (s_i' * x[:,2]))) .* v[2]\n",
    "        fθ_i = hcat(fθ₁, fθ₂, fθ₃)\n",
    "        \n",
    "        push!(fξ_store, fξ_i)\n",
    "        push!(fθ_store, fθ_i)        \n",
    "    end\n",
    "    \n",
    "    # calculate Jacobian\n",
    "    J = -1 .* inv(mean(fξ_store)) * mean(fθ_store)\n",
    "   \n",
    "    return J\n",
    "end\n",
    "    \n",
    "function gmm_gradient!(θ₂, s_t, x_t, x_jt, z_jt, v, W, ∇, tol = 1e-12, max_iter = nothing)\n",
    "    # Pass through guess\n",
    "    Γ = [θ₂[1] 0 ; θ₂[2] θ₂[3]] # lower triangular\n",
    "    \n",
    "    # Recover model objects from estimates parameters: Γ, and data: s_t, x_t, z_t, and v (simulated)    \n",
    "    # δ(θ)\n",
    "    δ = market_iterate(Γ, s_t, x_t, v, tol, max_iter)\n",
    "    \n",
    "    # ξ(θ)\n",
    "    δ_jt = vec(reduce(hcat,δ)) \n",
    "    ξ_jt = resid(δ_jt, x_jt, z_jt, W)[1]\n",
    "    ξ_t = reshape(ξ_jt, 6, Int64(size(ξ_jt)[1] / 6))\n",
    "    \n",
    "    # Analytic matrices\n",
    "    # Jacobian\n",
    "    J_t = []\n",
    "    for t = 1:size(x_t)[1]\n",
    "        push!(J_t, jacobian_xi(δ[t], Γ, x_t[t], v))\n",
    "    end\n",
    "    # J = reduce(vcat, J_t) # flatten to JT x 3 matrix\n",
    "    \n",
    "    # Weighting (note: put outside, we want to fix W through run)\n",
    "    # W = inv((z_jt .* ξ_jt)' * (z_jt .* ξ_jt)) * size(ξ_jt)[1]\n",
    "    \n",
    "    # Calculate gradient\n",
    "    ∇ = []\n",
    "    for t in 1:size(s_t)[1]\n",
    "        ∇_t = 2 .* (z_t[t]' * J_t[t])' * W * (z_t[t]' * ξ_t[:,t])\n",
    "        push!(∇, ∇_t)\n",
    "    end\n",
    "\n",
    "    return mean(∇)\n",
    "end"
   ]
  },
  {
   "cell_type": "code",
   "execution_count": 74,
   "id": "c6160d49",
   "metadata": {},
   "outputs": [
    {
     "data": {
      "text/plain": [
       "g! (generic function with 1 method)"
      ]
     },
     "execution_count": 74,
     "metadata": {},
     "output_type": "execute_result"
    }
   ],
   "source": [
    "δ₀ = ones(6)\n",
    "params0 = ones(3)\n",
    "#params0 = [2.1095000932155177, 0.026342237451039658, 0.029950456541307163]\n",
    "Γ = [params0[1] 0 ; params0[2] params0[3]]\n",
    "\n",
    "w = inv(z_jt' * z_jt) * size(z_jt)[1];\n",
    "\n",
    "tol = 1e-12;\n",
    "max_iter = 100;\n",
    "\n",
    "f(θ₂) = outer_loop(θ₂, s_t, x_t, x_jt, z_jt, v, w, tol, max_iter)\n",
    "g!(∇,θ₂) = gmm_gradient!(θ₂, s_t, x_t, x_jt, z_jt, v, w, ∇, tol, max_iter)"
   ]
  },
  {
   "cell_type": "code",
   "execution_count": 118,
   "id": "93ac505b",
   "metadata": {},
   "outputs": [
    {
     "name": "stdout",
     "output_type": "stream",
     "text": [
      "  0.000006 seconds (12 allocations: 432 bytes)\n",
      "  0.005105 seconds (14.52 k allocations: 6.234 MiB)\n",
      "  0.000023 seconds (18 allocations: 3.984 KiB)\n",
      "  0.006866 seconds (3.83 k allocations: 195.924 KiB, 99.61% compilation time)\n",
      "2.1714405022761856\n",
      "Iter     Function value   Gradient norm \n",
      "     0     2.171441e+00              NaN\n",
      " * time: 0.0\n",
      "  0.076665 seconds (97.18 k allocations: 16.837 MiB, 84.55% compilation time)\n"
     ]
    },
    {
     "data": {
      "text/plain": [
       " * Status: failure\n",
       "\n",
       " * Candidate solution\n",
       "    Final objective value:     2.171441e+00\n",
       "\n",
       " * Found with\n",
       "    Algorithm:     L-BFGS\n",
       "\n",
       " * Convergence measures\n",
       "    |x - x'|               = 0.00e+00 ≤ 0.0e+00\n",
       "    |x - x'|/|x'|          = 0.00e+00 ≤ 0.0e+00\n",
       "    |f(x) - f(x')|         = NaN ≰ 0.0e+00\n",
       "    |f(x) - f(x')|/|f(x')| = NaN ≰ 0.0e+00\n",
       "    |g(x)|                 = NaN ≰ 1.0e-08\n",
       "\n",
       " * Work counters\n",
       "    Seconds run:   0  (vs limit Inf)\n",
       "    Iterations:    0\n",
       "    f(x) calls:    1\n",
       "    ∇f(x) calls:   1\n"
      ]
     },
     "execution_count": 118,
     "metadata": {},
     "output_type": "execute_result"
    }
   ],
   "source": [
    "# @time o = Optim.optimize(f, g!,params0, LBFGS())\n",
    "@time o = Optim.optimize(f, g!, params0, LBFGS(), Optim.Options(show_trace = true, show_every = 10))"
   ]
  },
  {
   "cell_type": "code",
   "execution_count": null,
   "id": "b879e2cb",
   "metadata": {},
   "outputs": [],
   "source": [
    "J_t = []\n",
    "for t in 1:5\n",
    "    push!(J_t, jacobian(delt[1], Γ, x_t[1], v))\n",
    "end\n",
    "\n",
    "J_t[1]\n",
    "reduce(vcat, J_t)"
   ]
  },
  {
   "cell_type": "code",
   "execution_count": 117,
   "id": "2f22b67b",
   "metadata": {},
   "outputs": [
    {
     "data": {
      "text/plain": [
       "3-element Vector{Float64}:\n",
       "   0.17312587104225247\n",
       "  -2.4417173794561013\n",
       " -15.907888393485962"
      ]
     },
     "execution_count": 117,
     "metadata": {},
     "output_type": "execute_result"
    }
   ],
   "source": [
    "∇ = ones(3)\n",
    "gmm_gradient!(θ₂, s_t, x_t, x_jt, z_jt, v, w, ∇, tol, max_iter)"
   ]
  },
  {
   "cell_type": "code",
   "execution_count": 51,
   "id": "2d67cdeb",
   "metadata": {},
   "outputs": [
    {
     "data": {
      "text/plain": [
       "7×7 Matrix{Float64}:\n",
       "  0.00482719   -0.0027584    -0.00201489   …   0.000947291  -0.00198364\n",
       " -0.0027584     0.0035374    -0.000299187     -0.00156654    0.00184279\n",
       " -0.00201489   -0.000299187   0.00328508       0.000500983   0.000175094\n",
       " -0.00217568    0.000587866   0.000929431      0.000803485   0.000566466\n",
       "  0.000885222  -0.000124342  -0.00106843       2.38406e-5   -0.00044566\n",
       "  0.000947291  -0.00156654    0.000500983  …   0.00334798   -0.00137792\n",
       " -0.00198364    0.00184279    0.000175094     -0.00137792    0.00291332"
      ]
     },
     "execution_count": 51,
     "metadata": {},
     "output_type": "execute_result"
    }
   ],
   "source": [
    "w = z_jt' * z_jt\n",
    "ξ = resid(δ_jt, x_jt, z_jt, w)[1]\n",
    "\n",
    "inv((z_jt .* ξ)' * (z_jt .* ξ)) * size(ξ)[1]\n"
   ]
  },
  {
   "cell_type": "code",
   "execution_count": null,
   "id": "d84fb924",
   "metadata": {},
   "outputs": [],
   "source": [
    "g, w = outer_loop([1 1 1], s_t, x_t, x_jt, z_jt, v)"
   ]
  },
  {
   "cell_type": "code",
   "execution_count": null,
   "id": "0d825a22",
   "metadata": {},
   "outputs": [],
   "source": [
    "delt = market_iterate(Γ, s_t, x_t, v, 1e-1, 3)\n",
    "delt[1]\n",
    "get_shares(delt[1], Γ, x_t[1], v)[1]"
   ]
  },
  {
   "cell_type": "code",
   "execution_count": 77,
   "id": "88b206eb",
   "metadata": {},
   "outputs": [
    {
     "name": "stdout",
     "output_type": "stream",
     "text": [
      "[-0.7667679910719568, 0.397364825136542][2.1134352999771044, 0.02706264320005767, 0.029948155059233695]"
     ]
    },
    {
     "data": {
      "text/plain": [
       "6×5 Matrix{Float64}:\n",
       " -3.48201    -4.10896   -2.56582   -0.0305048  -0.931278\n",
       "  0.0672305  -2.54388   -3.83699   -1.69399    -1.96049\n",
       " -1.67977     1.39517   -3.05901   -2.57768     0.0758904\n",
       " -1.54805    -2.25454   -3.29644   -4.81321    -3.62375\n",
       "  1.36491    -1.09951   -0.751778  -1.10928    -0.579442\n",
       " -0.398699    0.766565  -0.944682   1.17632    -1.46153"
      ]
     },
     "execution_count": 77,
     "metadata": {},
     "output_type": "execute_result"
    }
   ],
   "source": [
    "θ₂ = o.minimizer\n",
    "Γ = [θ₂[1] 0 ; θ₂[2] θ₂[3]]\n",
    "\n",
    "δ = market_iterate(Γ, s_t, x_t, v)\n",
    "    \n",
    "δ_jt = vec(reduce(hcat,δ)) \n",
    "ξ_jt, θ₁ = resid(δ_jt, x_jt, z_jt, w)\n",
    "    \n",
    "S_t = []\n",
    "for t in 1:size(x_t)[1]\n",
    "    push!(S_t, get_shares(δ[t], Γ, x_t[t], v))\n",
    "end\n",
    "S = mean(reduce(hcat,S_t), dims = 2)\n",
    "\n",
    "s = mean(reduce(hcat,s_t), dims = 2)\n",
    "\n",
    "print(θ₁, θ₂)\n",
    "maximum(reduce(hcat,S_t) - reduce(hcat,s_t))\n",
    "\n",
    "\n",
    "reshape(ξ_jt,6,Int64(size(ξ_jt)[1] / 6))"
   ]
  }
 ],
 "metadata": {
  "kernelspec": {
   "display_name": "Julia 1.7.2",
   "language": "julia",
   "name": "julia-1.7"
  },
  "language_info": {
   "file_extension": ".jl",
   "mimetype": "application/julia",
   "name": "julia",
   "version": "1.7.2"
  }
 },
 "nbformat": 4,
 "nbformat_minor": 5
}
