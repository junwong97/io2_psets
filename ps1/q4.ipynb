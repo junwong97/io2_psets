{
 "cells": [
  {
   "cell_type": "markdown",
   "id": "956a48e3",
   "metadata": {},
   "source": [
    "# Problem 4 : Estimation - BLP"
   ]
  },
  {
   "cell_type": "code",
   "execution_count": 1,
   "id": "288a98ba",
   "metadata": {},
   "outputs": [],
   "source": [
    "using Plots, DataFrames, CSV, GLM\n",
    "using Optim, Distributions, Random, ForwardDiff\n",
    "using LinearAlgebra,StatsFuns\n",
    "\n",
    "Random.seed!(8675309);"
   ]
  },
  {
   "cell_type": "code",
   "execution_count": 2,
   "id": "1fd63934",
   "metadata": {
    "scrolled": true
   },
   "outputs": [],
   "source": [
    "df = DataFrame(CSV.File(\"../data/ps1_ex4.csv\"));\n",
    "x = Array(df[!,[:x, :p]]);\n",
    "\n",
    "Γ = ones(2,2)\n",
    "Γ[1,2] = 0"
   ]
  },
  {
   "cell_type": "code",
   "execution_count": 13,
   "id": "administrative-pipeline",
   "metadata": {},
   "outputs": [],
   "source": [
    "# get data\n",
    "x_t = []\n",
    "for t in 1:100 \n",
    "   push!(x_t, Array(df[df[!,:market].==t, [:p, :x]]))\n",
    "end\n",
    "\n",
    "s_t = []\n",
    "for t in 1:100 \n",
    "    push!(s_t, Array(df[df[!,:market].==t, [:shares]]))\n",
    "end\n",
    "\n",
    "z_t = []\n",
    "for t in 1:100 \n",
    "    push!(z_t, Array(df[df[!,:market].==t, [:z1, :z2, :z3, :z4, :z5, :z6, :x]]))\n",
    "end"
   ]
  },
  {
   "cell_type": "code",
   "execution_count": 14,
   "id": "44780092",
   "metadata": {},
   "outputs": [
    {
     "data": {
      "text/plain": [
       "#1 (generic function with 1 method)"
      ]
     },
     "execution_count": 14,
     "metadata": {},
     "output_type": "execute_result"
    }
   ],
   "source": [
    "# simulate individual taste shocks from N(μ,Σ)\n",
    "draw_sim = function(μ, Σ, N) # return N x L matrix\n",
    "    # draw shocks\n",
    "    ν = transpose(rand(MvNormal(μ, Σ), N))\n",
    "    \n",
    "    return ν\n",
    "end"
   ]
  },
  {
   "cell_type": "markdown",
   "id": "c779d3d4",
   "metadata": {},
   "source": [
    "# Part 1: BLP"
   ]
  },
  {
   "cell_type": "markdown",
   "id": "44976bb7",
   "metadata": {},
   "source": [
    "## Inner loop\n",
    "`get_shares` calculates the shares of each product in a particular market $t$. $\\delta$ should be a vector of length $J$; $x$ should be a matrix of size $J \\times 2$; and $v$ should be a vector of length $L$.\n",
    "\n",
    "`delta_contraction` iterates the $\\delta_{jt}$ in a particular market $t$. $\\delta$ should be a vector of length $J$; $x$ should be a vector of characteristics with length $J$; $s$ should be a vector of observed shares with length $J$; $v$ should be a vector of length $L$. \n",
    "\n",
    "`market_iterate` performs the contraction over each $t$ markets, it recoves $\\delta_{jt}$, which is a vector of length $J \\times T$."
   ]
  },
  {
   "cell_type": "code",
   "execution_count": 55,
   "id": "1ab87a12",
   "metadata": {},
   "outputs": [
    {
     "data": {
      "text/plain": [
       "#31 (generic function with 3 methods)"
      ]
     },
     "execution_count": 55,
     "metadata": {},
     "output_type": "execute_result"
    }
   ],
   "source": [
    "# get shares in a market given some fixed gamma and delta\n",
    "get_shares = function(δ, Γ, x, v)\n",
    "    # we want to get share_{jt} using simulated values of $v_i$ (drawn above)\n",
    "    # shares should be vector of length J\n",
    "    \n",
    "    numerator = exp.(δ .+ x * Γ * v')\n",
    "    denominator = sum(numerator, dims = 1) .+ 1\n",
    "    shares = sum(numerator ./ denominator, dims = 2) ./ size(v)[1]\n",
    "    \n",
    "    return shares\n",
    "end\n",
    "\n",
    "# inner loop: contraction to find δ\n",
    "delta_contraction = function(δ₀, Γ, s, x, v, tol = 1e-12, max_iter = nothing)\n",
    "\n",
    "    # here δ is a vector of length J\n",
    "    δ = δ₀\n",
    "    err = 1000\n",
    "    n = 0\n",
    "    maxed_iter = false\n",
    "    #print(err, maxed_iter)\n",
    "    \n",
    "    while (err > tol) && (maxed_iter === false)\n",
    "        δ_old = δ\n",
    "        \n",
    "        # update delta\n",
    "        δ = δ_old + log.(s) - log.(get_shares(δ_old, Γ, x, v))\n",
    "        \n",
    "        # difference \n",
    "        err = maximum(abs.(δ - δ_old)) \n",
    "        \n",
    "        # (optional) max iterations block\n",
    "        n += 1\n",
    "        if max_iter !== nothing\n",
    "            maxed_iter = (n == max_iter)\n",
    "        end\n",
    "    end\n",
    "    \n",
    "    return δ\n",
    "end\n",
    "\n",
    "# iterate over each market\n",
    "market_iterate = function(Γ, s_t, x_t, v, tol = 1e-12, max_iter = nothing)\n",
    "   \n",
    "    δ = []\n",
    "    for t in 1:size(s_t)[1]\n",
    "        s = s_t[t]\n",
    "        x = x_t[t]\n",
    "        δ₀ = ones(size(s)[1])\n",
    "        push!(δ, delta_contraction(δ₀, Γ, s, x, v, tol, max_iter) ) \n",
    "    end\n",
    "    return δ\n",
    "end"
   ]
  },
  {
   "cell_type": "markdown",
   "id": "b98c60cc",
   "metadata": {},
   "source": [
    "## Outer loop\n",
    "`residuals` does IV-GMM using the provided weighting matrix. z_jt should be a matrix of $Z$ excluded and included intruments of size $TJ \\times Z$. Returns linear parameters (vector of length $2$) and $\\xi_{jt}$ residuals (vector of length $J \\times T$)\n",
    "\n",
    "`gmm_objective` Reads in $TJ$-length vector $x$_jt and $TJ \\times Z$ matrix $z$_jt. Calculates sample moments (size of instrument vector, $Z$) and optimal weighting matrix ($Z \\times Z$). Returns scalar objective and matrix."
   ]
  },
  {
   "cell_type": "code",
   "execution_count": 83,
   "id": "0e3ae8d5",
   "metadata": {},
   "outputs": [
    {
     "data": {
      "text/plain": [
       "#60 (generic function with 4 methods)"
      ]
     },
     "execution_count": 83,
     "metadata": {},
     "output_type": "execute_result"
    }
   ],
   "source": [
    "# returns residuals for a given δ, estimates linear parameters given instruments\n",
    "resid = function(δ_jt, x_jt, z_jt, W = nothing)\n",
    "    # if weighting matrix not supplied\n",
    "    if W === nothing\n",
    "        W = inv(z_jt' * z_jt)\n",
    "    end\n",
    "    \n",
    "    # iv-gmm\n",
    "    θ₁ = inv(x_jt' * z_jt * W * z_jt' * x_jt) * (x_jt' * z_jt * W * z_jt' * δ_jt)\n",
    "    ξ_jt = δ_jt - x_jt * θ₁\n",
    "    \n",
    "    return ξ_jt, θ₁ \n",
    "    \n",
    "end\n",
    "\n",
    "# calculates gmm objective for outer loop\n",
    "function gmm_objective(ξ_jt, z_jt)   \n",
    "    # empirical moments, weighting matrix\n",
    "    g = (ξ_jt' * z_jt) / size(ξ_jt)[1] \n",
    "    W = inv((z_jt .* ξ_jt.^2 )' * z_jt) * size(ξ_jt)[1]\n",
    "    \n",
    "    # gmm objective\n",
    "    G = g * W * g'\n",
    "    \n",
    "    return G, W\n",
    "end\n",
    "\n",
    "# performs outer loop, keeps track of weighting matrix\n",
    "function outer_loop!(θ₂, s_t, x_t, x_jt, z_jt, v, tol = 1e-12, max_iter = nothing,  W = nothing)\n",
    "    # Pass through guess\n",
    "    Γ = [θ₂[1] 0 ; θ₂[2] θ₂[3]] # lower triangular\n",
    "    \n",
    "    # Perform inner loop\n",
    "    δ = market_iterate(Γ, s_t, x_t, v, tol, max_iter) # what is initial??\n",
    "    \n",
    "    # convert to JT x 1 (stacked J x 1 vectors for each t)\n",
    "    δ_jt = vec(reduce(hcat,δ)) \n",
    "    \n",
    "    # intermediate step\n",
    "    ξ_jt, θ₁ = resid(δ_jt, x_jt, z_jt, W)\n",
    "    \n",
    "    # gmm step should this step be optimizing the GMM objective?\n",
    "    G, W = gmm_objective(ξ_jt, z_jt)\n",
    "    \n",
    "    return G, W\n",
    "end\n",
    "\n",
    "Optimize(outer_loop)"
   ]
  },
  {
   "cell_type": "code",
   "execution_count": 118,
   "id": "f4e3cebc",
   "metadata": {},
   "outputs": [
    {
     "data": {
      "text/plain": [
       "100×6 Matrix{Union{Missing, Float64}}:\n",
       " -0.210973   -1.55758    -0.799984   -1.33837    3.31633    2.15453\n",
       "  0.470776   -0.153134   -2.18476    -0.743471   1.56558    3.14475\n",
       " -0.0839182   0.394334   -0.478595   -0.304705   0.276072   0.884968\n",
       " -1.11659     1.21433    -0.143263    0.206286   1.83095    2.44176\n",
       "  0.270833   -0.172235    1.8037      0.193692   1.62421    1.63298\n",
       " -0.0095628   0.233098   -0.648853    2.55467    2.11398    1.9928\n",
       " -1.0391     -0.653942   -1.56475    -0.861561   0.739625   2.13211\n",
       " -1.30205     1.30268     0.511582   -0.666108   0.474729   3.06745\n",
       " -1.26007     0.191155   -0.690102    0.656296   0.403315   2.08149\n",
       "  0.500571    0.104896   -0.0866057  -0.997533   2.53638    0.544624\n",
       " -0.0724124  -1.71788     1.15126    -0.524685   2.91933    3.32483\n",
       "  0.351376    1.18773    -0.741401    0.309983   1.0358     2.72921\n",
       " -0.488561   -0.01601     0.665288   -0.999197   3.22408    4.74749\n",
       "  ⋮                                                         ⋮\n",
       "  0.939254    0.911426    1.21228    -0.768442   0.467667   2.31248\n",
       "  0.933298    1.4676      2.04638     0.166415   2.05988    2.44194\n",
       "  0.0240735   0.0515765   0.459622    1.64493    1.01026    1.0238\n",
       " -0.579113   -3.41272    -1.8248     -0.96467    1.53828    0.679506\n",
       "  0.76238    -0.56035    -0.0544833  -1.11157    1.70867   -0.313647\n",
       "  1.22021     0.29273     0.151821   -1.22303    1.39356    2.3133\n",
       " -0.144531   -1.07603    -0.261968    0.579845   1.78611    1.54764\n",
       " -0.120158   -0.367827    1.52998     0.335305   0.582639   1.74227\n",
       "  0.222462   -1.23693    -0.739942   -0.809639   2.84391    2.43359\n",
       "  0.638933   -1.56445     0.326817   -0.0659733  0.282498   2.26379\n",
       " -0.868903   -1.41121     0.434155    1.24069    1.22385    2.02607\n",
       " -0.0541592  -0.240857   -0.17263    -0.0617626  1.27645    2.3265"
      ]
     },
     "execution_count": 118,
     "metadata": {},
     "output_type": "execute_result"
    }
   ],
   "source": [
    "# Define input objects\n",
    "input = sort(df,[:market,:choice])\n",
    "\n",
    "x_t = Matrix(unstack(input, :market, :choice, :x)[:,2:7]);\n",
    "s_t = Matrix(unstack(input, :market, :choice, :shares)[:,2:7]);\n",
    "z_jt = Matrix(input[:,[:z1, :z2, :z3, :z4, :z5, :z6, :x]]);\n",
    "ν = draw_sim([0;0], [1 0;0 1], 100);\n",
    "\n",
    "x_t"
   ]
  },
  {
   "cell_type": "code",
   "execution_count": 48,
   "id": "bf7db202",
   "metadata": {},
   "outputs": [],
   "source": [
    "δ₀ = ones(6)\n",
    "Γ = [1 0 ; 1 1]\n",
    "ν = draw_sim([0;0], [1 0;0 1], 100);\n"
   ]
  },
  {
   "cell_type": "code",
   "execution_count": 63,
   "id": "cultural-collectible",
   "metadata": {},
   "outputs": [
    {
     "data": {
      "text/plain": [
       "6×1 Matrix{Float64}:\n",
       " -3.618024748837521\n",
       " -1.79856074386391\n",
       " -3.6748897163554544\n",
       " -3.1839842780893397\n",
       " -3.3390442808354655\n",
       " -4.1117633043894095"
      ]
     },
     "execution_count": 63,
     "metadata": {},
     "output_type": "execute_result"
    }
   ],
   "source": [
    "\n",
    "delt = market_iterate(Γ, s_t, x_t, ν,1e-12,1000);\n",
    "delt[1]"
   ]
  },
  {
   "cell_type": "code",
   "execution_count": 70,
   "id": "armed-mount",
   "metadata": {},
   "outputs": [],
   "source": [
    "x_jt = Array(df[:,[:p, :x]])\n",
    "z_jt = Matrix(df[:,[:z1, :z2, :z3, :z4, :z5, :z6, :x]]);"
   ]
  },
  {
   "cell_type": "code",
   "execution_count": 71,
   "id": "fiscal-escape",
   "metadata": {},
   "outputs": [
    {
     "data": {
      "text/plain": [
       "600-element Vector{Float64}:\n",
       " -3.618024748837521\n",
       " -1.79856074386391\n",
       " -3.6748897163554544\n",
       " -3.1839842780893397\n",
       " -3.3390442808354655\n",
       " -4.1117633043894095\n",
       " -3.8326217285751447\n",
       " -2.664766123761004\n",
       " -2.811192170564724\n",
       " -4.936138103427132\n",
       " -3.3838483432643502\n",
       " -2.443083653659266\n",
       " -2.643432789799815\n",
       "  ⋮\n",
       " -2.556679962297973\n",
       " -1.055500992247878\n",
       " -3.9281294531086433\n",
       " -2.2466523580570694\n",
       " -1.7004135865846588\n",
       " -1.8650961473346463\n",
       " -2.8686185314436985\n",
       " -1.9013607323865664\n",
       " -6.07384576772032\n",
       " -6.200885011053797\n",
       " -2.659522140032446\n",
       " -4.5654823842996235"
      ]
     },
     "execution_count": 71,
     "metadata": {},
     "output_type": "execute_result"
    }
   ],
   "source": [
    "δ_jt = vec(reduce(hcat, delt))"
   ]
  },
  {
   "cell_type": "code",
   "execution_count": 89,
   "id": "thirty-anger",
   "metadata": {},
   "outputs": [
    {
     "data": {
      "text/plain": [
       "([-3.7557669697033567, -2.815738331077342, -4.037894100198456, -4.04089976797594, -0.32823409119227964, -2.047858277408077, -3.5250705870386736, -2.7647286001362383, -4.124467208969504, -5.010726640910749  …  -3.4774667950729565, -1.156103971755376, -0.7584168279413547, -0.48528559374265434, -2.9038864553996167, -2.0584595793512626, -5.718055615827845, -5.757893041206534, -1.539505794205374, -1.4514650462162955], [-0.1568221756254733, -0.6530971610957783])"
      ]
     },
     "execution_count": 89,
     "metadata": {},
     "output_type": "execute_result"
    }
   ],
   "source": [
    "x, y = resid(δ_jt, x_jt, z_jt)"
   ]
  },
  {
   "cell_type": "code",
   "execution_count": 98,
   "id": "planned-elder",
   "metadata": {
    "scrolled": true
   },
   "outputs": [
    {
     "data": {
      "text/plain": [
       "#64 (generic function with 4 methods)"
      ]
     },
     "execution_count": 98,
     "metadata": {},
     "output_type": "execute_result"
    }
   ],
   "source": [
    "outer_loop = function(θ₂, s_t, x_t, x_jt, z_jt, v, tol = 1e-12, max_iter = nothing,  W = nothing)\n",
    "    # Pass through guess\n",
    "    Γ = [θ₂[1] 0 ; θ₂[2] θ₂[3]] # lower triangular\n",
    "    \n",
    "    # Perform inner loop\n",
    "    δ = market_iterate(Γ, s_t, x_t, v, tol, max_iter) # what is initial??\n",
    "    \n",
    "    # convert to JT x 1 (stacked J x 1 vectors for each t)\n",
    "    δ_jt = vec(reduce(hcat,δ)) \n",
    "    \n",
    "    # intermediate step\n",
    "    ξ_jt, θ₁ = resid(δ_jt, x_jt, z_jt, W)\n",
    "    \n",
    "    # gmm step\n",
    "    G, W = gmm_objective(ξ_jt, z_jt)\n",
    "    \n",
    "    return G, W\n",
    "end"
   ]
  },
  {
   "cell_type": "code",
   "execution_count": 99,
   "id": "champion-interface",
   "metadata": {},
   "outputs": [
    {
     "data": {
      "text/plain": [
       "(0.21896565080926234, [0.085603451180656 -0.034882942297747 … -0.005707878298005312 -0.005566964348651631; -0.03488294229774701 0.08969824619390354 … 0.007811092682178221 -0.005534110983618899; … ; -0.005707878298005316 0.007811092682178222 … 0.12877094892746987 0.002128356730109853; -0.005566964348651642 -0.0055341109836188895 … 0.0021283567301098524 0.09548174494899414])"
      ]
     },
     "execution_count": 99,
     "metadata": {},
     "output_type": "execute_result"
    }
   ],
   "source": [
    "g, w = outer_loop([1 1 1], s_t, x_t, x_jt, z_jt, ν)"
   ]
  },
  {
   "cell_type": "code",
   "execution_count": 101,
   "id": "gorgeous-luxembourg",
   "metadata": {},
   "outputs": [
    {
     "data": {
      "text/plain": [
       "0.21896565080926234"
      ]
     },
     "execution_count": 101,
     "metadata": {},
     "output_type": "execute_result"
    }
   ],
   "source": [
    "optimize(θ₂ -> outer_loop!(blah))"
   ]
  },
  {
   "cell_type": "code",
   "execution_count": null,
   "id": "analyzed-birth",
   "metadata": {},
   "outputs": [],
   "source": []
  }
 ],
 "metadata": {
  "kernelspec": {
   "display_name": "Julia 1.8.2",
   "language": "julia",
   "name": "julia-1.8"
  },
  "language_info": {
   "file_extension": ".jl",
   "mimetype": "application/julia",
   "name": "julia",
   "version": "1.8.2"
  }
 },
 "nbformat": 4,
 "nbformat_minor": 5
}
