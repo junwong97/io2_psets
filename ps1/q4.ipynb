{
 "cells": [
  {
   "cell_type": "markdown",
   "id": "present-tours",
   "metadata": {},
   "source": [
    "# Problem 4 : Estimation - BLP"
   ]
  },
  {
   "cell_type": "code",
   "execution_count": 1,
   "id": "embedded-slave",
   "metadata": {},
   "outputs": [],
   "source": [
    "using Plots, DataFrames, CSV, GLM\n",
    "using Optim, Distributions, Random, ForwardDiff\n",
    "using LinearAlgebra,StatsFuns\n",
    "\n",
    "Random.seed!(111);"
   ]
  },
  {
   "cell_type": "code",
   "execution_count": 3,
   "id": "verbal-garden",
   "metadata": {
    "scrolled": true
   },
   "outputs": [],
   "source": [
    "df = DataFrame(CSV.File(\"../data/ps1_ex4.csv\"));\n",
    "x = Array(df[!,[:x, :p]]);\n",
    "\n",
    "# draw a vector of normal shocks\n",
    "ν = transpose(rand(MvNormal([0;0], [1 0; 0 1]), 20));\n",
    "\n",
    "Γ = ones(2,2)\n",
    "Γ[1,2] = 0\n",
    "\n",
    "δ = ones(size(df, 1));"
   ]
  },
  {
   "cell_type": "markdown",
   "id": "promising-pressure",
   "metadata": {},
   "source": [
    "# Part 1: BLP"
   ]
  },
  {
   "cell_type": "markdown",
   "id": "cognitive-peninsula",
   "metadata": {},
   "source": [
    "## Inner loop\n",
    "`get_shares` calculates the shares of each product in a particular market $t$. $\\delta$ should be a vector of length $J$; $x$ should be a vector of length $J$; and $v$ should be a vector of length $L$.\n",
    "\n",
    "`delta_contraction` iterates the $\\delta_{jt}$ in a particular market $t$. $\\delta$ should be a vector of length $J$; $x$ should be a vector of characteristics with length $J$; $s$ should be a vector of observed shares with length $J$; $v$ should be a vector of length $L$. \n",
    "\n",
    "`market_iterate` performs the contraction over each $t$ markets, it recoves $\\delta_jt$, which is a vector of length $J \\times T$."
   ]
  },
  {
   "cell_type": "code",
   "execution_count": null,
   "id": "combined-revision",
   "metadata": {},
   "outputs": [],
   "source": [
    "# get shares in a market given some fixed gamma and delta\n",
    "get_shares = function(δ, Γ, x, v)\n",
    "    # we want to get share_{jt} using simulated values of $v_i$ (drawn above)\n",
    "    # shares should be vector of length J\n",
    "    \n",
    "    numerator = exp.(δ + x' * Γ * v)\n",
    "    denominator = sum(numerator) + 1\n",
    "    shares = sum(numerator ./ denominator) / size(v)[1]  \n",
    "    \n",
    "    return shares\n",
    "end\n",
    "\n",
    "# inner loop: contraction to find δ\n",
    "delta_contraction = function(δ₀, Γ, s, x, v, tol)\n",
    "    \n",
    "    # here δ is a vector of length J\n",
    "    δ = δ₀\n",
    "    err = 1000\n",
    "    \n",
    "    while err < tol\n",
    "        δ_old = δ\n",
    "        \n",
    "        # update delta\n",
    "        δ = δ_old + log.(s) - log.(get_shares(δ_old, Γ, x, v))\n",
    "        \n",
    "        # difference \n",
    "        err = maximum(abs.(δ - δ_old)) \n",
    "    end\n",
    "    \n",
    "    return δ\n",
    "end\n",
    "\n",
    "# iterate over each market\n",
    "market_iterate = function(initial, Γ, s_t, x_t, v, tol)\n",
    "   \n",
    "    δ = []\n",
    "    for t in 1:size(s_t)[1]\n",
    "        s = s_t[t]\n",
    "        x = x_t[t]\n",
    "        δ₀ = ones(size(s)[1])\n",
    "        push!(δ, delta_contraction(δ₀, Γ, s, x, v, tol) ) \n",
    "    end\n",
    "end"
   ]
  },
  {
   "cell_type": "markdown",
   "id": "competent-cooper",
   "metadata": {},
   "source": [
    "## Outer loop"
   ]
  },
  {
   "cell_type": "code",
   "execution_count": null,
   "id": "organic-bulgaria",
   "metadata": {},
   "outputs": [],
   "source": [
    "# "
   ]
  },
  {
   "cell_type": "code",
   "execution_count": 47,
   "id": "central-respect",
   "metadata": {
    "scrolled": true
   },
   "outputs": [
    {
     "data": {
      "text/plain": [
       "600×1 Matrix{Float64}:\n",
       "     57.00582229965489\n",
       "    233.16347456628938\n",
       "     62.23148664334593\n",
       "    139.0192307176588\n",
       "      1.9572010631035707e13\n",
       "      7.5191040125367e9\n",
       "     64.61729047613422\n",
       "     55.921108756838976\n",
       "    176.30447614723312\n",
       "   4600.2410653501875\n",
       "      1.1154570965762811e6\n",
       "      4.802172137882022e8\n",
       "     54.97046030264811\n",
       "      ⋮\n",
       "     92.05096050484761\n",
       "    183.74617118856838\n",
       "    707.4496820917077\n",
       "  87825.27102073307\n",
       "   3984.880690599852\n",
       "   6384.160433719341\n",
       "     54.68272891024609\n",
       "     57.629424848527094\n",
       "  89979.25568635199\n",
       " 175360.58854399397\n",
       " 112097.32688149536\n",
       "      3.2869182094897693e19"
      ]
     },
     "execution_count": 47,
     "metadata": {},
     "output_type": "execute_result"
    }
   ],
   "source": [
    "summed_jt_i = exp.(δ .+ x * Γ * ν') # this returns a 600 (jt) by 20 (i) \n",
    "sum(summed_jt_i, dims=2) # this sums across individuals "
   ]
  },
  {
   "cell_type": "code",
   "execution_count": 3,
   "id": "designed-combine",
   "metadata": {},
   "outputs": [
    {
     "ename": "LoadError",
     "evalue": "UndefVarError: summed_jt_i not defined",
     "output_type": "error",
     "traceback": [
      "UndefVarError: summed_jt_i not defined",
      "",
      "Stacktrace:",
      " [1] top-level scope",
      "   @ In[3]:1",
      " [2] eval",
      "   @ ./boot.jl:368 [inlined]",
      " [3] include_string(mapexpr::typeof(REPL.softscope), mod::Module, code::String, filename::String)",
      "   @ Base ./loading.jl:1428"
     ]
    }
   ],
   "source": [
    "sum(summed_jt_i, dims=2) # this should sum across goods/markets"
   ]
  },
  {
   "cell_type": "code",
   "execution_count": null,
   "id": "interpreted-subscriber",
   "metadata": {},
   "outputs": [],
   "source": []
  }
 ],
 "metadata": {
  "kernelspec": {
   "display_name": "Julia 1.8.2",
   "language": "julia",
   "name": "julia-1.8"
  },
  "language_info": {
   "file_extension": ".jl",
   "mimetype": "application/julia",
   "name": "julia",
   "version": "1.8.2"
  }
 },
 "nbformat": 4,
 "nbformat_minor": 5
}
