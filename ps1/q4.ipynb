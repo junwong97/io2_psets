{
 "cells": [
  {
   "cell_type": "markdown",
   "id": "d5c66dd3",
   "metadata": {},
   "source": [
    "# Problem 4 : Estimation - BLP"
   ]
  },
  {
   "cell_type": "code",
   "execution_count": 1,
   "id": "d798af61",
   "metadata": {},
   "outputs": [],
   "source": [
    "using Plots, DataFrames, CSV, GLM\n",
    "using Optim, Distributions, Random, ForwardDiff\n",
    "using LinearAlgebra,StatsFuns\n",
    "\n",
    "Random.seed!(6789998212);"
   ]
  },
  {
   "cell_type": "code",
   "execution_count": 3,
   "id": "f0881957",
   "metadata": {
    "scrolled": true
   },
   "outputs": [],
   "source": [
    "# load in csv\n",
    "df = DataFrame(CSV.File(\"../data/ps1_ex4.csv\"));"
   ]
  },
  {
   "cell_type": "code",
   "execution_count": 4,
   "id": "b0a9327f",
   "metadata": {},
   "outputs": [],
   "source": [
    "# get data\n",
    "x_t = []\n",
    "for t in 1:100 \n",
    "   push!(x_t, Array(df[df[!,:market].==t, [:p, :x]]))\n",
    "end\n",
    "\n",
    "s_t = []\n",
    "for t in 1:100 \n",
    "    push!(s_t, Array(df[df[!,:market].==t, [:shares]]))\n",
    "end\n",
    "\n",
    "z_t = []\n",
    "for t in 1:100 \n",
    "    push!(z_t, Array(df[df[!,:market].==t, [:z1, :z2, :z3, :z4, :z5, :z6, :x]]))\n",
    "end\n",
    "\n",
    "x_jt = Array(df[:,[:p, :x]]);\n",
    "\n",
    "z_jt = Array(df[:,[:z1, :z2, :z3, :z4, :z5, :z6, :x]]);"
   ]
  },
  {
   "cell_type": "code",
   "execution_count": 5,
   "id": "32466d6a",
   "metadata": {},
   "outputs": [
    {
     "data": {
      "text/plain": [
       "#1 (generic function with 1 method)"
      ]
     },
     "execution_count": 5,
     "metadata": {},
     "output_type": "execute_result"
    }
   ],
   "source": [
    "# simulate individual taste shocks from N(μ,Σ)\n",
    "draw_sim = function(μ, Σ, N) # return N x L matrix\n",
    "    # draw shocks\n",
    "    ν = rand(MvNormal(μ, Σ), N)\n",
    "    \n",
    "    return ν\n",
    "end"
   ]
  },
  {
   "cell_type": "markdown",
   "id": "9d141f6c",
   "metadata": {},
   "source": [
    "# Part 1: BLP"
   ]
  },
  {
   "cell_type": "markdown",
   "id": "53ddf44a",
   "metadata": {},
   "source": [
    "## Inner loop\n",
    "`get_shares` calculates the shares of each product in a particular market $t$. $\\delta$ should be a vector of length $J$; $x$ should be a matrix of size $J \\times 2$; and $v$ should be a vector of length $L$.\n",
    "\n",
    "`delta_contraction` iterates the $\\delta_{jt}$ in a particular market $t$. $\\delta$ should be a vector of length $J$; $x$ should be a vector of characteristics with length $J$; $s$ should be a vector of observed shares with length $J$; $v$ should be a vector of length $L$. \n",
    "\n",
    "`market_iterate` performs the contraction over each $t$ markets, it recoves $\\delta_{jt}$, which is a vector of length $J \\times T$."
   ]
  },
  {
   "cell_type": "code",
   "execution_count": 6,
   "id": "41fae2b7",
   "metadata": {},
   "outputs": [
    {
     "data": {
      "text/plain": [
       "#7 (generic function with 3 methods)"
      ]
     },
     "execution_count": 6,
     "metadata": {},
     "output_type": "execute_result"
    }
   ],
   "source": [
    "# get shares in a market given some fixed gamma and delta\n",
    "get_shares = function(δ, Γ, x, v)\n",
    "    # we want to get share_{jt} using simulated values of $v_i$ (drawn above)\n",
    "    # shares should be vector of length J\n",
    "    \n",
    "    numerator = exp.(δ .+ x * Γ * v)\n",
    "    denominator = sum(numerator, dims = 1) .+ 1\n",
    "    shares = sum(numerator ./ denominator, dims = 2) ./ size(v)[2]\n",
    "    \n",
    "    return shares\n",
    "end\n",
    "\n",
    "# inner loop: contraction to find δ\n",
    "delta_contraction = function(δ₀, Γ, s, x, v, tol = 1e-12, max_iter = nothing)\n",
    "\n",
    "    # here δ is a vector of length J\n",
    "    δ = δ₀\n",
    "    err = 1000\n",
    "    n = 0\n",
    "    maxed_iter = false\n",
    "    \n",
    "    while (err > tol) && (maxed_iter === false)\n",
    "        δ_old = δ\n",
    "        \n",
    "        # update delta\n",
    "        δ = δ_old + log.(s) - log.(get_shares(δ_old, Γ, x, v))\n",
    "        \n",
    "        # difference \n",
    "        err = maximum(abs.(δ - δ_old)) \n",
    "        \n",
    "        # (optional) max iterations block\n",
    "        n += 1\n",
    "        if max_iter !== nothing\n",
    "            maxed_iter = (n == max_iter)\n",
    "        end\n",
    "    end\n",
    "    \n",
    "    return δ\n",
    "end\n",
    "\n",
    "# iterate over each market\n",
    "market_iterate = function(Γ, s_t, x_t, v, tol = 1e-12, max_iter = nothing)\n",
    "   \n",
    "    δ = []\n",
    "    for t in 1:size(s_t)[1]\n",
    "        s = s_t[t]\n",
    "        x = x_t[t]\n",
    "        δ₀ = ones(size(s)[1])\n",
    "        push!(δ, delta_contraction(δ₀, Γ, s, x, v, tol, max_iter) ) \n",
    "    end\n",
    "    return δ\n",
    "end"
   ]
  },
  {
   "cell_type": "markdown",
   "id": "78614850",
   "metadata": {},
   "source": [
    "## Outer loop\n",
    "`residuals` does IV-GMM using the provided weighting matrix. z_jt should be a matrix of $Z$ excluded and included intruments of size $TJ \\times Z$. Returns linear parameters (vector of length $2$) and $\\xi_{jt}$ residuals (vector of length $J \\times T$)\n",
    "\n",
    "`gmm_objective` Reads in $TJ$-length vector $x$_jt and $TJ \\times Z$ matrix $z$_jt. Calculates sample moments (size of instrument vector, $Z$) and optimal weighting matrix ($Z \\times Z$). Returns scalar objective and matrix.\n",
    "\n",
    "## Gradient\n",
    "Estimator is $$\\nabla G(\\theta) = 2(Z'J_\\theta)'W(Z'\\xi(\\theta))$$\n",
    "-$Z$ is $JT \\times Z$ matrix if instruments\n",
    "\n",
    "-$\\xi$ is $JT \\times 1$ matrix of unobserved mean utilities\n",
    "\n",
    "-$W$ is $Z \\times Z$ \n",
    "\n",
    "$$ W = \\left[(\\xi(\\theta) \\circ Z)' (\\xi(\\theta) \\circ Z) \\right]^{-1}$$\n",
    "\n",
    "-$J_\\theta$ is $JT \\times 3$\n",
    "\n",
    "$$ J_\\theta = -f_\\xi^{-1} f_\\theta$$\n",
    "\n",
    "- For each t, $f_\\xi$ is a $J \\times J$ matrix: $\\left\\{\\frac{\\partial s_{ij}}{\\partial \\xi_k}\\right\\}_{j,k}$\n",
    "\n",
    "$$ \\frac{\\partial s_{ij}}{\\partial \\xi_k} = -s_{ij}s_{ik}, \\quad \\frac{\\partial s_{ij}}{\\partial \\xi_j} = s_{ij}(1-s_{ij}) $$\n",
    "\n",
    "- For each t, $f_\\theta$ is a $J \\times 3$ matrix: \n",
    "$$\\begin{bmatrix} s_{ij}\\left(p_j - \\sum_k s_{ik}p_k \\right)\\nu_{1i}  &  s_{ij}\\left(x_j - \\sum_k s_{ik}x_k \\right)\\nu_{1i} & s_{ij}\\left(x_j - \\sum_k s_{ik}x_k \\right)\\nu_{2i} \\end{bmatrix}_{j} $$\n",
    "\n",
    "All matrices are stacked $J \\times \\cdot$ over $T$ markets"
   ]
  },
  {
   "cell_type": "code",
   "execution_count": 14,
   "id": "0ec8bf33",
   "metadata": {},
   "outputs": [
    {
     "data": {
      "text/plain": [
       "gmm_gradient (generic function with 1 method)"
      ]
     },
     "execution_count": 14,
     "metadata": {},
     "output_type": "execute_result"
    }
   ],
   "source": [
    "# returns residuals for a given δ, estimates linear parameters given instruments\n",
    "resid = function(δ_jt, x_jt, z_jt, W)\n",
    "    # iv-gmm\n",
    "    θ₁ = inv(x_jt' * z_jt * W * z_jt' * x_jt) * (x_jt' * z_jt * W * z_jt' * δ_jt)\n",
    "    ξ_jt = δ_jt - x_jt * θ₁\n",
    "    \n",
    "    return ξ_jt, θ₁ \n",
    "    \n",
    "end\n",
    "\n",
    "# calculates gmm objective for outer loop\n",
    "function gmm_objective(ξ_jt, z_jt, W)   \n",
    "    # empirical moments, weighting matrix\n",
    "    g = (ξ_jt' * z_jt) / size(ξ_jt)[1] \n",
    "    \n",
    "    # gmm objective\n",
    "    G = g * W * g'\n",
    "    \n",
    "    return G\n",
    "end\n",
    "\n",
    "# performs outer loop\n",
    "function outer_loop(θ₂, s_t, x_t, x_jt, z_jt, v, W, tol = 1e-12, max_iter = nothing)\n",
    "    # Pass through guess\n",
    "    Γ = [θ₂[1] 0 ; θ₂[2] θ₂[3]] # lower triangular\n",
    "    \n",
    "    # Perform inner loop\n",
    "    δ = market_iterate(Γ, s_t, x_t, v, tol, max_iter)\n",
    "    \n",
    "    # convert to JT x 1 (stacked J x 1 vectors for each t)\n",
    "    δ_jt = vec(reduce(hcat,δ)) \n",
    "    \n",
    "    # intermediate step\n",
    "    ξ_jt, θ₁ = resid(δ_jt, x_jt, z_jt, W)\n",
    "    \n",
    "    # gmm step\n",
    "    G = gmm_objective(ξ_jt, z_jt, W)\n",
    "    \n",
    "    return G\n",
    "end\n",
    "\n",
    "# Steps to calculate gradient...\n",
    "# have data s_t, x_t, z_t\n",
    "# first step will return θ           -> Γ  x\n",
    "# 1. run market_iterate() with Γ     -> δ  x\n",
    "# 2. run resid() with δ              -> ξ x\n",
    "# 3. calculate W with ξ and Z        -> W x\n",
    "# 4. calculate J with δ and Γ*       -> J  x\n",
    "# *(for each i, calculate s_ij vector, do elementwise mult with p_j, ν, and sum to get f_xi loop through j,k for f_theta)\n",
    "# 5. run gradient() with J, W, ξ, Z  -> ∇\n",
    "\n",
    "# helper function in gradient call: for each market get Jacobian of ξ(θ)\n",
    "function jacobian_xi(δ, Γ, x, ν)\n",
    "    # need individual shares\n",
    "    numerator = exp.(δ .+ x * Γ * ν)\n",
    "    denominator = sum(numerator, dims = 1) .+ 1\n",
    "    shares = numerator ./ denominator # J x L\n",
    "    \n",
    "    # calculate partials of f(θ) = s - S(ξ,θ), denoted fξ and fθ\n",
    "    fξ_store = []\n",
    "    fθ_store = [] \n",
    "    for i = 1:size(ν)[2]\n",
    "        s_i = shares[:,i]\n",
    "        ν_i = ν[:,i]\n",
    "        \n",
    "        fξ_i = s_i * s_i' + diagm(s_i)\n",
    "        \n",
    "        fθ₁ = s_i .* (x[:,1] .- (s_i' * x[:,1])) .* ν[1]\n",
    "        fθ₂ = s_i .* (x[:,2] .- (s_i' * x[:,2])) .* ν[1]\n",
    "        fθ₃ = s_i .* (x[:,2] .- (s_i' * x[:,2])) .* ν[2]\n",
    "        fθ_i = hcat(fθ₁, fθ₂, fθ₃)\n",
    "        \n",
    "        push!(fξ_store, fξ_i)\n",
    "        push!(fθ_store, fθ_i)        \n",
    "    end\n",
    "    \n",
    "    # calculate Jacobian\n",
    "    J = inv(mean(fξ_store)) * mean(fθ_store)\n",
    "    \n",
    "    return J\n",
    "end\n",
    "    \n",
    "function gmm_gradient(Γ, s_t, x_t, x_jt, z_jt, ν, W)\n",
    "    # Recover model objects from estimates parameters: Γ, and data: s_t, x_t, z_t, and ν (simulated)    \n",
    "    # δ(θ)\n",
    "    δ = market_iterate(Γ, s_t, x_t, ν)\n",
    "    \n",
    "    # ξ(θ)\n",
    "    δ_jt = vec(reduce(hcat,δ)) \n",
    "    ξ_jt = resid(δ_jt, x_jt, z_jt, W)[1]\n",
    "    \n",
    "    # Analytic matrices\n",
    "    # Jacobian\n",
    "    J_t = []\n",
    "    for t = 1:size(x_t)[1]\n",
    "        push!(J_t, jacobian_xi(δ[t], Γ, x_t[t], ν))\n",
    "    end\n",
    "    J = reduce(vcat, J_t) # flatten to JT x 3 matrix\n",
    "    \n",
    "    # Weighting\n",
    "    W = inv((z_jt .* ξ_jt)' * (z_jt .* ξ_jt)) * size(ξ_jt)[1]\n",
    "    \n",
    "    # Calculate gradient\n",
    "    ∇ = 2 .* (z_jt' * J)' * W * (z_jt' * ξ_jt)\n",
    "    \n",
    "    return ∇\n",
    "end"
   ]
  },
  {
   "cell_type": "code",
   "execution_count": 8,
   "id": "4de43a5e",
   "metadata": {},
   "outputs": [
    {
     "data": {
      "text/plain": [
       "2×100 Matrix{Float64}:\n",
       " 0.123561  -0.201126  0.780628  -0.0984454  …   1.12778  -0.902155  -0.133108\n",
       " 0.805005  -0.780405  0.901409  -2.97667       -2.54691  -0.226052  -0.613839"
      ]
     },
     "execution_count": 8,
     "metadata": {},
     "output_type": "execute_result"
    }
   ],
   "source": [
    "δ₀ = ones(6)\n",
    "Γ = [1 0 ; 1 1]\n",
    "ν = draw_sim([0;0], [1 0;0 1], 100)"
   ]
  },
  {
   "cell_type": "code",
   "execution_count": 15,
   "id": "eaa21c7f",
   "metadata": {},
   "outputs": [
    {
     "data": {
      "text/plain": [
       "3-element Vector{Float64}:\n",
       " 3680.5241722683304\n",
       "  -70.92996860955493\n",
       " -462.1116407197002"
      ]
     },
     "execution_count": 15,
     "metadata": {},
     "output_type": "execute_result"
    }
   ],
   "source": [
    "# delt = market_iterate(Γ, s_t, x_t, ν,1e-12,100)\n",
    "\n",
    "w = inv(z_jt' * z_jt) * size(z_jt)[1]\n",
    "\n",
    "# x_t[1][:,1]\n",
    "\n",
    "# shares = get_shares(delt[1], Γ, x_t[1], ν)\n",
    "\n",
    "g = gmm_gradient(Γ, s_t, x_t, x_jt, z_jt, ν, w)"
   ]
  },
  {
   "cell_type": "code",
   "execution_count": 124,
   "id": "c366fccf",
   "metadata": {},
   "outputs": [
    {
     "data": {
      "text/plain": [
       "30×3 Matrix{Float64}:\n",
       " -0.0538056    0.0193898    0.176645\n",
       " -0.0103725   -0.0587022   -0.53479\n",
       "  0.0692869   -0.0495491   -0.451403\n",
       " -0.00318613  -0.0494922   -0.450885\n",
       "  0.0317762    0.022883     0.208469\n",
       "  0.0688848    0.00671953   0.0612165\n",
       " -0.0538056    0.0193898    0.176645\n",
       " -0.0103725   -0.0587022   -0.53479\n",
       "  0.0692869   -0.0495491   -0.451403\n",
       " -0.00318613  -0.0494922   -0.450885\n",
       "  0.0317762    0.022883     0.208469\n",
       "  0.0688848    0.00671953   0.0612165\n",
       " -0.0538056    0.0193898    0.176645\n",
       "  ⋮                        \n",
       " -0.0538056    0.0193898    0.176645\n",
       " -0.0103725   -0.0587022   -0.53479\n",
       "  0.0692869   -0.0495491   -0.451403\n",
       " -0.00318613  -0.0494922   -0.450885\n",
       "  0.0317762    0.022883     0.208469\n",
       "  0.0688848    0.00671953   0.0612165\n",
       " -0.0538056    0.0193898    0.176645\n",
       " -0.0103725   -0.0587022   -0.53479\n",
       "  0.0692869   -0.0495491   -0.451403\n",
       " -0.00318613  -0.0494922   -0.450885\n",
       "  0.0317762    0.022883     0.208469\n",
       "  0.0688848    0.00671953   0.0612165"
      ]
     },
     "execution_count": 124,
     "metadata": {},
     "output_type": "execute_result"
    }
   ],
   "source": [
    "J_t = []\n",
    "for t = 1:5\n",
    "    push!(J_t, jacobian(delt[1], Γ, x_t[1], ν))\n",
    "end\n",
    "\n",
    "J_t[1]\n",
    "reduce(vcat, J_t)"
   ]
  },
  {
   "cell_type": "code",
   "execution_count": 104,
   "id": "a270c284",
   "metadata": {},
   "outputs": [
    {
     "data": {
      "text/plain": [
       "600×7 Matrix{Float64}:\n",
       " -6.36336    -5.50945   -5.37102   …  -1.93707   -0.34181    -0.210973\n",
       " -5.19816    -4.39604   -4.26527      -3.49809   -2.33013    -1.55758\n",
       " -0.0408355   0.835758  -0.520122      0.768238  -0.973296   -0.799984\n",
       " -1.53891    -1.1727     0.189448      1.51942   -0.264684   -1.33837\n",
       "  0.758555   -0.70047    0.723864     -1.28846    0.0804491   3.31633\n",
       "  1.04464    -0.724283  -1.32533   …  -0.922602   1.71668     2.15453\n",
       " -5.87798    -4.01759   -5.99733      -1.8697     0.298796    0.470776\n",
       " -6.24899    -4.75995   -5.71777      -3.64392   -1.61345    -0.153134\n",
       "  0.851501    0.426509   1.73536      -1.09451   -0.576743   -2.18476\n",
       "  1.74984     2.34954   -0.404193     -0.860983   0.153472   -0.743471\n",
       "  0.0580351  -1.19704    1.10368   …   0.265751  -1.58688     1.56558\n",
       " -0.181291   -0.372407   0.763489      0.520254   0.125024    3.14475\n",
       " -6.18583    -4.48453   -5.34863      -2.46034   -0.186484   -0.0839182\n",
       "  ⋮                                ⋱              ⋮          \n",
       " -4.5633     -4.7652    -5.81981      -0.588331  -0.538663   -0.868903\n",
       " -3.72946    -3.76491   -3.76198      -1.84498    1.54684    -1.41121\n",
       " -0.33291     0.874598   0.702844  …   0.48507   -0.450002    0.434155\n",
       "  0.514564   -0.272023   0.775162      0.563848   0.0818515   1.24069\n",
       " -0.569953    0.501521  -0.755502     -1.58743    1.34854     1.22385\n",
       " -1.07935    -0.932334  -1.27445       1.23879   -1.41791     2.02607\n",
       " -5.39031    -5.40159   -5.15114      -3.42114   -1.16052    -0.0541592\n",
       " -5.12366    -4.52168   -5.94662   …  -2.44171    0.872459   -0.240857\n",
       "  1.53055     1.19014   -0.999596      0.313007   1.03724    -0.17263\n",
       "  1.6887     -0.331869   0.250214      0.445912  -0.737721   -0.0617626\n",
       "  0.121505    0.547611  -1.49         -0.220383   0.643245    1.27645\n",
       "  0.900583    1.74057   -0.720216      0.218609  -0.0854152   2.3265"
      ]
     },
     "execution_count": 104,
     "metadata": {},
     "output_type": "execute_result"
    }
   ],
   "source": [
    "δ_jt = vec(reduce(hcat, delt))\n",
    "z_jt"
   ]
  },
  {
   "cell_type": "code",
   "execution_count": 115,
   "id": "3765b25d",
   "metadata": {},
   "outputs": [
    {
     "data": {
      "text/plain": [
       "7×7 Matrix{Float64}:\n",
       "  0.00417211   -0.00115626   -0.00174725   …  -5.87426e-5   -0.00128971\n",
       " -0.00115626    0.00446283   -0.00199852      -0.000183901   0.000156218\n",
       " -0.00174725   -0.00199852    0.00438948      -0.000482567   0.000395504\n",
       " -0.00197874    0.000243024   0.000267834      3.56317e-6    0.000798649\n",
       " -0.000504168  -0.000780754  -0.000550856      0.000684392   3.69086e-5\n",
       " -5.87426e-5   -0.000183901  -0.000482567  …   0.00689566    0.000495682\n",
       " -0.00128971    0.000156218   0.000395504      0.000495682   0.00130443"
      ]
     },
     "execution_count": 115,
     "metadata": {},
     "output_type": "execute_result"
    }
   ],
   "source": [
    "w = z_jt' * z_jt\n",
    "ξ = resid(δ_jt, x_jt, z_jt, w)[1]\n",
    "\n",
    "inv((z_jt .* ξ)' * (z_jt .* ξ)) * size(ξ)[1]\n"
   ]
  },
  {
   "cell_type": "code",
   "execution_count": 99,
   "id": "801070b8",
   "metadata": {},
   "outputs": [
    {
     "data": {
      "text/plain": [
       "(0.21896565080926234, [0.085603451180656 -0.034882942297747 … -0.005707878298005312 -0.005566964348651631; -0.03488294229774701 0.08969824619390354 … 0.007811092682178221 -0.005534110983618899; … ; -0.005707878298005316 0.007811092682178222 … 0.12877094892746987 0.002128356730109853; -0.005566964348651642 -0.0055341109836188895 … 0.0021283567301098524 0.09548174494899414])"
      ]
     },
     "execution_count": 99,
     "metadata": {},
     "output_type": "execute_result"
    }
   ],
   "source": [
    "g, w = outer_loop([1 1 1], s_t, x_t, x_jt, z_jt, ν)"
   ]
  },
  {
   "cell_type": "code",
   "execution_count": 101,
   "id": "ef99ae51",
   "metadata": {},
   "outputs": [
    {
     "data": {
      "text/plain": [
       "0.21896565080926234"
      ]
     },
     "execution_count": 101,
     "metadata": {},
     "output_type": "execute_result"
    }
   ],
   "source": [
    "optimize(θ₂ -> outer_loop!())"
   ]
  },
  {
   "cell_type": "code",
   "execution_count": null,
   "id": "d3508338",
   "metadata": {},
   "outputs": [],
   "source": []
  }
 ],
 "metadata": {
  "kernelspec": {
   "display_name": "Julia 1.7.2",
   "language": "julia",
   "name": "julia-1.7"
  },
  "language_info": {
   "file_extension": ".jl",
   "mimetype": "application/julia",
   "name": "julia",
   "version": "1.7.2"
  }
 },
 "nbformat": 4,
 "nbformat_minor": 5
}
