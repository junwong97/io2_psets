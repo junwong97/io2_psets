{
 "cells": [
  {
   "cell_type": "markdown",
   "id": "seeing-accuracy",
   "metadata": {},
   "source": [
    "# Question 2: Homogeneous Coefficients with Demographics"
   ]
  },
  {
   "cell_type": "code",
   "execution_count": 35,
   "id": "rural-audio",
   "metadata": {},
   "outputs": [],
   "source": [
    "using Plots, DataFrames, CSV, GLM\n",
    "using Optim, Distributions, Random, ForwardDiff\n",
    "using LinearAlgebra,StatsFuns, LaTeXTabulars"
   ]
  },
  {
   "cell_type": "code",
   "execution_count": 6,
   "id": "burning-jamaica",
   "metadata": {
    "scrolled": true
   },
   "outputs": [],
   "source": [
    "df = DataFrame(CSV.File(\"../data/ps1_ex2.csv\"));\n",
    "products = sort(unique(df, [\"choice\"]));\n",
    "\n",
    "# construct vectors\n",
    "D = Array(df[:,[\"d.1\", \"d.2\"]]);\n",
    "X = Array(products[:, [\"x.1\", \"x.2\", \"x.3\"]]);\n",
    "C = Array(df[:,[\"choice\"]]);\n",
    "Y = zeros(size(D)[1], size(X)[1]);\n",
    "# for now brute force but probably better way to do this\n",
    "for i in 1:size(Y)[1]\n",
    "    Y[i, C[i]] = 1;\n",
    "end "
   ]
  },
  {
   "cell_type": "markdown",
   "id": "abroad-gateway",
   "metadata": {},
   "source": [
    "# Part 5: Estimating $(\\delta, \\Gamma)$\n",
    "Building a log-likelihood function:\n",
    "$$ \\sum_i \\sum_j y_{ij} \\left[ \\delta_j + d_i' \\Gamma x_j - \\log \\left( {\\sum_{k=1}^{31} \\exp(\\delta_k + d_i' \\Gamma x_k)} \\right) \\right]  $$\n",
    "\n",
    "Inputs are:\n",
    "- $X$ is a $31 \\times 3$ matrix of 31 products with 3 characteristics\n",
    "- $D$ is a $4000 \\times 2$ matrix of 4000 individuals with 2 demographic observables\n",
    "- $Y$ is a $4000 \\times 31$ matrix of 4000 individuals choosing one of 31 products\n",
    "\n",
    "The parameters to be estimated should have the following dimensions:\n",
    "- $\\delta$ should be a vector with 31 rows \n",
    "- $\\Gamma$ should be a $2 \\times 3$ matrix of coefficients\n",
    "\n",
    "In theory I could provide the gradient to speed this up, but it is fast enough so I won't do that."
   ]
  },
  {
   "cell_type": "code",
   "execution_count": 7,
   "id": "latin-tobacco",
   "metadata": {},
   "outputs": [
    {
     "data": {
      "text/plain": [
       "#7 (generic function with 1 method)"
      ]
     },
     "execution_count": 7,
     "metadata": {},
     "output_type": "execute_result"
    }
   ],
   "source": [
    "# Likelihood \n",
    "ll = function(δ, Γ)\n",
    "    likelihood = 0\n",
    "    for i in 1:size(D)[1]\n",
    "        likelihood += (Y[i,:]' * (δ + (D[i, :]' * Γ * X')')) - log(sum(exp.(δ + (D[i, :]' * Γ * X')')))\n",
    "    end\n",
    "    return -likelihood # notice that we are returning the negative likelihood\n",
    "end\n",
    "\n",
    "# Optim wrapper (since it takes one vector as argument)\n",
    "ll_wrap = function(x)\n",
    "    δ = x[1:31]\n",
    "    δ[31] = 0\n",
    "    Γ = reshape(x[32:37],2,3)\n",
    "    return ll(δ, Γ)\n",
    "end"
   ]
  },
  {
   "cell_type": "code",
   "execution_count": 41,
   "id": "flexible-general",
   "metadata": {},
   "outputs": [
    {
     "data": {
      "text/plain": [
       "2×3 Matrix{Float64}:\n",
       " 0.68645   0.300399  0.714732\n",
       " 0.500846  0.262963  0.822377"
      ]
     },
     "execution_count": 41,
     "metadata": {},
     "output_type": "execute_result"
    }
   ],
   "source": [
    "Γ"
   ]
  },
  {
   "cell_type": "code",
   "execution_count": 8,
   "id": "sealed-hundred",
   "metadata": {
    "scrolled": true
   },
   "outputs": [],
   "source": [
    "# Minimize the negative likelihood\n",
    "params0 = zeros(37);\n",
    "optimum = optimize(ll_wrap ,params0, LBFGS(), autodiff=:forward)\n",
    "MLE = optimum.minimizer;\n",
    "δ = MLE[1:31];\n",
    "Γ = reshape(MLE[32:37],2,3);"
   ]
  },
  {
   "cell_type": "code",
   "execution_count": 42,
   "id": "hungry-holder",
   "metadata": {},
   "outputs": [
    {
     "data": {
      "text/plain": [
       "\"[11, 21, 12, 22, 13, 23]\""
      ]
     },
     "execution_count": 42,
     "metadata": {},
     "output_type": "execute_result"
    }
   ],
   "source": [
    "string([11, 21, 12, 22, 13, 23])"
   ]
  },
  {
   "cell_type": "code",
   "execution_count": 43,
   "id": "equal-cartridge",
   "metadata": {},
   "outputs": [],
   "source": [
    "# delta\n",
    "delta = hcat(\"\\$\\\\gamma_{\" .* string.(1:31) .* \"}\\$\", round.(δ, digits = 3))\n",
    "latex_tabular(\"output/ps1_q2_deltas.tex\",\n",
    "              Tabular(\"cc\"),\n",
    "              [Rule(:top),\n",
    "               delta,\n",
    "               Rule(:bottom)])\n",
    "\n",
    "# Gamma\n",
    "gamma = hcat(\"\\$\\\\gamma_{\" .* [\"11\", \"21\", \"12\", \"22\", \"13\", \"23\"] .* \"}\\$\", round.(MLE[32:37], digits = 3))\n",
    "latex_tabular(\"output/ps1_q2_gammas.tex\",\n",
    "              Tabular(\"cc\"),\n",
    "              [Rule(:top),\n",
    "               gamma,\n",
    "               Rule(:bottom)])\n"
   ]
  },
  {
   "cell_type": "markdown",
   "id": "baking-controversy",
   "metadata": {},
   "source": [
    "## Double check coefficients\n",
    "Here I am using the FOC for $\\delta_j$ to verify that the estimated coefficients yield predicted shares that match the data:\n",
    "$$ \\frac{1}{N} \\sum_i y_{ij} = \\frac{1}{N} \\sum_i \\frac{\\exp(\\delta_j + d_i ' \\Gamma x_j)}{\\sum_k \\exp(\\delta_k + d_i ' \\Gamma x_k)} $$"
   ]
  },
  {
   "cell_type": "code",
   "execution_count": 11,
   "id": "developmental-period",
   "metadata": {},
   "outputs": [
    {
     "data": {
      "text/plain": [
       "1.8898771436681727e-12"
      ]
     },
     "execution_count": 11,
     "metadata": {},
     "output_type": "execute_result"
    }
   ],
   "source": [
    "# Predicted shares\n",
    "pred_s = zeros(31)\n",
    "for i in 1:size(D)[1]\n",
    "    pred_s += exp.(δ + X * Γ' * D[i,:]) / sum(exp.(δ + X * Γ' * D[i,:]))\n",
    "end\n",
    "pred_s = pred_s / 4000\n",
    "\n",
    "# Actual shares\n",
    "data_s = mean(Y,dims=1)'\n",
    " \n",
    "# Now put them next to each other: yay!\n",
    "maximum(pred_s .- data_s)"
   ]
  },
  {
   "cell_type": "markdown",
   "id": "surprised-copyright",
   "metadata": {},
   "source": [
    "# Part 7: Obtaining estimate of $\\beta$\n",
    "The proposed moment condition is simply exogeneity of the product specific term and other observed characteristics:\n",
    "\n",
    "$$E[x_j \\xi_j] = 0$$\n",
    "\n",
    "In this case, $\\beta$ can be identified from regressing the following equation; and $\\xi_j$ would be the error term\n",
    "\n",
    "$$ \\delta_j = x_j' \\beta + \\xi_j $$"
   ]
  },
  {
   "cell_type": "code",
   "execution_count": 15,
   "id": "cooperative-stadium",
   "metadata": {},
   "outputs": [
    {
     "data": {
      "text/plain": [
       "3-element Vector{Float64}:\n",
       " 0.12662593406877717\n",
       " 1.0801670028728954\n",
       " 0.6291652102638514"
      ]
     },
     "execution_count": 15,
     "metadata": {},
     "output_type": "execute_result"
    }
   ],
   "source": [
    "# Build dataframe\n",
    "products[!, :delta] = δ\n",
    "rename!(products,[:choice,:x1, :x2, :x3, :d1, :d2, :delta])\n",
    "\n",
    "# Regression\n",
    "est = lm(@formula(delta ~ 0 + x1 + x2 + x3), products)\n",
    "\n",
    "# Store estimates\n",
    "ξ = δ .- predict(est)\n",
    "β = coef(est)"
   ]
  },
  {
   "cell_type": "code",
   "execution_count": null,
   "id": "exotic-mortgage",
   "metadata": {},
   "outputs": [],
   "source": [
    "delta = hcat(\"\\$\\\\beta_{\" .* string.(1:3) .* \"}\\$\", round.(β, digits = 3))\n",
    "latex_tabular(\"output/ps1_q2_deltas.tex\",\n",
    "              Tabular(\"cc\"),\n",
    "              [Rule(:top),\n",
    "               delta,\n",
    "               Rule(:bottom)])"
   ]
  }
 ],
 "metadata": {
  "kernelspec": {
   "display_name": "Julia 1.8.2",
   "language": "julia",
   "name": "julia-1.8"
  },
  "language_info": {
   "file_extension": ".jl",
   "mimetype": "application/julia",
   "name": "julia",
   "version": "1.8.2"
  }
 },
 "nbformat": 4,
 "nbformat_minor": 5
}
