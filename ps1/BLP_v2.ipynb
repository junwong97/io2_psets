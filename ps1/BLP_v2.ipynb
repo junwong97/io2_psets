{
 "cells": [
  {
   "cell_type": "code",
   "execution_count": 11,
   "id": "6a9d95bf",
   "metadata": {},
   "outputs": [],
   "source": [
    "using Plots, DataFrames, CSV, GLM\n",
    "using Optim, Distributions, Random, ForwardDiff\n",
    "using LinearAlgebra, StatsFuns, FixedEffectModels\n",
    "using LaTeXTabulars, NBInclude\n",
    "using BlockDiagonals"
   ]
  },
  {
   "cell_type": "code",
   "execution_count": 96,
   "id": "ae54795f",
   "metadata": {},
   "outputs": [],
   "source": [
    "#== Data Parameters ==#\n",
    "Random.seed!(6789998212);\n",
    "T = 100; # Markets\n",
    "J = 6;   # Products\n",
    "L = 80;  # Simulated individuals\n",
    "\n",
    "# Inner Loop Parameters\n",
    "tol_in = 5e-5;   # Initial (global) contraction tolerance\n",
    "tol_nm = 8e-15;  # Newton Method (local) tolerance\n",
    "max_iter = 2000; # Inner loop limit"
   ]
  },
  {
   "cell_type": "code",
   "execution_count": 20,
   "id": "698f8b28",
   "metadata": {
    "scrolled": true
   },
   "outputs": [],
   "source": [
    "# DataFrame\n",
    "df = DataFrame(CSV.File(\"../data/ps1_ex4.csv\"));\n",
    "df = df[df[!, :market] .<= T, :];\n",
    "\n",
    "# Inputs\n",
    "s_jt = Array(df[!,[:shares]]); # observed market shares\n",
    "x_jt = Array(df[!,[:p, :x]]);  # product atributes\n",
    "z_jt = Array(df[!,[:z1, :z2, :z3, :z4, :z5, :z6, :x]]); # included and excluded instruments\n",
    "v = randn(2,L); # simulated individuals"
   ]
  },
  {
   "cell_type": "code",
   "execution_count": 95,
   "id": "625810b7",
   "metadata": {},
   "outputs": [
    {
     "data": {
      "text/plain": [
       "resid (generic function with 1 method)"
      ]
     },
     "execution_count": 95,
     "metadata": {},
     "output_type": "execute_result"
    }
   ],
   "source": [
    "# Inner Loop Functions\n",
    "function predict_shares(Γ, δ_jt, x_jt, v)\n",
    "    #log-sum-exp trick to avoid overflow: normalize V = u_ijt by max_j u_ijt\n",
    "    V = reshape((δ_jt .+ x_jt * Γ * v),J,T,L)\n",
    "    norm = max.(zeros(1,T,L), maximum(V, dims = 1))\n",
    "    \n",
    "    numerator = exp.(V .- norm)\n",
    "    denominator = exp.(-norm) .+ sum(numerator, dims = 1)\n",
    "    π_jtl = numerator ./ denominator\n",
    "    \n",
    "    return π_jtl\n",
    "end\n",
    "\n",
    "function inv_jacobian_ξ(π_jtl) # returns inverse Jacobian of ξ(δ,θ) = s - π(δ,θ) --> ∂ξ_∂δ = -∂π_∂δ\n",
    "    ∂π_∂δ_store = Matrix{Float64}[]\n",
    "    for t = 1:T    \n",
    "        ∂π_∂δ = (diagm(vec(sum(π_jtl[:,t,:], dims = 2))) - π_jtl[:,t,:] * π_jtl[:,t,:]') ./ vec(sum(π_jtl, dims = 3)[:,t,:])\n",
    "        push!(∂π_∂δ_store, inv(∂π_∂δ))\n",
    "        end\n",
    "    ∂π_∂δ = BlockDiagonal(∂π_∂δ_store)\n",
    "    \n",
    "    return -∂π_∂δ\n",
    "end\n",
    "\n",
    "function solve_delta(Γ, s_jt, x_jt, v)\n",
    "    δ₀ = ones(J * T)\n",
    "    π_jtl = zeros(J * T, L)\n",
    "    err = 1000\n",
    "    iter = 0\n",
    "    iter_in = 0\n",
    "    iter_nm = 0\n",
    "    while (err > tol_nm) && (iter < max_iter)\n",
    "        iter += 1\n",
    "        π_jtl = predict_shares(Γ,δ₀,x_jt,v)\n",
    "        if (err > tol_in) # global contraction\n",
    "            δ_jt = δ₀ + log.(s_jt) - log.(vec(mean(π_jtl, dims = 3)))\n",
    "            iter_in += 1\n",
    "        else # local Newton Method\n",
    "            δ_jt = δ₀ - 0.65 * inv_jacobian_ξ(π_jtl) * (log.(s_jt) - log.(vec(mean(π_jtl, dims = 3))))\n",
    "            iter_nm += 1\n",
    "        end\n",
    "        err = maximum(abs.(δ_jt - δ₀))\n",
    "        δ₀ = δ_jt\n",
    "    end\n",
    "    \n",
    "    return δ₀, π_jtl\n",
    "end\n",
    "\n",
    "function resid(δ_jt, x_jt, z_jt)\n",
    "    θ₁ = inv(x_jt' * z_jt * w * z_jt' * x_jt) * (x_jt' * z_jt * w * z_jt' * δ_jt)\n",
    "    ξ_jt = δ_jt - (x_jt * θ₁)\n",
    "    \n",
    "    return ξ_jt, θ₁\n",
    "end"
   ]
  },
  {
   "cell_type": "code",
   "execution_count": 15,
   "id": "4369d416",
   "metadata": {},
   "outputs": [
    {
     "data": {
      "text/plain": [
       "∇ (generic function with 1 method)"
      ]
     },
     "execution_count": 15,
     "metadata": {},
     "output_type": "execute_result"
    }
   ],
   "source": [
    "# Outer Loop Functions\n",
    "function gmm_objective(ξ_jt, z_jt)\n",
    "    g = (z_jt' * ξ_jt)\n",
    "    G = g' * w * g\n",
    "    \n",
    "    return G[1]\n",
    "end\n",
    "\n",
    "function outer_loop(θ₂, s_jt, x_jt, z_jt, v)\n",
    "    Γ = [θ₂[1] 0; θ₂[2] θ₂[3]]\n",
    "    δ_jt, π_jtl = solve_delta(Γ, s_jt, x_jt, v)\n",
    "    ξ_jt, θ₁ = resid(δ_jt, x_jt, z_jt)\n",
    "    G = gmm_objective(ξ_jt, z_jt)\n",
    "    \n",
    "    return G, ξ_jt, θ₁, π_jtl\n",
    "end\n",
    "\n",
    "function f(θ₂)\n",
    "    f, ξ_jt, θ₁, π_jtl = outer_loop(θ₂, s_jt, x_jt, z_jt, v)\n",
    "    \n",
    "    return f\n",
    "end\n",
    "\n",
    "function gmm_gradient(θ₂, ξ_jt, π_jtl, x_jt, z_jt, v)\n",
    "    # Implicit function theorem: ∂G_∂θ = (∂G_∂ξ * ∂ξ_∂θ)' = (∂G_∂ξ * (-1 * ∂π_∂ξ⁻¹ * ∂π_∂θ))'\n",
    "    \n",
    "    ∂G_∂ξ = 2 * (z_jt' * ξ_jt)' * w * z_jt'\n",
    "\n",
    "    # Jacobian    \n",
    "    x_t = reshape(x_jt, J, T, 2)\n",
    "    ∂ξ_∂θ_store = []\n",
    "    for t = 1:T    \n",
    "        ∂π_∂γ₁₁ = π_jtl[:,t,:] .* (x_t[:,t,1] .- (π_jtl[:,t,:]' * x_t[:,t,1])') .* v[1,:]'\n",
    "        ∂π_∂γ₂₁ = π_jtl[:,t,:] .* (x_t[:,t,2] .- (π_jtl[:,t,:]' * x_t[:,t,2])') .* v[1,:]'\n",
    "        ∂π_∂γ₂₂ = π_jtl[:,t,:] .* (x_t[:,t,2] .- (π_jtl[:,t,:]' * x_t[:,t,2])') .* v[2,:]'\n",
    "        ∂π_∂θ = hcat(mean(∂π_∂γ₁₁,dims = 2), mean(∂π_∂γ₂₁,dims = 2), mean(∂π_∂γ₂₂,dims = 2))\n",
    "    \n",
    "        ∂π_∂ξ⁻¹ = inv((diagm(vec(sum(π_jtl[:,t,:], dims = 2))) - π_jtl[:,t,:] * π_jtl[:,t,:]') / L)\n",
    "        ∂ξ_∂θ_t = -1 * ∂π_∂ξ⁻¹ * ∂π_∂θ\n",
    "        \n",
    "        push!(∂ξ_∂θ_store, ∂ξ_∂θ_t)\n",
    "    end\n",
    "    ∂ξ_∂θ = reduce(vcat,∂ξ_∂θ_store)\n",
    "    \n",
    "    ∂G_∂θ = (∂G_∂ξ * ∂ξ_∂θ)'\n",
    "    \n",
    "    return ∂G_∂θ\n",
    "end\n",
    "\n",
    "function ∇(g, θ₂)\n",
    "    f, ξ_jt, θ₁, π_jtl = outer_loop(θ₂, s_jt, x_jt, z_jt, v)\n",
    "    \n",
    "    g .= vec(gmm_gradient(θ₂, ξ_jt, π_jtl, x_jt, z_jt, v))\n",
    "end"
   ]
  },
  {
   "cell_type": "code",
   "execution_count": 97,
   "id": "7fe1c23b",
   "metadata": {},
   "outputs": [
    {
     "name": "stdout",
     "output_type": "stream",
     "text": [
      "Iter     Function value   Gradient norm \n",
      "     0     6.954119e+02     1.013296e+02\n",
      " * time: 0.0\n",
      " 30.455109 seconds (17.89 M allocations: 47.045 GiB, 3.39% gc time, 0.98% compilation time)\n",
      "θ₁: [-0.6045380558572608; -0.18869255804226323;;]\n",
      "θ₂: [1.728336027144186, -0.12342452165307399, -0.019986134921770166]\n",
      "Iter     Function value   Gradient norm \n",
      "     0     1.290784e+02     3.564592e-01\n",
      " * time: 0.0\n",
      " 18.270445 seconds (11.99 M allocations: 28.223 GiB, 3.41% gc time)\n",
      "θ₁: [-0.571879565099018; -0.19331497422578403;;]\n",
      "θ₂: [1.5903233682091689, -0.13118771446254024, -0.01840352679379876]\n"
     ]
    }
   ],
   "source": [
    "# GMM Step 1:\n",
    "params0 = ones(3)\n",
    "w = inv(z_jt' * z_jt)\n",
    "\n",
    "@time o_1 = optimize(f, ∇, params0, LBFGS(), Optim.Options(show_trace=true, show_every=10))\n",
    "G, ξ_jt, θ₁, π_jtl = outer_loop(o_1.minimizer, s_jt, x_jt, z_jt, v)\n",
    "println(\"θ₁: \", θ₁, \"\\nθ₂: \", o_1.minimizer)\n",
    "\n",
    "# GMM Step 2:\n",
    "w = inv((z_jt .* ξ_jt )' * (z_jt .* ξ_jt))\n",
    "\n",
    "@time o_2 = optimize(f, ∇, o_1.minimizer, LBFGS(), Optim.Options(show_trace=true, show_every=10))\n",
    "G, ξ_jt, θ₁, π_jtl = outer_loop(o_1.minimizer, s_jt, x_jt, z_jt, v)\n",
    "println(\"θ₁: \", θ₁, \"\\nθ₂: \", o_2.minimizer)"
   ]
  },
  {
   "cell_type": "code",
   "execution_count": 81,
   "id": "25db446f",
   "metadata": {},
   "outputs": [
    {
     "data": {
      "text/plain": [
       "6×6 Matrix{Float64}:\n",
       "  0.00481492   -0.000861015  -0.0152794  -0.0131148  -0.0238666  -0.0266219\n",
       " -0.00129486    0.00479095   -0.0149898  -0.0131016  -0.0232241  -0.0280811\n",
       " -0.000336514  -0.000146311  -0.156318    0.0377787   0.260481    0.268805\n",
       " -0.000412698  -0.000167494   0.0515264  -0.482733    0.326881    0.420136\n",
       " -0.000165373  -0.00017912    0.167326    0.0598248  -0.359199    0.477404\n",
       " -0.000198954  -8.27704e-5    0.0967665   0.0885238   0.364493   -0.285644"
      ]
     },
     "metadata": {},
     "output_type": "display_data"
    }
   ],
   "source": [
    "# Elasticities\n",
    "θ₂ = o_2.minimizer\n",
    "Γ = [θ₂[1] 0 ; θ₂[2] θ₂[3]]\n",
    "\n",
    "δ_jt, π_jtl = solve_delta(Γ, s_jt, x_jt, v)\n",
    "x_t = reshape(x_jt, J, T, 2)\n",
    "s_t = reshape(s_jt, J, T)\n",
    "\n",
    "αᵢ = θ₁[1] .+ θ₂[1] .* v[1,:]\n",
    "\n",
    "η = [] \n",
    "for t in 1:T\n",
    "    η_t = zeros(6,6)    \n",
    "    for j in 1:6 \n",
    "        for k in 1:6\n",
    "            if j == k\n",
    "                η_t[j,k] = - mean(αᵢ .* π_jtl[j,t,:] .* (1 .- π_jtl[j,t,:])) * x_t[j,t,1] / s_t[j,t]\n",
    "            else\n",
    "                η_t[j,k] = mean(αᵢ .* π_jtl[j,t,:] .* π_jtl[k,t,:]) * x_t[k,t,1] / s_t[j,t] \n",
    "            end\n",
    "        end\n",
    "    end\n",
    "    push!(η,η_t)\n",
    "end\n",
    "\n",
    "display(mean(η))"
   ]
  },
  {
   "cell_type": "code",
   "execution_count": 49,
   "id": "447309bf",
   "metadata": {},
   "outputs": [],
   "source": [
    "params0 = ones(3)\n",
    "w = inv(z_jt' * z_jt)\n",
    "Γ = [2 -2.3; 0 -0.3]\n",
    "#Γ = [2 -0.1; 0 -0.2]\n",
    "\n",
    "δ_jt, π_jtl = solve_delta(Γ, s_jt, x_jt, v);"
   ]
  }
 ],
 "metadata": {
  "kernelspec": {
   "display_name": "Julia 1.7.2",
   "language": "julia",
   "name": "julia-1.7"
  },
  "language_info": {
   "file_extension": ".jl",
   "mimetype": "application/julia",
   "name": "julia",
   "version": "1.7.2"
  }
 },
 "nbformat": 4,
 "nbformat_minor": 5
}
