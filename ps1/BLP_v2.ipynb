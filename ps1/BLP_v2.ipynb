{
 "cells": [
  {
   "cell_type": "code",
   "execution_count": 2,
   "id": "7131e33d",
   "metadata": {},
   "outputs": [],
   "source": [
    "using Plots, DataFrames, CSV, GLM\n",
    "using Optim, Distributions, Random, ForwardDiff\n",
    "using LinearAlgebra, StatsFuns, FixedEffectModels\n",
    "using LaTeXTabulars, NBInclude"
   ]
  },
  {
   "cell_type": "code",
   "execution_count": 75,
   "id": "b30ebaa2",
   "metadata": {},
   "outputs": [],
   "source": [
    "# Data Parameters\n",
    "Random.seed!(6789998212);\n",
    "T = 100;\n",
    "J = 6;\n",
    "L = 50;\n",
    "\n",
    "# Estimation Parameters\n",
    "tol = 1e-15;\n",
    "max_iter = 10000;"
   ]
  },
  {
   "cell_type": "code",
   "execution_count": 67,
   "id": "07bc42f4",
   "metadata": {
    "scrolled": true
   },
   "outputs": [],
   "source": [
    "# DataFrame\n",
    "df = DataFrame(CSV.File(\"../data/ps1_ex4.csv\"));\n",
    "df = df[df[!, :market] .<= T, :];\n",
    "\n",
    "# Inputs\n",
    "s_jt = Array(df[!,[:shares]]);\n",
    "x_jt = Array(df[!,[:p, :x]]);\n",
    "z_jt = Array(df[!,[:z1, :z2, :z3, :z4, :z5, :z6, :x]]);\n",
    "v = randn(2,L);"
   ]
  },
  {
   "cell_type": "code",
   "execution_count": 5,
   "id": "86770f8d",
   "metadata": {},
   "outputs": [
    {
     "data": {
      "text/plain": [
       "resid (generic function with 1 method)"
      ]
     },
     "execution_count": 5,
     "metadata": {},
     "output_type": "execute_result"
    }
   ],
   "source": [
    "# Inner Loop Functions\n",
    "function predict_shares(Γ, δ_jt, x_jt, v)\n",
    "    # Normalize each individual's utility by maximum among products in each market\n",
    "    numerator = reshape(exp.(δ_jt .+ x_jt * Γ * v),J,T,L)\n",
    "    norm = maximum(numerator, dims = 1)\n",
    "    denominator = (1 ./ norm) .+ sum(numerator ./ norm, dims = 1)\n",
    "    π_jtl = (numerator ./ norm) ./ denominator\n",
    "    \n",
    "    return π_jtl\n",
    "end\n",
    "\n",
    "function solve_delta(Γ, s_jt, x_jt, v)\n",
    "    δ₀ = ones(J * T)\n",
    "    π_jtl = zeros(J * T, L)\n",
    "    err = 1000\n",
    "    iter = 0\n",
    "    while (err > tol) && (iter < max_iter)\n",
    "        iter += 1\n",
    "        π_jtl = predict_shares(Γ,δ₀,x_jt,v)\n",
    "        δ_jt = δ₀ + log.(s_jt) - log.(vec(mean(π_jtl, dims = 3)))\n",
    "        err = maximum(abs.(δ_jt - δ₀))\n",
    "        δ₀ = δ_jt\n",
    "    end\n",
    "    \n",
    "    return δ₀, π_jtl\n",
    "end\n",
    "\n",
    "function resid(δ_jt, x_jt, z_jt)\n",
    "    θ₁ = inv(x_jt' * z_jt * w * z_jt' * x_jt) * (x_jt' * z_jt * w * z_jt' * δ_jt)\n",
    "    ξ_jt = δ_jt - (x_jt * θ₁)\n",
    "    \n",
    "    return ξ_jt, θ₁\n",
    "end"
   ]
  },
  {
   "cell_type": "code",
   "execution_count": 64,
   "id": "7ff16bce",
   "metadata": {},
   "outputs": [
    {
     "data": {
      "text/plain": [
       "∇ (generic function with 1 method)"
      ]
     },
     "execution_count": 64,
     "metadata": {},
     "output_type": "execute_result"
    }
   ],
   "source": [
    "# Outer Loop Functions\n",
    "function gmm_objective(ξ_jt, z_jt)\n",
    "    g = (z_jt' * ξ_jt)\n",
    "    G = g' * w * g\n",
    "    \n",
    "    return G[1]\n",
    "end\n",
    "\n",
    "function outer_loop(θ₂, s_jt, x_jt, z_jt, v)\n",
    "    Γ = [θ₂[1] 0; θ₂[2] θ₂[3]]\n",
    "    δ_jt, π_jtl = solve_delta(Γ, s_jt, x_jt, v)\n",
    "    ξ_jt, θ₁ = resid(δ_jt, x_jt, z_jt)\n",
    "    G = gmm_objective(ξ_jt, z_jt)\n",
    "    \n",
    "    return G, ξ_jt, θ₁, π_jtl\n",
    "end\n",
    "\n",
    "function f(θ₂)\n",
    "    f, ξ_jt, θ₁, π_jtl = outer_loop(θ₂, s_jt, x_jt, z_jt, v)\n",
    "    \n",
    "    return f\n",
    "end\n",
    "\n",
    "function gmm_gradient(θ₂, ξ_jt, π_jtl, x_jt, z_jt, v)\n",
    "    # Implicit function theorem: ∂G_∂θ = (∂G_∂ξ * ∂ξ_∂θ)' = (∂G_∂ξ * (-1 * ∂π_∂ξ⁻¹ * ∂π_∂θ))'\n",
    "    \n",
    "    ∂G_∂ξ = 2 * (z_jt' * ξ_jt)' * w * z_jt'\n",
    "\n",
    "    # Jacobian    \n",
    "    x_t = reshape(x_jt, J, T, 2)\n",
    "    ∂ξ_∂θ_store = []\n",
    "    for t = 1:T    \n",
    "        ∂π_∂γ₁₁ = π_jtl[:,t,:] .* (x_t[:,t,1] .- (π_jtl[:,t,:]' * x_t[:,t,1])') .* v[1,:]'\n",
    "        ∂π_∂γ₂₁ = π_jtl[:,t,:] .* (x_t[:,t,2] .- (π_jtl[:,t,:]' * x_t[:,t,2])') .* v[1,:]'\n",
    "        ∂π_∂γ₂₂ = π_jtl[:,t,:] .* (x_t[:,t,2] .- (π_jtl[:,t,:]' * x_t[:,t,2])') .* v[2,:]'\n",
    "        ∂π_∂θ = hcat(mean(∂π_∂γ₁₁,dims = 2), mean(∂π_∂γ₂₁,dims = 2), mean(∂π_∂γ₂₂,dims = 2))\n",
    "    \n",
    "        ∂π_∂ξ⁻¹ =  inv((diagm(vec(sum(π_jtl[:,t,:], dims = 2))) - π_jtl[:,t,:] * π_jtl[:,t,:]') / L)\n",
    "        ∂ξ_∂θ_t = -1 * ∂π_∂ξ⁻¹ * ∂π_∂θ\n",
    "        \n",
    "        push!(∂ξ_∂θ_store, ∂ξ_∂θ_t)\n",
    "    end\n",
    "    ∂ξ_∂θ = reduce(vcat,∂ξ_∂θ_store)\n",
    "    \n",
    "    ∂G_∂θ = (∂G_∂ξ * ∂ξ_∂θ)'\n",
    "    \n",
    "    return ∂G_∂θ\n",
    "end\n",
    "\n",
    "function ∇(g, θ₂)\n",
    "    f, ξ_jt, θ₁, π_jtl = outer_loop(θ₂, s_jt, x_jt, z_jt, v)\n",
    "    \n",
    "    g .= vec(gmm_gradient(θ₂, ξ_jt, π_jtl, x_jt, z_jt, v))\n",
    "end"
   ]
  },
  {
   "cell_type": "code",
   "execution_count": 76,
   "id": "a07a26e7",
   "metadata": {},
   "outputs": [
    {
     "name": "stdout",
     "output_type": "stream",
     "text": [
      "Iter     Function value   Gradient norm \n",
      "     0     6.929249e+02     1.130370e+02\n",
      " * time: 0.0009999275207519531\n",
      "271.337064 seconds (27.58 M allocations: 499.569 GiB, 3.75% gc time)\n",
      "θ₁: [-0.8327531232301121; -0.13282468939262082;;]\n",
      "θ₂: [2.2788566887155226, -0.15545207614169115, -0.049983136071876745]\n",
      "Iter     Function value   Gradient norm \n",
      "     0     1.280309e+02     2.875545e-01\n",
      " * time: 0.02700018882751465\n",
      "188.133183 seconds (19.52 M allocations: 353.856 GiB, 3.79% gc time)\n",
      "θ₁: [-0.8366245334216116; -0.06574765763623155;;]\n",
      "θ₂: [2.208558323516242, -0.1619141609897849, -0.054018795744109824]\n"
     ]
    }
   ],
   "source": [
    "# GMM Step 1:\n",
    "params0 = ones(3)\n",
    "w = inv(z_jt' * z_jt)\n",
    "\n",
    "@time o_1 = optimize(f, ∇, params0, LBFGS(), Optim.Options(show_trace=true, show_every=10))\n",
    "G, ξ_jt, θ₁, π_jtl = outer_loop(o_1.minimizer, s_jt, x_jt, z_jt, v)\n",
    "println(\"θ₁: \", θ₁, \"\\nθ₂: \", o_1.minimizer)\n",
    "\n",
    "# GMM Step 2:\n",
    "w = inv((z_jt .* ξ_jt )' * (z_jt .* ξ_jt))\n",
    "\n",
    "@time o_2 = optimize(f, ∇, o_1.minimizer, LBFGS(), Optim.Options(show_trace=true, show_every=10))\n",
    "G, ξ_jt, θ₁, π_jtl = outer_loop(o_1.minimizer, s_jt, x_jt, z_jt, v)\n",
    "println(\"θ₁: \", θ₁, \"\\nθ₂: \", o_2.minimizer)"
   ]
  },
  {
   "cell_type": "code",
   "execution_count": 81,
   "id": "8a433554",
   "metadata": {},
   "outputs": [
    {
     "data": {
      "text/plain": [
       "6×6 Matrix{Float64}:\n",
       "  0.00481492   -0.000861015  -0.0152794  -0.0131148  -0.0238666  -0.0266219\n",
       " -0.00129486    0.00479095   -0.0149898  -0.0131016  -0.0232241  -0.0280811\n",
       " -0.000336514  -0.000146311  -0.156318    0.0377787   0.260481    0.268805\n",
       " -0.000412698  -0.000167494   0.0515264  -0.482733    0.326881    0.420136\n",
       " -0.000165373  -0.00017912    0.167326    0.0598248  -0.359199    0.477404\n",
       " -0.000198954  -8.27704e-5    0.0967665   0.0885238   0.364493   -0.285644"
      ]
     },
     "metadata": {},
     "output_type": "display_data"
    }
   ],
   "source": [
    "# Elasticities\n",
    "θ₂ = o_2.minimizer\n",
    "Γ = [θ₂[1] 0 ; θ₂[2] θ₂[3]]\n",
    "\n",
    "δ_jt, π_jtl = solve_delta(Γ, s_jt, x_jt, v)\n",
    "x_t = reshape(x_jt, J, T, 2)\n",
    "s_t = reshape(s_jt, J, T)\n",
    "\n",
    "αᵢ = θ₁[1] .+ θ₂[1] .* v[1,:]\n",
    "\n",
    "η = [] \n",
    "for t in 1:T\n",
    "    η_t = zeros(6,6)    \n",
    "    for j in 1:6 \n",
    "        for k in 1:6\n",
    "            if j == k\n",
    "                η_t[j,k] = - mean(αᵢ .* π_jtl[j,t,:] .* (1 .- π_jtl[j,t,:])) * x_t[j,t,1] / s_t[j,t]\n",
    "            else\n",
    "                η_t[j,k] = mean(αᵢ .* π_jtl[j,t,:] .* π_jtl[k,t,:]) * x_t[k,t,1] / s_t[j,t] \n",
    "            end\n",
    "        end\n",
    "    end\n",
    "    push!(η,η_t)\n",
    "end\n",
    "\n",
    "display(mean(η))"
   ]
  }
 ],
 "metadata": {
  "kernelspec": {
   "display_name": "Julia 1.7.2",
   "language": "julia",
   "name": "julia-1.7"
  },
  "language_info": {
   "file_extension": ".jl",
   "mimetype": "application/julia",
   "name": "julia",
   "version": "1.7.2"
  }
 },
 "nbformat": 4,
 "nbformat_minor": 5
}
